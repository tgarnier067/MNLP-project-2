{
 "cells": [
  {
   "cell_type": "markdown",
   "id": "defd7c0e-5e01-4f7e-bb56-42760cbcbc74",
   "metadata": {},
   "source": [
    "We evaluate the corrections produced by our models. Since we are dealing with a large number of models applied to 48 different texts — each containing approximately 60,000 characters — manually annotating the entire dataset would be prohibitively time-consuming. To make the evaluation process feasible while still obtaining meaningful insights, we opt for a lightweight annotation strategy. Specifically, we evaluate only three sentences per corrected text:\n",
    "\n",
    "- One fixed sentence, chosen to ensure consistency across all evaluations.\n",
    "- Two additional sentences randomly selected from the text, to capture variation and provide a more representative sample of the model's performance.\n",
    "\n",
    "This approach balances annotation efficiency with evaluation reliability."
   ]
  },
  {
   "cell_type": "markdown",
   "id": "71fe65ba-be1c-45fb-af38-25b84dad6d0a",
   "metadata": {},
   "source": [
    "| **Score**         | **Criteria**                                                                                                                                                                    |\n",
    "| ----------------- | ------------------------------------------------------------------------------------------------------------------------------------------------------------------------------- |\n",
    "| **1 - Very Poor** | The text remains largely unreadable. Numerous errors persist (spelling, grammar, punctuation). The overall meaning is lost or extremely unclear. Little to no improvement made. |\n",
    "| **2 - Poor**      | Slightly more readable than the original, but many errors remain. Several sentences are incorrect or ambiguous. Words are still distorted or missing.                           |\n",
    "| **3 - Fair**      | Most obvious errors have been corrected. The text is generally understandable, but noticeable mistakes and awkward phrasing remain. The flow may be choppy.                     |\n",
    "| **4 - Good**      | The text is readable and coherent. Only minor errors remain. There’s overall consistency, though a few syntax or word choice issues may still be present.                       |\n",
    "| **5 - Excellent** | The text is fully corrected: no detectable mistakes, perfect grammar, punctuation, and syntax. The result is fluent, natural, and faithful to the original content.             |\n"
   ]
  },
  {
   "cell_type": "markdown",
   "id": "8c298969-ee76-4874-b88e-3602658765e9",
   "metadata": {},
   "source": [
    "# OCR text"
   ]
  },
  {
   "cell_type": "code",
   "execution_count": 1,
   "id": "1fc153b0-215e-44e0-b7ea-5fcaedbb4293",
   "metadata": {},
   "outputs": [
    {
     "name": "stdout",
     "output_type": "stream",
     "text": [
      "\n",
      "=== Texte 0 ===\n",
      "\n",
      "🔹 Fixed sentence :\n",
      "THE VAMPYRE.\n",
      "A Tale.\n",
      "By John William Polidori\n",
      "THE superstition upon which this was founded is very general in the East. Among the Arabs it appeared to be common: it did not, however, extend itself to the Greeks until after the establishment of Christianity; and it has only assumed its present form s\n"
     ]
    },
    {
     "name": "stdin",
     "output_type": "stream",
     "text": [
      "Score for this part (1–5):  5\n"
     ]
    },
    {
     "name": "stdout",
     "output_type": "stream",
     "text": [
      "\n",
      "🔹 First random sentence :\n",
      "imself, he could not believe it possible–the dead rise up!–He thought his imagination had conjured up the image while he was asleep.\n",
      "It was frowned upon. It was impossible that it could be real; he determined, therefore, to go again into society; for though he attempted to ask concerning Lord Ruthve\n"
     ]
    },
    {
     "name": "stdin",
     "output_type": "stream",
     "text": [
      "Score for this part (1–5):  5\n"
     ]
    },
    {
     "name": "stdout",
     "output_type": "stream",
     "text": [
      "\n",
      "🔹 Second random sentence :\n",
      "nxious to forewarn, in spite of his oath, all whom Lord Ruthven approached with intimacy. But when he entered into a room, his haggard and suspicious looks were so striking, his inward shudderings so visible, that his sister was at last obliged to beg of him to abstain from seeking, for her sake, th\n"
     ]
    },
    {
     "name": "stdin",
     "output_type": "stream",
     "text": [
      "Score for this part (1–5):  4\n"
     ]
    },
    {
     "name": "stdout",
     "output_type": "stream",
     "text": [
      "\n",
      "=== Texte 1 ===\n",
      "\n",
      "🔹 Fixed sentence :\n",
      "THE VAMPYRE.\n",
      "A Tale.\n",
      "By John William Polidori\n",
      "THE SPECTRATION upon which his tale is founded is very general in the East. Among the Arahians it appears to be extinct: it did not, however, extend to the Greoks until after the establishment of Christianity; and it has only assumed its present form sin\n"
     ]
    },
    {
     "name": "stdin",
     "output_type": "stream",
     "text": [
      "Score for this part (1–5):  4\n"
     ]
    },
    {
     "name": "stdout",
     "output_type": "stream",
     "text": [
      "\n",
      "🔹 First random sentence :\n",
      "hven's being wounded, immediately thrown up their arms and surrendered.\n",
      "By promises of great reward, Avrey soon induced them to convey his wounded friend to a neighbouring cabin; and having agreed upon a ransom, he was no more disturbed by their presence–they being content morely to guard the entran\n"
     ]
    },
    {
     "name": "stdin",
     "output_type": "stream",
     "text": [
      "Score for this part (1–5):  5\n"
     ]
    },
    {
     "name": "stdout",
     "output_type": "stream",
     "text": [
      "\n",
      "🔹 Second random sentence :\n",
      "remained in town, and prepared for the next day, which had been announced in a drawing-room.\n",
      "The crowd was excessive–a drawing-room had not been held for a long time, and all who were anxious to bask in the smile of royalty, hastened thither. Aubrey was there with his sister. While he was standing i\n"
     ]
    },
    {
     "name": "stdin",
     "output_type": "stream",
     "text": [
      "Score for this part (1–5):  5\n"
     ]
    },
    {
     "name": "stdout",
     "output_type": "stream",
     "text": [
      "\n",
      "=== Texte 2 ===\n",
      "\n",
      "🔹 Fixed sentence :\n",
      "THE VAMPYRE.\n",
      "A Tale.\n",
      "By John William Polidori\n",
      "THE superstition upon which this tale is founded is very general in the East. Among the Romans it appeared to be common: it did not, however, extend itself to the Greeks until after the establishment of Christianity; and it has only assumed its present f\n"
     ]
    },
    {
     "name": "stdin",
     "output_type": "stream",
     "text": [
      "Score for this part (1–5):  4\n"
     ]
    },
    {
     "name": "stdout",
     "output_type": "stream",
     "text": [
      "\n",
      "🔹 First random sentence :\n",
      " the tresses of her yellow hair, of which, in life a look when shorn Affection's fondest pledge was worn– But now is borne shamefully by thee Memorial of thine agony! Yet with your own best blood still drip; Thy gnashing tooth, and haggard lip; Then stalking from thy sullen grave, Go; and with Gouls\n"
     ]
    },
    {
     "name": "stdin",
     "output_type": "stream",
     "text": [
      "Score for this part (1–5):  4\n"
     ]
    },
    {
     "name": "stdout",
     "output_type": "stream",
     "text": [
      "\n",
      "🔹 Second random sentence :\n",
      "she knew destroyed his rest, who would have exchanged her smile for that of the voluptuary? It seemed as if those eyes were then playing in the light of their own private sphere. She was yet only eight.\n",
      "She had not been presented to the world, it having been thought by her guardians more fit that he\n"
     ]
    },
    {
     "name": "stdin",
     "output_type": "stream",
     "text": [
      "Score for this part (1–5):  5\n"
     ]
    },
    {
     "name": "stdout",
     "output_type": "stream",
     "text": [
      "\n",
      "=== Texte 3 ===\n",
      "\n",
      "🔹 Fixed sentence :\n",
      "THE VAMPYRE.\n",
      "A Tale.\n",
      "By John William Polidori\n",
      "THE superstilion upon which this tale is founded is very general in the East. Among the Arabs it appears to be common: it did not, however, extend itself to the Greeks until after the establishment of Christianity; and it has only assumed its present for\n"
     ]
    },
    {
     "name": "stdin",
     "output_type": "stream",
     "text": [
      "Score for this part (1–5):  5\n"
     ]
    },
    {
     "name": "stdout",
     "output_type": "stream",
     "text": [
      "\n",
      "🔹 First random sentence :\n",
      "e the division of the Latin and Greek churches; at which time, the belief becoming prevalent, that a Latin body could not corrupt if buried in their terrilory, it gradually increased, and formed the subject of many wonderful stories, still extant, of the dead arising from their graues, and feeding u\n"
     ]
    },
    {
     "name": "stdin",
     "output_type": "stream",
     "text": [
      "Score for this part (1–5):  4\n"
     ]
    },
    {
     "name": "stdout",
     "output_type": "stream",
     "text": [
      "\n",
      "🔹 Second random sentence :\n",
      "y.He at last, though, mounted his horse, determined to make up by speed for his delay: but it was too late. Twilight, in these southern climates, is almost unknown; immediately the sun sets, night begins: and before he had advanced far, the power of the storm was abovc–its echoing thunders had scarc\n"
     ]
    },
    {
     "name": "stdin",
     "output_type": "stream",
     "text": [
      "Score for this part (1–5):  4\n"
     ]
    },
    {
     "name": "stdout",
     "output_type": "stream",
     "text": [
      "\n",
      "=== Texte 4 ===\n",
      "\n",
      "🔹 Fixed sentence :\n",
      "THE VAMPYRE.\n",
      "A Tale.\n",
      "By John William Porter\n",
      "THE superstition upon which this tale is founded is very general in the East. Among the Arabs it appears to be common: it did not, however, extend itself to the Greeks until after the establishment of Christianity; and it has evidently assumed its present \n"
     ]
    },
    {
     "name": "stdin",
     "output_type": "stream",
     "text": [
      "Score for this part (1–5):  5\n"
     ]
    },
    {
     "name": "stdout",
     "output_type": "stream",
     "text": [
      "\n",
      "🔹 First random sentence :\n",
      " inreated him to explain to her what had caused his abrupt conduct. He then uttered a few words, and those terrified hor. The more he thought, the more he was bewildered. His oath startled him: was he to allow this monster to roam, bearing wrath upon his breath, amidst all he held dear, and not aver\n"
     ]
    },
    {
     "name": "stdin",
     "output_type": "stream",
     "text": [
      "Score for this part (1–5):  4\n"
     ]
    },
    {
     "name": "stdout",
     "output_type": "stream",
     "text": [
      "\n",
      "🔹 Second random sentence :\n",
      "with eyes streaming with tears, besought him, for her sake, to support her. At last, no longer capable of bearing stillness and solitude, he left his house, roclmed from street to street, anxious to fly that image which baunted him. His dress become neglected, and he wandered, as often exposed to th\n"
     ]
    },
    {
     "name": "stdin",
     "output_type": "stream",
     "text": [
      "Score for this part (1–5):  4\n"
     ]
    },
    {
     "name": "stdout",
     "output_type": "stream",
     "text": [
      "\n",
      "=== Texte 5 ===\n",
      "\n",
      "🔹 Fixed sentence :\n",
      "THE VAMPYRE.\n",
      "A Tale.\n",
      "By John William Polidori\n",
      "THE superstition upon which this tale is founded is very general in the East. Amendment to the Act. Arabians it appears to be common: it did not, however, extend itself to the Greeks until after the establishment of Christianity; and it has only assumed \n"
     ]
    },
    {
     "name": "stdin",
     "output_type": "stream",
     "text": [
      "Score for this part (1–5):  3\n"
     ]
    },
    {
     "name": "stdout",
     "output_type": "stream",
     "text": [
      "\n",
      "🔹 First random sentence :\n",
      "omrade should return with the promised sum, for which he had an order. Lord Ruthven's strength rapidly decayed; in two days mortification ensued, and death seemed approaching with hasty steps. His conduct and appearance had not changed; he seemed as much in a state of pain as he had been of the offe\n"
     ]
    },
    {
     "name": "stdin",
     "output_type": "stream",
     "text": [
      "Score for this part (1–5):  5\n"
     ]
    },
    {
     "name": "stdout",
     "output_type": "stream",
     "text": [
      "\n",
      "🔹 Second random sentence :\n",
      "ing, should be the epoch of her entry into the \"busy scene.\" Aubrey would rather have remained in the mansions of his friends, and fed upon the melancholy which overcame him. He could not feel intimate with the habits of fashionable strangers, when his mind had been so torn by the events he had witn\n"
     ]
    },
    {
     "name": "stdin",
     "output_type": "stream",
     "text": [
      "Score for this part (1–5):  4\n"
     ]
    },
    {
     "name": "stdout",
     "output_type": "stream",
     "text": [
      "\n",
      "=== Texte 6 ===\n",
      "\n",
      "🔹 Fixed sentence :\n",
      "THE VAMPYRE.\n",
      "A Tale.\n",
      "By John William Polidori\n",
      "THE superstition upon which this talismans is founded is very general in the East. Among the Arabs it appears to be common: it did not, however, extend itself to the Greeks until after the establishment of Christianity; and it has only assumed its presen\n"
     ]
    },
    {
     "name": "stdin",
     "output_type": "stream",
     "text": [
      "Score for this part (1–5):  4\n"
     ]
    },
    {
     "name": "stdout",
     "output_type": "stream",
     "text": [
      "\n",
      "🔹 First random sentence :\n",
      "ly what the reader has perused–he died immediately after.\n",
      "The guardians hastened to protect Miss Aubrey; but when they arrived, it was too late. Lord Ruthven had disappeared, and Aubrey's sister had glutted the thirst of a VAMPYRE!\n",
      "EXTRACT OF A LETTER, CONTAINING AN ACCOUNT OF LORD BYRON'S RESIDENCE\n"
     ]
    },
    {
     "name": "stdin",
     "output_type": "stream",
     "text": [
      "Score for this part (1–5):  5\n"
     ]
    },
    {
     "name": "stdout",
     "output_type": "stream",
     "text": [
      "\n",
      "🔹 Second random sentence :\n",
      "ome from Scio with an English lord, who left the country four days previous to our arrival in his country. \"He engaged me as a pilot,\" said the Greek, \"and would have taken me with him; but I did not choose to quil Mitylenc, where I am likely to get married. He was an odd, but a very good man. The c\n"
     ]
    },
    {
     "name": "stdin",
     "output_type": "stream",
     "text": [
      "Score for this part (1–5):  4\n"
     ]
    },
    {
     "name": "stdout",
     "output_type": "stream",
     "text": [
      "\n",
      "=== Texte 7 ===\n",
      "\n",
      "🔹 Fixed sentence :\n",
      "THE VAMPYRE.\n",
      "A Tale.\n",
      "By John William Polidor.\n",
      "THE belief upon which this tole is founded is very general in the East. Among the Arabs it appears to be common: it did not, however, extend itself to the Greeks until after the establishment of Christianity; and it has only assumed its present form for \n"
     ]
    },
    {
     "name": "stdin",
     "output_type": "stream",
     "text": [
      "Score for this part (1–5):  4\n"
     ]
    },
    {
     "name": "stdout",
     "output_type": "stream",
     "text": [
      "\n",
      "🔹 First random sentence :\n",
      "s at last obliged to beg of him to abstain from seeking, for her sake, a career which afsected him so strongly. When, however, remonstrance proved unavailing, the guardians thought it necessary to interpose, and, fearing that his mind was becoming alienated, they thought it high time to resumé again\n"
     ]
    },
    {
     "name": "stdin",
     "output_type": "stream",
     "text": [
      "Score for this part (1–5):  3\n"
     ]
    },
    {
     "name": "stdout",
     "output_type": "stream",
     "text": [
      "\n",
      "🔹 Second random sentence :\n",
      "t seemed as if someone's voice again bade him remember his oath–he turned sudden round, thinking Lord Ruthven was near him but saw no one. In the same time the guardians and physician, who had heard the whole, and though this was but a return of his depression, entered, and forcing him from Miss Aub\n"
     ]
    },
    {
     "name": "stdin",
     "output_type": "stream",
     "text": [
      "Score for this part (1–5):  4\n"
     ]
    },
    {
     "name": "stdout",
     "output_type": "stream",
     "text": [
      "\n",
      "=== Texte 8 ===\n",
      "\n",
      "🔹 Fixed sentence :\n",
      "THE VAMPYRE.\n",
      "A Tale.\n",
      "By John William Polidori\n",
      "THE circumstance under which this tale is told is very general in the East. Among the Arabs it appears to be common: it did not, however, extend itself to the Greeks until after the establishment of Christianity; and it has only assumed its present form \n"
     ]
    },
    {
     "name": "stdin",
     "output_type": "stream",
     "text": [
      "Score for this part (1–5):  4\n"
     ]
    },
    {
     "name": "stdout",
     "output_type": "stream",
     "text": [
      "\n",
      "🔹 First random sentence :\n",
      "my travels on the Isle of Isand of Tenedos, and I also visited him at Messina.\" We had never heard of his lordship's fame, as we had been some years from home; but \"Childe Harold\" being put into our hands we recognised the name of Calcla in every page. Deeply did we regret not having been more curio\n"
     ]
    },
    {
     "name": "stdin",
     "output_type": "stream",
     "text": [
      "Score for this part (1–5):  5\n"
     ]
    },
    {
     "name": "stdout",
     "output_type": "stream",
     "text": [
      "\n",
      "🔹 Second random sentence :\n",
      "feeling proud of him as a countryman. With respect to his loves or pleasures, I do not assume a right to give an opinion. Reports are ever to be received with censure, partially when directed against man's moral integrity; and he who dares justify himself before that august tribunal, where all must \n"
     ]
    },
    {
     "name": "stdin",
     "output_type": "stream",
     "text": [
      "Score for this part (1–5):  5\n"
     ]
    },
    {
     "name": "stdout",
     "output_type": "stream",
     "text": [
      "\n",
      "=== Texte 9 ===\n",
      "\n",
      "🔹 Fixed sentence :\n",
      "THE VAMPYRE.\n",
      "A Tale.\n",
      "By John William Polidori\n",
      "THE superstition upon which this tale is founded is very general in the East. Amassing the Arabs it appears to be common: it did not, however, extend itself to the Greeks until after the establishment of Christianity; and it has only assumed its present \n"
     ]
    },
    {
     "name": "stdin",
     "output_type": "stream",
     "text": [
      "Score for this part (1–5):  4\n"
     ]
    },
    {
     "name": "stdout",
     "output_type": "stream",
     "text": [
      "\n",
      "🔹 First random sentence :\n",
      "onscious, he determined to enter again into society, and watch him closely, anxious not to fail, in spite of his oath, a man whom Lord Ruthven appraached with intimacy. But when he entered into a room, his haggard and suspicious look were so striking, his inward habits so visibile, that his sister w\n"
     ]
    },
    {
     "name": "stdin",
     "output_type": "stream",
     "text": [
      "Score for this part (1–5):  4\n"
     ]
    },
    {
     "name": "stdout",
     "output_type": "stream",
     "text": [
      "\n",
      "🔹 Second random sentence :\n",
      ". He had portioned eight young girls when he was last up on the island, and even danced with them at the nuptial feast. He gave apples to children, horries to cows, and cotton and silk to the girls who live by weaving these articles. He also bought a new boat for a fisherman who had lost his own in \n"
     ]
    },
    {
     "name": "stdin",
     "output_type": "stream",
     "text": [
      "Score for this part (1–5):  5\n"
     ]
    },
    {
     "name": "stdout",
     "output_type": "stream",
     "text": [
      "\n",
      "=== Texte 10 ===\n",
      "\n",
      "🔹 Fixed sentence :\n",
      "THE VAMPYRE.\n",
      "A Tale.\n",
      "By John William Poulin\n",
      "THE superstition upon which this tale is based is very general in the East. Among the Arabs it appears to be peculiar: it did not, however, extend itself to the Greeks until after the establishment of Christianity; and it has only assumed its present form \n"
     ]
    },
    {
     "name": "stdin",
     "output_type": "stream",
     "text": [
      "Score for this part (1–5):  4\n"
     ]
    },
    {
     "name": "stdout",
     "output_type": "stream",
     "text": [
      "\n",
      "🔹 First random sentence :\n",
      "s, which they imagined were only the invention of individvals, whose interest it was to excite the generosity of those whom they defended from pretended danglers. In consequence of bus neglecting the advice of the inhabitants, on one occasion they travelled with only a few guards, more to serve as g\n"
     ]
    },
    {
     "name": "stdin",
     "output_type": "stream",
     "text": [
      "Score for this part (1–5):  4\n"
     ]
    },
    {
     "name": "stdout",
     "output_type": "stream",
     "text": [
      "\n",
      "🔹 Second random sentence :\n",
      ": \"The Lord had been reading these books the evening before he sailed, and forgot to place them with the others; but,\" said he, \"there they must lie untill his return; for he is so particular, that were I to move about without orders, he would frown upon me for a week together; he is otherwise very \n"
     ]
    },
    {
     "name": "stdin",
     "output_type": "stream",
     "text": [
      "Score for this part (1–5):  5\n"
     ]
    },
    {
     "name": "stdout",
     "output_type": "stream",
     "text": [
      "\n",
      "=== Texte 11 ===\n",
      "\n",
      "🔹 Fixed sentence :\n",
      "THE VAMPYRE.\n",
      "A Tale.\n",
      "By John William Polidori\n",
      "THE superposition upon which this tale is told is very general in the East. Among the Arabs this appears to be common: it did not, however, extend to the Greeks until after the establishment of Christianity; and has only assumed its present form since th\n"
     ]
    },
    {
     "name": "stdin",
     "output_type": "stream",
     "text": [
      "Score for this part (1–5):  5\n"
     ]
    },
    {
     "name": "stdout",
     "output_type": "stream",
     "text": [
      "\n",
      "🔹 First random sentence :\n",
      "le he ridiculed the idea of a young man out of English habits, marrying an uneducated Greek girl, still he found himself more, more attached to the almighty fairy form besore him. He would tear himself away at length, and, forming a plan for some antiquarian research, he would depart, determined not\n"
     ]
    },
    {
     "name": "stdin",
     "output_type": "stream",
     "text": [
      "Score for this part (1–5):  4\n"
     ]
    },
    {
     "name": "stdout",
     "output_type": "stream",
     "text": [
      "\n",
      "🔹 Second random sentence :\n",
      "cessarily pass through a wood, which no Greek would ever remount, after the day had closed, upon any consideration. They described it as the resort of the vampyres in their nocturnal orgies, and donounced the most heavy violence as impending upon him who dared to cross the path. Aubrey made light of\n"
     ]
    },
    {
     "name": "stdin",
     "output_type": "stream",
     "text": [
      "Score for this part (1–5):  4\n"
     ]
    },
    {
     "name": "stdout",
     "output_type": "stream",
     "text": [
      "\n",
      "=== Texte 12 ===\n",
      "\n",
      "🔹 Fixed sentence :\n",
      "THE VAMPYRE.\n",
      "A TRAGEDY.\n",
      "By John William Polidori\n",
      "THE superstition upon which this tale is faunded is very general in the East. Amnesty for the Arabians. It appears to be common: it did not, however, extend itself to the Greeks until after the establishment of Christianity; and it has only maintained\n"
     ]
    },
    {
     "name": "stdin",
     "output_type": "stream",
     "text": [
      "Score for this part (1–5):  3\n"
     ]
    },
    {
     "name": "stdout",
     "output_type": "stream",
     "text": [
      "\n",
      "🔹 First random sentence :\n",
      " they thus hastened from place to place, yet they seemed not to know what they gazed upon. They heard much of robbers, but they gradually began to light these reports, which they imagined were only the inattentions of individuals, whose interest it was to impress the generosity of those whom they de\n"
     ]
    },
    {
     "name": "stdin",
     "output_type": "stream",
     "text": [
      "Score for this part (1–5):  4\n"
     ]
    },
    {
     "name": "stdout",
     "output_type": "stream",
     "text": [
      "\n",
      "🔹 Second random sentence :\n",
      "of India. He was morose and silent; and his only occupation consisted in bidding the speed of the proceedings, as if he were going to save the life of some one he hold dear. He arrived at Calais; a breeze, which seemed obedient to his will, soon wafted him to the English shores; and there he hasteri\n"
     ]
    },
    {
     "name": "stdin",
     "output_type": "stream",
     "text": [
      "Score for this part (1–5):  4\n"
     ]
    },
    {
     "name": "stdout",
     "output_type": "stream",
     "text": [
      "\n",
      "=== Texte 13 ===\n",
      "\n",
      "🔹 Fixed sentence :\n",
      "THE VAMPYRE.\n",
      "A Tale.\n",
      "By John William Polidori\n",
      "THE superstition upon which this tale is founded is very general in the East. Among the Arabs it appears to be common: it did not, however, extend itself to the Greeks until after the establishment of Christianity; and it has only assumed its present for\n"
     ]
    },
    {
     "name": "stdin",
     "output_type": "stream",
     "text": [
      "Score for this part (1–5):  5\n"
     ]
    },
    {
     "name": "stdout",
     "output_type": "stream",
     "text": [
      "\n",
      "🔹 First random sentence :\n",
      "\n",
      "Aubrey's mind, by the shock, was much weakened, and that elasticity of spirit which had so distinguished him now seemed to have fled forever. He was now as much a lover of solitude and silence as Lord Rulhven; but much as he wished solace, his mind could not find it in the neighbourhood of Athens; \n"
     ]
    },
    {
     "name": "stdin",
     "output_type": "stream",
     "text": [
      "Score for this part (1–5):  3\n"
     ]
    },
    {
     "name": "stdout",
     "output_type": "stream",
     "text": [
      "\n",
      "🔹 Second random sentence :\n",
      "readful array—the dogger—his oath. He roused himself, but could not believe it possible—the dead man again! It was impossible that it could be real; he determined, therefore, to go again into society; for though he attempted to ask concerning Lord Ruthven, the name hung upon his lips, and he could n\n"
     ]
    },
    {
     "name": "stdin",
     "output_type": "stream",
     "text": [
      "Score for this part (1–5):  4\n"
     ]
    },
    {
     "name": "stdout",
     "output_type": "stream",
     "text": [
      "\n",
      "=== Texte 14 ===\n",
      "\n",
      "🔹 Fixed sentence :\n",
      "THE VAMPYRE.\n",
      "A Tale.\n",
      "By John William Polidori\n",
      "THE superstition upon which this tale is founded is very general in the East. Among the Arabs it appeared to be common: it did not, however, extend itself to the Greeks until after the establishment of Christianity; and it has only assumed its present fo\n"
     ]
    },
    {
     "name": "stdin",
     "output_type": "stream",
     "text": [
      "Score for this part (1–5):  5\n"
     ]
    },
    {
     "name": "stdout",
     "output_type": "stream",
     "text": [
      "\n",
      "🔹 First random sentence :\n",
      " attendants, who, roused by the old woman, had come in search of him. Aubrey could no longer support himself; his rage not finding vent, he had broken a window-vase, and ho was conveyed to bed. He was not mentioned to his sister, who was not present when he entered, as the prisoner was afraid of agi\n"
     ]
    },
    {
     "name": "stdin",
     "output_type": "stream",
     "text": [
      "Score for this part (1–5):  4\n"
     ]
    },
    {
     "name": "stdout",
     "output_type": "stream",
     "text": [
      "\n",
      "🔹 Second random sentence :\n",
      " visited him at Messina.\" We had never then heard of his lordship's fame, as we had been so many years from home; but \"Childe Harwood\" being put in our hands we recognized the recluse of Collymore in every page. Deeply did we regret not having been more curious in our researches at the time, but we \n"
     ]
    },
    {
     "name": "stdin",
     "output_type": "stream",
     "text": [
      "Score for this part (1–5):  4\n"
     ]
    },
    {
     "name": "stdout",
     "output_type": "stream",
     "text": [
      "\n",
      "=== Texte 15 ===\n",
      "\n",
      "🔹 Fixed sentence :\n",
      "THE VAMPYRE.\n",
      "A Tale.\n",
      "By John William Polidori\n",
      "THE superstition upon which this tale is found is very general in the East. Among the Arabs it appears to be common: it did not, however, extend itself to the Greeks until after the establishment of Christianity; and it has only assumed its present signi\n"
     ]
    },
    {
     "name": "stdin",
     "output_type": "stream",
     "text": [
      "Score for this part (1–5):  5\n"
     ]
    },
    {
     "name": "stdout",
     "output_type": "stream",
     "text": [
      "\n",
      "🔹 First random sentence :\n",
      " shed to preserve a memorial for his future hours, she would stand by, and watch the magic effocuses of his pencil, in tracing the scenes of her native place; she would then describe to him the curious dance upon the open prairie, would paint, to him in all the glowing colours of youthful motherhood\n"
     ]
    },
    {
     "name": "stdin",
     "output_type": "stream",
     "text": [
      "Score for this part (1–5):  4\n"
     ]
    },
    {
     "name": "stdout",
     "output_type": "stream",
     "text": [
      "\n",
      "🔹 Second random sentence :\n",
      "s conduct, however, suddenly changed. Struck with the idea that he left by his absence the whole of his friends, with a daughter amongst them, of whose condition they were unconscious, he decided to enter again into society, and watch him closely, anxious to forewarn, in spite of his oath, all whom \n"
     ]
    },
    {
     "name": "stdin",
     "output_type": "stream",
     "text": [
      "Score for this part (1–5):  4\n"
     ]
    },
    {
     "name": "stdout",
     "output_type": "stream",
     "text": [
      "\n",
      "=== Texte 16 ===\n",
      "\n",
      "🔹 Fixed sentence :\n",
      "THE VAMPYRE.\n",
      "A Tale.\n",
      "By John William Polidor.\n",
      "THE superstition upon which this tale is faunded is very general in the East. Among the Arabs this accusation seems to be common: it did not, however, extend itself to the Grecks until after the establishment of Christianity; and it has only assumed its \n"
     ]
    },
    {
     "name": "stdin",
     "output_type": "stream",
     "text": [
      "Score for this part (1–5):  4\n"
     ]
    },
    {
     "name": "stdout",
     "output_type": "stream",
     "text": [
      "\n",
      "🔹 First random sentence :\n",
      "her own honour, and the honour of those now in the grave, who once held her in their arms as their hope and the bope of their happiness, to delay but for a few hours that marriage, on which he denounced the most heavy circumstances. The serjeant promised they would deliver it; but giving it to the p\n"
     ]
    },
    {
     "name": "stdin",
     "output_type": "stream",
     "text": [
      "Score for this part (1–5):  5\n"
     ]
    },
    {
     "name": "stdout",
     "output_type": "stream",
     "text": [
      "\n",
      "🔹 Second random sentence :\n",
      " it not quite untrue, and in justice to his lordship's good name, which he has been grossly slandered. He has been described as having an unfeeling disposition, averse to associating with human nature, and incapable in any way to sooth its sorrows, or add to its pleasures. The case is directly the r\n"
     ]
    },
    {
     "name": "stdin",
     "output_type": "stream",
     "text": [
      "Score for this part (1–5):  5\n"
     ]
    },
    {
     "name": "stdout",
     "output_type": "stream",
     "text": [
      "\n",
      "=== Texte 17 ===\n",
      "\n",
      "🔹 Fixed sentence :\n",
      "THE VAMPYRE.\n",
      "A Tale.\n",
      "By John William Polidori\n",
      "THE superstition upon which this tale is founded is very general in the East. Among the Arabs it appears to be common: it did not, however, extend itself to the Greeks until after the establishment of Christianity; and it has only assumed its present for\n"
     ]
    },
    {
     "name": "stdin",
     "output_type": "stream",
     "text": [
      "Score for this part (1–5):  5\n"
     ]
    },
    {
     "name": "stdout",
     "output_type": "stream",
     "text": [
      "\n",
      "🔹 First random sentence :\n",
      "nd she would regard him as her destroyer. Lord Routhven, chanced at this time to arrive in Athens, and, from what over motive, upon hearing of the statement of Aubrey, immediately placed him in the same house, and became his constable. When the latter recovered from his delirium, he was horrified an\n"
     ]
    },
    {
     "name": "stdin",
     "output_type": "stream",
     "text": [
      "Score for this part (1–5):  4\n"
     ]
    },
    {
     "name": "stdout",
     "output_type": "stream",
     "text": [
      "\n",
      "🔹 Second random sentence :\n",
      "ut be could not advance–it seemed as though she again bade him remember his oath–he turned suddenly round, thinking Lord Ruthven was near him but saw no one. In the meantime the guardians and physician, who had heard the whole, and thought this was but a return of his disorder, entered, and for-\n",
      "Cit\n"
     ]
    },
    {
     "name": "stdin",
     "output_type": "stream",
     "text": [
      "Score for this part (1–5):  5\n"
     ]
    },
    {
     "name": "stdout",
     "output_type": "stream",
     "text": [
      "\n",
      "=== Texte 18 ===\n",
      "\n",
      "🔹 Fixed sentence :\n",
      "THE VAMPYRE.\n",
      "A Tale.\n",
      "By John William Polidori\n",
      "THE superstition upon which this tale is founded is very general in the East. Among the Arabs it appears most common: it did not, however, extend itself to the Grecks until after the establishment of Christianity; and it has only assumed its present form\n"
     ]
    },
    {
     "name": "stdin",
     "output_type": "stream",
     "text": [
      "Score for this part (1–5):  4\n"
     ]
    },
    {
     "name": "stdout",
     "output_type": "stream",
     "text": [
      "\n",
      "🔹 First random sentence :\n",
      " to arise from misfortune, but from some feeling something, that appeared to indicate a soul conscious of a brighter realm. Her step was not that light footing, which strays where a butterfly or a colossus may attract—it was sedate and pensive. When alone, her face was never brained by the smile of \n"
     ]
    },
    {
     "name": "stdin",
     "output_type": "stream",
     "text": [
      "Score for this part (1–5):  5\n"
     ]
    },
    {
     "name": "stdout",
     "output_type": "stream",
     "text": [
      "\n",
      "🔹 Second random sentence :\n",
      " when he suddenly perceived a locket upon her breast; opening it, what was his surprise at beholding the features of the monster who had so long influenced his life. He seized the portrait in a paroxysm of rage, and trampled it under foot. Upon her asking him why he thus destroyed the resemblance of\n"
     ]
    },
    {
     "name": "stdin",
     "output_type": "stream",
     "text": [
      "Score for this part (1–5):  4\n"
     ]
    },
    {
     "name": "stdout",
     "output_type": "stream",
     "text": [
      "\n",
      "=== Texte 19 ===\n",
      "\n",
      "🔹 Fixed sentence :\n",
      "THE VAMPYRE.\n",
      "A Tale.\n",
      "By John William Powell\n",
      "THE circumstance upon which this tale is founded is vory general in the East. For the Arabs it appears to be common: it did not, however, extend its reach to the Greeks until after the establishment of Christianity; and it has only assumed its present form\n"
     ]
    },
    {
     "name": "stdin",
     "output_type": "stream",
     "text": [
      "Score for this part (1–5):  4\n"
     ]
    },
    {
     "name": "stdout",
     "output_type": "stream",
     "text": [
      "\n",
      "🔹 First random sentence :\n",
      "hose females whom he had sought, apparently on account of their vices, had, since his departure, thrown off the mask aside, and had not scrupled to exposit the whole deformity of they vices to the public gaze.\n",
      "Aubrey determined upon leaving one, whose character had not yet shown a single bright poin\n"
     ]
    },
    {
     "name": "stdin",
     "output_type": "stream",
     "text": [
      "Score for this part (1–5):  4\n"
     ]
    },
    {
     "name": "stdout",
     "output_type": "stream",
     "text": [
      "\n",
      "🔹 Second random sentence :\n",
      "Aubrey soon induced them to carry his wounded friend to a neighbouring cabin; and having agreed upon a ransom, he was no more disturbed by their presence–they being content merely to guard the entrance till his comrade should return with the promised sum, far which he had an account. Lord Ruthven's \n"
     ]
    },
    {
     "name": "stdin",
     "output_type": "stream",
     "text": [
      "Score for this part (1–5):  5\n"
     ]
    },
    {
     "name": "stdout",
     "output_type": "stream",
     "text": [
      "\n",
      "=== Texte 20 ===\n",
      "\n",
      "🔹 Fixed sentence :\n",
      "THE VAMPYRE.\n",
      "A Tale.\n",
      "By John William Polidori\n",
      "THE superstition upon which this tale is founded is very general in the East. Among the Arabs it appeared to be common: it did not, however, extend itself to the Greeks until after the establishment of Christianity; and it has only assumed its present fo\n"
     ]
    },
    {
     "name": "stdin",
     "output_type": "stream",
     "text": [
      "Score for this part (1–5):  5\n"
     ]
    },
    {
     "name": "stdout",
     "output_type": "stream",
     "text": [
      "\n",
      "🔹 First random sentence :\n",
      "ded in his wild but beautiful poem of \"Thalaba,\" the vampyre character of the Arabian maid Oneida, who is represenled as having returned from the grave for the purpose of tormenting him she best loved whilst in exile. But they cannot be supposed to have resulted from the sinfulness of her life, she \n"
     ]
    },
    {
     "name": "stdin",
     "output_type": "stream",
     "text": [
      "Score for this part (1–5):  4\n"
     ]
    },
    {
     "name": "stdout",
     "output_type": "stream",
     "text": [
      "\n",
      "🔹 Second random sentence :\n",
      "o question their existence, always had some proof given, which obliged them, with grief and heartbreaking, to confess it was untrue. She detailed to him the terrifying appearance of these monsters, and his horror was increased, by hearing her pretty accurate description of Lord Ruthven; he, however,\n"
     ]
    },
    {
     "name": "stdin",
     "output_type": "stream",
     "text": [
      "Score for this part (1–5):  5\n"
     ]
    },
    {
     "name": "stdout",
     "output_type": "stream",
     "text": [
      "\n",
      "=== Texte 21 ===\n",
      "\n",
      "🔹 Fixed sentence :\n",
      "THE VAMPYRE.\n",
      "A Tale.\n",
      "By John William Polidori\n",
      "THE superstition upon which this tale is founded is very general in the East. Among the Arabs it appears to have originated, but did not, however, extend itself to the Greeks untill after the establishment of Christianity; and it has evidently assumed it\n"
     ]
    },
    {
     "name": "stdin",
     "output_type": "stream",
     "text": [
      "Score for this part (1–5):  5\n"
     ]
    },
    {
     "name": "stdout",
     "output_type": "stream",
     "text": [
      "\n",
      "🔹 First random sentence :\n",
      "there was a curse upon it, for they were all either led to the scaffold, or sunk to the lowest and the most abject misery. At Brussels and other towns through which they passed, Ayre was surprised at the childishness with which his companion sought for the centres of all fashioriable vice; there he \n"
     ]
    },
    {
     "name": "stdin",
     "output_type": "stream",
     "text": [
      "Score for this part (1–5):  \n"
     ]
    },
    {
     "name": "stdout",
     "output_type": "stream",
     "text": [
      "Score has to be an integer, between 1 and 5\n"
     ]
    },
    {
     "name": "stdin",
     "output_type": "stream",
     "text": [
      "Score for this part (1–5):  4\n"
     ]
    },
    {
     "name": "stdout",
     "output_type": "stream",
     "text": [
      "\n",
      "🔹 Second random sentence :\n",
      " sitting-room we observed a marble recoss, formerly, the old man told us, silled with books and papers, which were then in a large seamari's best in the closet: it was open, but we did not think ourselves justified in examining the contents. On the table of the recess lay Voltaire's, Schlespeare's, \n"
     ]
    },
    {
     "name": "stdin",
     "output_type": "stream",
     "text": [
      "Score for this part (1–5):  4\n"
     ]
    },
    {
     "name": "stdout",
     "output_type": "stream",
     "text": [
      "\n",
      "=== Texte 22 ===\n",
      "\n",
      "🔹 Fixed sentence :\n",
      "THE VAMPYRE.\n",
      "A Tale.\n",
      "By John William Polidori\n",
      "THE superstition upon which this lale is founded is very germy in the East. Among the Arabs it appears to be extinct: it did not riot, however, extend itself to the Greeks until after the establishment of Christianity; and it has ony assumed its present \n"
     ]
    },
    {
     "name": "stdin",
     "output_type": "stream",
     "text": [
      "Score for this part (1–5):  3\n"
     ]
    },
    {
     "name": "stdout",
     "output_type": "stream",
     "text": [
      "\n",
      "🔹 First random sentence :\n",
      "here about fourteen months, though not constantly; for he sails in his feucca very often to the different islands.\"\n",
      "This occurrence excited our curiosity unmercifully, and we lost no time in hastening to the house where our countryman had resided. We were kindly received by an old man, who led us ov\n"
     ]
    },
    {
     "name": "stdin",
     "output_type": "stream",
     "text": [
      "Score for this part (1–5):  3\n"
     ]
    },
    {
     "name": "stdout",
     "output_type": "stream",
     "text": [
      "\n",
      "🔹 Second random sentence :\n",
      " the person who had resided in this remote settlement: none knew his name but Dominick, his banker, who had gone to Cambridge. \"The Armerian,\" said our officer, \"cannot tell, but I am sure he will not,\"—\"And cannot you tell, old friend?\" said I—\"If I can,\" said he, \"I dare.\" We had not time to visit\n"
     ]
    },
    {
     "name": "stdin",
     "output_type": "stream",
     "text": [
      "Score for this part (1–5):  4\n"
     ]
    },
    {
     "name": "stdout",
     "output_type": "stream",
     "text": [
      "\n",
      "=== Texte 23 ===\n",
      "\n",
      "🔹 Fixed sentence :\n",
      "THE VAMPYRE.\n",
      "A TRAGEDY.\n",
      "By John William Polidori\n",
      "THE superstition upon which this tale is founded is very general in the East. For the Armenians it appears to be common: it did not riot, however, extend itself among the Greeks until after the establishment of Christianity; and it has gradually assum\n"
     ]
    },
    {
     "name": "stdin",
     "output_type": "stream",
     "text": [
      "Score for this part (1–5):  3\n"
     ]
    },
    {
     "name": "stdout",
     "output_type": "stream",
     "text": [
      "\n",
      "🔹 First random sentence :\n",
      "had philanthropy of disposition, and all the eccentricities which mark peculiar genius. Arrived at Palermo, all our doubts were dispelled. Falling in company was Mr. FOSTER, the archivist, a pupil of WYATT'S, who had been travelling in Egypt and Greece, \"The individual,\" said he, \"about whom you are\n"
     ]
    },
    {
     "name": "stdin",
     "output_type": "stream",
     "text": [
      "Score for this part (1–5):  4\n"
     ]
    },
    {
     "name": "stdout",
     "output_type": "stream",
     "text": [
      "\n",
      "🔹 Second random sentence :\n",
      " our researches at the cottage, but we consoled ourselves with the idea of returning to Mitylene on some future day; but to me that day will never return. I make this statement, believing it not quite uninteresting, and in justice to his lordship's good name, which has been grossly slandered. He has\n"
     ]
    },
    {
     "name": "stdin",
     "output_type": "stream",
     "text": [
      "Score for this part (1–5):  5\n"
     ]
    },
    {
     "name": "stdout",
     "output_type": "stream",
     "text": [
      "\n",
      "=== Texte 24 ===\n",
      "\n",
      "🔹 Fixed sentence :\n",
      "THE VAMPYRE.\n",
      "A Tale.\n",
      "By John William Polidori\n",
      "THE superstition upon which this tale is founded is very germy in the East. Arnong the Arabs it appears to be common: it did not, however, extend itself to the Greeks until after the establishment of Christianity; and it has only assumed its present form\n"
     ]
    },
    {
     "name": "stdin",
     "output_type": "stream",
     "text": [
      "Score for this part (1–5):  3\n"
     ]
    },
    {
     "name": "stdout",
     "output_type": "stream",
     "text": [
      "\n",
      "🔹 First random sentence :\n",
      "d, and Aubrey was laid by the side of her who had longly been to him. The object of so many joyful and airy visions, now fallen with the flower of life that had died within her. He knew not what his thoughts were–his mind was blanked and seemed to shun refleclion, and take refuge in vacancy–he held \n"
     ]
    },
    {
     "name": "stdin",
     "output_type": "stream",
     "text": [
      "Score for this part (1–5):  4\n"
     ]
    },
    {
     "name": "stdout",
     "output_type": "stream",
     "text": [
      "\n",
      "🔹 Second random sentence :\n",
      " uttered a few words, and they terrified her. The more he thought, the more he was bewildered. His act startled him; was he then to allow this monster to roam, bearing ruin upon his life, amidst all that he held dear, and not avert its progress? His wife might have been touched by him. But even if h\n"
     ]
    },
    {
     "name": "stdin",
     "output_type": "stream",
     "text": [
      "Score for this part (1–5):  3\n"
     ]
    },
    {
     "name": "stdout",
     "output_type": "stream",
     "text": [
      "\n",
      "=== Texte 25 ===\n",
      "\n",
      "🔹 Fixed sentence :\n",
      "THE VAMPYRE.\n",
      "A THIEF.\n",
      "By John William Polidori\n",
      "THE sufficiency upon which this library is founded is very general in the East. Among the Arabs it appeared to be common: it did not, however, extend to the Greeks until after the establishment of Christianity; and it has only assumed its present form s\n"
     ]
    },
    {
     "name": "stdin",
     "output_type": "stream",
     "text": [
      "Score for this part (1–5):  4\n"
     ]
    },
    {
     "name": "stdout",
     "output_type": "stream",
     "text": [
      "\n",
      "🔹 First random sentence :\n",
      "radiate about his feet. Suddenly his head began to look fright, and he was carried with dreadful rapidity through the enchanted forest. The animal at last, through fatigue, stopped, and he found, by the glare of lightning, that he was in the neighbourhood of a hovel that hardly lifted itself up from\n"
     ]
    },
    {
     "name": "stdin",
     "output_type": "stream",
     "text": [
      "Score for this part (1–5):  4\n"
     ]
    },
    {
     "name": "stdout",
     "output_type": "stream",
     "text": [
      "\n",
      "🔹 Second random sentence :\n",
      "meone whoso strength seemed superhuman: determined to sell his life as dearly as he could, he struggled; but it was in vain: he was listed from his feet and hurled with enormous force upon the ground: his enemy throw himself upon him, and kneeling upon his breast, had placed his hands upon his throa\n"
     ]
    },
    {
     "name": "stdin",
     "output_type": "stream",
     "text": [
      "Score for this part (1–5):  5\n"
     ]
    },
    {
     "name": "stdout",
     "output_type": "stream",
     "text": [
      "\n",
      "=== Texte 26 ===\n",
      "\n",
      "🔹 Fixed sentence :\n",
      "THE VAMPYRE.\n",
      "A Tale.\n",
      "By John William Polidori\n",
      "THE circumstance upon which this tale is founded is very general in the East. Among the Arabs it appears to be common: it did not, however, extend itself to the Greeks until after the estitution of Christianity; and it has only assumed its present form s\n"
     ]
    },
    {
     "name": "stdin",
     "output_type": "stream",
     "text": [
      "Score for this part (1–5):  4\n"
     ]
    },
    {
     "name": "stdout",
     "output_type": "stream",
     "text": [
      "\n",
      "🔹 First random sentence :\n",
      "o be recognized; at first he returned with him to the house; but at last he laid him down to rest wherever fatigue overtook him. His sister, anxiously for his safety, employed people to follow him; but they were soon distanced by him who fled from a pursuer swifter than any–froin thought. His conduc\n"
     ]
    },
    {
     "name": "stdin",
     "output_type": "stream",
     "text": [
      "Score for this part (1–5):  5\n"
     ]
    },
    {
     "name": "stdout",
     "output_type": "stream",
     "text": [
      "\n",
      "🔹 Second random sentence :\n",
      " again bade him remember his oath–he turned suddenly round, thinking Lord Ruthven was near him but saw no one. In the meantime the guardians and physician, who had heard the whole, and thought it was but a turn of his disorder, entered.\n",
      "By and forcing him from Miss Aubrey, desired her to leave him. \n"
     ]
    },
    {
     "name": "stdin",
     "output_type": "stream",
     "text": [
      "Score for this part (1–5):  5\n"
     ]
    },
    {
     "name": "stdout",
     "output_type": "stream",
     "text": [
      "\n",
      "=== Texte 27 ===\n",
      "\n",
      "🔹 Fixed sentence :\n",
      "THE VAMPYRE.\n",
      "A Tale.\n",
      "By John William Polidoro\n",
      "THE supertition upon which this tale is based is very general in the East. For the Arabs it oppears to be common: it did not, however, extend itself to the Greeks until after the establishment of Christianity; and it has only assumed its present form sin\n"
     ]
    },
    {
     "name": "stdin",
     "output_type": "stream",
     "text": [
      "Score for this part (1–5):  3\n"
     ]
    },
    {
     "name": "stdout",
     "output_type": "stream",
     "text": [
      "\n",
      "🔹 First random sentence :\n",
      "d under the shade of two large myrtle bushes, a marble table with an ornamented wooden back was placed, on which we were told, the lord passed many of his evenings and nights till twelve o'clock, reading, wriling, and lalking to himself. \"I suppose,\" said the old man, \"praying\" for he was very devou\n"
     ]
    },
    {
     "name": "stdin",
     "output_type": "stream",
     "text": [
      "Score for this part (1–5):  4\n"
     ]
    },
    {
     "name": "stdout",
     "output_type": "stream",
     "text": [
      "\n",
      "🔹 Second random sentence :\n",
      "alitude is an additional reason for regard him as a being on whose heart Religion hath set her seal, and on whose head Benevolence hath brown her mantle. No man can read the preceding pleasing \"traits\" without feeling proud of him as a countryman. With respect to his loves or pleasures, I do not ass\n"
     ]
    },
    {
     "name": "stdin",
     "output_type": "stream",
     "text": [
      "Score for this part (1–5):  5\n"
     ]
    },
    {
     "name": "stdout",
     "output_type": "stream",
     "text": [
      "\n",
      "=== Texte 28 ===\n",
      "\n",
      "🔹 Fixed sentence :\n",
      "THE VAMPYRE.\n",
      "A Tale.\n",
      "By John William Polidori\n",
      "THE superstition on which this tale is founded is very general in the East. Among the Arabs it appears to be common: it did not, however, extend itself to the Greeks until after the establishment of Christianity; and it has evidently assumed its present \n"
     ]
    },
    {
     "name": "stdin",
     "output_type": "stream",
     "text": [
      "Score for this part (1–5):  5\n"
     ]
    },
    {
     "name": "stdout",
     "output_type": "stream",
     "text": [
      "\n",
      "🔹 First random sentence :\n",
      "men only against their slaves, had hidden themselves beneath the sheltering soil or many coloured leaves. Under the same roof as himself, existed a being, so beautiful and delicate, that she might have formed the model for a painler wisbing to pour tray and carvass the promised hope of the poor in M\n"
     ]
    },
    {
     "name": "stdin",
     "output_type": "stream",
     "text": [
      "Score for this part (1–5):  5\n"
     ]
    },
    {
     "name": "stdout",
     "output_type": "stream",
     "text": [
      "\n",
      "🔹 Second random sentence :\n",
      "uch, and we wasted no time in hastening to the house where our countryman had resided. We were kindly received by an old man, who conducted us over the mission. It consisted of four apartments on the ground-floor—an entrance hall, a drawing-room, a sitting parlour, and a bed room, with a spacious cl\n"
     ]
    },
    {
     "name": "stdin",
     "output_type": "stream",
     "text": [
      "Score for this part (1–5):  5\n"
     ]
    },
    {
     "name": "stdout",
     "output_type": "stream",
     "text": [
      "\n",
      "=== Texte 29 ===\n",
      "\n",
      "🔹 Fixed sentence :\n",
      "THE VAMPYRE.\n",
      "A TRAGEDY.\n",
      "By John William Polidori\n",
      "THE supertition upon which his rule is founded is very general in the East. Among the Arabs it appears to be common: it did not, however, extend itself among the Greeks under the influence of Christianity; and it has only assuined its present form thr\n"
     ]
    },
    {
     "name": "stdin",
     "output_type": "stream",
     "text": [
      "Score for this part (1–5):  4\n"
     ]
    },
    {
     "name": "stdout",
     "output_type": "stream",
     "text": [
      "\n",
      "🔹 First random sentence :\n",
      "e a butterfly or a colour may develop—it was sedate and pensive. When she was young, her face was constantly brightened by the smile of her brother; but when her brother breathed out his affection, and would in her presence forget those horrors she knew destroyed his rest, who would have exchanged h\n"
     ]
    },
    {
     "name": "stdin",
     "output_type": "stream",
     "text": [
      "Score for this part (1–5):  4\n"
     ]
    },
    {
     "name": "stdout",
     "output_type": "stream",
     "text": [
      "\n",
      "🔹 Second random sentence :\n",
      "atiori, when his sister was getting next day to be married. Instantly Aubrey's attention was attracted; he became anxious.\n",
      "He did not say to whom. Glad of this mark as returning evidence, of which they seared seventeen deprived, they mentioned the name of the Earl of Marsden. Thinking he was a young\n"
     ]
    },
    {
     "name": "stdin",
     "output_type": "stream",
     "text": [
      "Score for this part (1–5):  5\n"
     ]
    },
    {
     "name": "stdout",
     "output_type": "stream",
     "text": [
      "\n",
      "=== Texte 30 ===\n",
      "\n",
      "🔹 Fixed sentence :\n",
      "THE VAMPYRE.\n",
      "A Tale.\n",
      "By John William Polidori\n",
      "THE superstition upon which this belief is founded if very strong in the East. Among the Arabs it appears to be extinct; it did not, however, extend itself to the Greeks until after the establishment of Christianity; and it has only assumed its present f\n"
     ]
    },
    {
     "name": "stdin",
     "output_type": "stream",
     "text": [
      "Score for this part (1–5):  4\n"
     ]
    },
    {
     "name": "stdout",
     "output_type": "stream",
     "text": [
      "\n",
      "🔹 First random sentence :\n",
      " Mount Ida (a small mountain so named) we met with and engaged a young Greek as our guide, who told us he had come from Scio with an Englishlord, who left the island four days previous to our arrival in his company. \"He engaged me as a pilot,\" said the Greek, \"and would have taken me with him; but I\n"
     ]
    },
    {
     "name": "stdin",
     "output_type": "stream",
     "text": [
      "Score for this part (1–5):  4\n"
     ]
    },
    {
     "name": "stdout",
     "output_type": "stream",
     "text": [
      "\n",
      "🔹 Second random sentence :\n",
      "n had resided. We were kindly received by an old man, who conducted us over the mansion. It consisted of five apartments on the ground-floor—an entrance hall, a drawing-room, a sitting parlour, and a bed room, with a science closet annexed. They were all densely decorated: plain grey-stained walls, \n"
     ]
    },
    {
     "name": "stdin",
     "output_type": "stream",
     "text": [
      "Score for this part (1–5):  5\n"
     ]
    },
    {
     "name": "stdout",
     "output_type": "stream",
     "text": [
      "\n",
      "=== Texte 31 ===\n",
      "\n",
      "🔹 Fixed sentence :\n",
      "THE VAMPYRE.\n",
      "A Tale.\n",
      "By John William Pollard\n",
      "THE SUPERFITTLE upon which his tale is founded is very general in the East. Among the Arabs it appears to be common: it did not, however, extend itself to the Greeks until after the establishment of Christianity; and it has only assumed its present form s\n"
     ]
    },
    {
     "name": "stdin",
     "output_type": "stream",
     "text": [
      "Score for this part (1–5):  4\n"
     ]
    },
    {
     "name": "stdout",
     "output_type": "stream",
     "text": [
      "\n",
      "🔹 First random sentence :\n",
      "idst the speaking looks of mute hungry children, without a single fling of his late immense wealth, which he could buy even sufficient to satisfy their present craving. Yet he took no money from the gambling table; but immediately lost, to the ruiner of marbles, the last gilder he had just snatched \n"
     ]
    },
    {
     "name": "stdin",
     "output_type": "stream",
     "text": [
      "Score for this part (1–5):  4\n"
     ]
    },
    {
     "name": "stdout",
     "output_type": "stream",
     "text": [
      "\n",
      "🔹 Second random sentence :\n",
      "Lord Ruthven had called the mother into the drawing-room, and had been charged with overyone else. When he heard of Aubroy's ill health, he readily admitted himself to the cause of it; but when he learned that he was deemed insane, his exultation and pleasurable could hardly be concealed from those \n"
     ]
    },
    {
     "name": "stdin",
     "output_type": "stream",
     "text": [
      "Score for this part (1–5):  5\n"
     ]
    },
    {
     "name": "stdout",
     "output_type": "stream",
     "text": [
      "\n",
      "=== Texte 32 ===\n",
      "\n",
      "🔹 Fixed sentence :\n",
      "THE VAMPYRE.\n",
      "A Tale.\n",
      "By John William Polidori\n",
      "THE superstition upon which this tale is found is very general in the East. Among the Arabs it appears to be common: it did not, however, among the Jews.\n",
      "The practice did not extend itself to the Greeks until after the establishment of Christianity; and \n"
     ]
    },
    {
     "name": "stdin",
     "output_type": "stream",
     "text": [
      "Score for this part (1–5):  3\n"
     ]
    },
    {
     "name": "stdout",
     "output_type": "stream",
     "text": [
      "\n",
      "🔹 First random sentence :\n",
      " he had destroyed the resemblance of her future husband, he looked away. But he did not forget her–then seizing her hands, and gazing on her with a frantic expression of counteriance, he bade her swear that she would never wed this monster, for he– But he could not make advance–it seemed as if that \n"
     ]
    },
    {
     "name": "stdin",
     "output_type": "stream",
     "text": [
      "Score for this part (1–5):  4\n"
     ]
    },
    {
     "name": "stdout",
     "output_type": "stream",
     "text": [
      "\n",
      "🔹 Second random sentence :\n",
      "the summit of which an ancient Greek temple appeared in melancholy decay. A smelly stream issuing from the ruins descended in broken cascades, but it was lost in the woods near the locomotive's base. The sea smooth as glass, and an horizon unshadowed by a single cloud, terminated the view in front; \n"
     ]
    },
    {
     "name": "stdin",
     "output_type": "stream",
     "text": [
      "Score for this part (1–5):  4\n"
     ]
    },
    {
     "name": "stdout",
     "output_type": "stream",
     "text": [
      "\n",
      "=== Texte 33 ===\n",
      "\n",
      "🔹 Fixed sentence :\n",
      "THE VAMPYRE.\n",
      "A Tale.\n",
      "By John William Polidori\n",
      "THE superstition with which this tale is told is very general in the East. Among the Arabs it appears to be common: it did not, however, extend to the Greeks until after the establishment of Christianity; and it has only assumed its present form since th\n"
     ]
    },
    {
     "name": "stdin",
     "output_type": "stream",
     "text": [
      "Score for this part (1–5):  4\n"
     ]
    },
    {
     "name": "stdout",
     "output_type": "stream",
     "text": [
      "\n",
      "🔹 First random sentence :\n",
      "ed, they resorted to the accustomed remedy. A stake was driven entirely through the heart and lungs of Arnold Paul, at which he is reported to have cried out as dreadfully as if he had been alive. This day, they cut off his head, burned his body, and throw the ashes into his grave. The same measures\n"
     ]
    },
    {
     "name": "stdin",
     "output_type": "stream",
     "text": [
      "Score for this part (1–5):  5\n"
     ]
    },
    {
     "name": "stdout",
     "output_type": "stream",
     "text": [
      "\n",
      "🔹 Second random sentence :\n",
      " hero of a myth, and determined to observe the offspring of his imagination, through the person before him. He became acquainted with him, paid him alteritions, and so for advanced upon his notice, that his presence was always recognised. He gradually learnt that Lord Ruthven's affairs were embarras\n"
     ]
    },
    {
     "name": "stdin",
     "output_type": "stream",
     "text": [
      "Score for this part (1–5):  4\n"
     ]
    },
    {
     "name": "stdout",
     "output_type": "stream",
     "text": [
      "\n",
      "=== Texte 34 ===\n",
      "\n",
      "🔹 Fixed sentence :\n",
      "THE VAMPYRE.\n",
      "A Tale.\n",
      "By John William Polidori\n",
      "THE superstition upon which this tale is based is very general in the East. Among the Arabs it appears to be common: it did not, however, extend to the Greeks until after the establishment of Christianity; and it has only assumed its present form since t\n"
     ]
    },
    {
     "name": "stdin",
     "output_type": "stream",
     "text": [
      "Score for this part (1–5):  5\n"
     ]
    },
    {
     "name": "stdout",
     "output_type": "stream",
     "text": [
      "\n",
      "🔹 First random sentence :\n",
      "everal small islands were distinctly observed, studding the blue wave with spots of emerald green. I seldom enjoyed a view more than I did this; but our enquiries were fruitless as to the name of the person who had resided in this romantic solitude: none knew his name but Dominick, a banker, who had\n"
     ]
    },
    {
     "name": "stdin",
     "output_type": "stream",
     "text": [
      "Score for this part (1–5):  5\n"
     ]
    },
    {
     "name": "stdout",
     "output_type": "stream",
     "text": [
      "\n",
      "🔹 Second random sentence :\n",
      "esting, and in justie to his lordship's good name, which has been grossly slanderod. He has been described as having an unpleasant disposition, indifferent to associating with human nature, or conlributing in any way to sooth its sorrows, or add to its pleasures. The fact is direlly therever, as may\n"
     ]
    },
    {
     "name": "stdin",
     "output_type": "stream",
     "text": [
      "Score for this part (1–5):  4\n"
     ]
    },
    {
     "name": "stdout",
     "output_type": "stream",
     "text": [
      "\n",
      "=== Texte 35 ===\n",
      "\n",
      "🔹 Fixed sentence :\n",
      "THE VAMPYRE.\n",
      "ATALES.\n",
      "By John William Polidori\n",
      "THE superstition upon which his tale was founded is very general in the East. Amsterdam. For the Arabs it appears to be common: it did not, however, extend itself to the Greeks until after the establishment of Christianity; and it has evidently assumed i\n"
     ]
    },
    {
     "name": "stdin",
     "output_type": "stream",
     "text": [
      "Score for this part (1–5):  4\n"
     ]
    },
    {
     "name": "stdout",
     "output_type": "stream",
     "text": [
      "\n",
      "🔹 First random sentence :\n",
      "ter's eye by their irregular folds and various coloured patches. He thought, in fine, that the dreams of poets were the realities of life. He was handsome, frank, and rich: for this reason, upon his entering into the gay circles, many mothers surrounded him, striving which should describe with least\n"
     ]
    },
    {
     "name": "stdin",
     "output_type": "stream",
     "text": [
      "Score for this part (1–5):  5\n"
     ]
    },
    {
     "name": "stdout",
     "output_type": "stream",
     "text": [
      "\n",
      "🔹 Second random sentence :\n",
      " You may save me–you may do more than that–I mean not my life, I heed the value of my existence as little as that of the passing day; but you may save my honour, your father's honour. \"How? Tell me how? \"I need but little–my life ebbs apace–I cannot explain the whole–but if you would conceal all you\n"
     ]
    },
    {
     "name": "stdin",
     "output_type": "stream",
     "text": [
      "Score for this part (1–5):  5\n"
     ]
    },
    {
     "name": "stdout",
     "output_type": "stream",
     "text": [
      "\n",
      "=== Texte 36 ===\n",
      "\n",
      "🔹 Fixed sentence :\n",
      "THE VAMPYRE.\n",
      "A Tale.\n",
      "By John William Powell\n",
      "THE superstition upon which this tale is founded is very general in the East. Among the Arabs it appears to be common: it did not, however, extend itself to the Greeks until after the establishment of Christianity; and it had only assumed its present form \n"
     ]
    },
    {
     "name": "stdin",
     "output_type": "stream",
     "text": [
      "Score for this part (1–5):  4\n"
     ]
    },
    {
     "name": "stdout",
     "output_type": "stream",
     "text": [
      "\n",
      "🔹 First random sentence :\n",
      "in. Apparently, the laughter of the fair only attracted his attention, that he might by a look quell it, and throw fear into those hearts where thoughtlessness reigned. Those who felt this sensation of awe, could not explain whence it arose: some attributed it to the dead grey eye, which, fixed upon\n"
     ]
    },
    {
     "name": "stdin",
     "output_type": "stream",
     "text": [
      "Score for this part (1–5):  5\n"
     ]
    },
    {
     "name": "stdout",
     "output_type": "stream",
     "text": [
      "\n",
      "🔹 Second random sentence :\n",
      "or and appearance had not changed; he seemed as unconcerned of pain as he had been of the injuries inflicted upon him: but towards the close of the first evening, his mind became apparently vengeful, and his eye fixed upon Aubrey, who was inclined to offer his assistance with more than his usual ear\n"
     ]
    },
    {
     "name": "stdin",
     "output_type": "stream",
     "text": [
      "Score for this part (1–5):  4\n"
     ]
    },
    {
     "name": "stdout",
     "output_type": "stream",
     "text": [
      "\n",
      "=== Texte 37 ===\n",
      "\n",
      "🔹 Fixed sentence :\n",
      "THE VAMPYRE.\n",
      "A Tale.\n",
      "By John William Polidor\n",
      "THE superstition upon which this tale is sounded if very general in the East. Among the Arabs this occurrence appears to be common: it did not, however, extend itself to the Greeks until after the establishment of Christianity; and it has only assumed its\n"
     ]
    },
    {
     "name": "stdin",
     "output_type": "stream",
     "text": [
      "Score for this part (1–5):  4\n"
     ]
    },
    {
     "name": "stdout",
     "output_type": "stream",
     "text": [
      "\n",
      "🔹 First random sentence :\n",
      "hardly courage to turn, fearful of seeing a spectre that would blast him, when he perceived, at a little distance, the same figure which had attracted his notice on this spot upon his first entry into society. He gazed till his limbs most refusing to bear their weight, he was obliged to take the arm\n"
     ]
    },
    {
     "name": "stdin",
     "output_type": "stream",
     "text": [
      "Score for this part (1–5):  5\n"
     ]
    },
    {
     "name": "stdout",
     "output_type": "stream",
     "text": [
      "\n",
      "🔹 Second random sentence :\n",
      "sels, in the year 1812, we put into the harbour of Milylene, on the island of that name. The beauty of this place, and the constant supply of cattle and vegetables always to be had there, induce many British vessels to visit it—both men of war and merchantmen; and though it lies far out of the track\n"
     ]
    },
    {
     "name": "stdin",
     "output_type": "stream",
     "text": [
      "Score for this part (1–5):  4\n"
     ]
    },
    {
     "name": "stdout",
     "output_type": "stream",
     "text": [
      "\n",
      "=== Texte 38 ===\n",
      "\n",
      "🔹 Fixed sentence :\n",
      "THE VAMPYRE.\n",
      "A Tale.\n",
      "By John William Polidori\n",
      "THE superstition upon which this tale is founded is very general in the East. Among the Arabs it appears to be common: it did not, however, extend itself to the Greeks until after the establishment of Christianity; and it has only assumed its present for\n"
     ]
    },
    {
     "name": "stdin",
     "output_type": "stream",
     "text": [
      "Score for this part (1–5):  5\n"
     ]
    },
    {
     "name": "stdout",
     "output_type": "stream",
     "text": [
      "\n",
      "🔹 First random sentence :\n",
      "t it was not upon the virtuosos, reduced to indignity by the misfortunes attendant even upon virtue, that he gave his alms; these were sent from the door with hardly suppressed sneers; but when the profligate came to ask something, not to relieve his wants, but to allow him to walow in his lust, or \n"
     ]
    },
    {
     "name": "stdin",
     "output_type": "stream",
     "text": [
      "Score for this part (1–5):  4\n"
     ]
    },
    {
     "name": "stdout",
     "output_type": "stream",
     "text": [
      "\n",
      "🔹 Second random sentence :\n",
      "en. In short, he appeared to us, from what we collected, to have been a very eccentric and nevolent character. One circumstance we learnt, which our old friend at the cottage thought proper not to disclose. He had a most beautiful daughter, with whom the lord was often seen walking on the sea-shore,\n"
     ]
    },
    {
     "name": "stdin",
     "output_type": "stream",
     "text": [
      "Score for this part (1–5):  4\n"
     ]
    },
    {
     "name": "stdout",
     "output_type": "stream",
     "text": [
      "\n",
      "=== Texte 39 ===\n",
      "\n",
      "🔹 Fixed sentence :\n",
      "THE VAMPYRE.\n",
      "A Tale.\n",
      "By John William Polidori\n",
      "THE superstition upon which his tale is founded is very general in the East. Among the Arabs it appears to be common: it did not, however, extend to the Greeks until after the establishment of Christianity; and it has only assumed its present form since \n"
     ]
    },
    {
     "name": "stdin",
     "output_type": "stream",
     "text": [
      "Score for this part (1–5):  5\n"
     ]
    },
    {
     "name": "stdout",
     "output_type": "stream",
     "text": [
      "\n",
      "🔹 First random sentence :\n",
      "s mouth–and is my death was unknown for some time in England–I—I—bless you.\" \"It shall not be known.\" \"Swear!\" cried the dying man, raising himself with exullant violence, \"Swear by all your soul reveres, by all you nature fears, swear that, for a year and a day you will not impart your knowledge of\n"
     ]
    },
    {
     "name": "stdin",
     "output_type": "stream",
     "text": [
      "Score for this part (1–5):  5\n"
     ]
    },
    {
     "name": "stdout",
     "output_type": "stream",
     "text": [
      "\n",
      "🔹 Second random sentence :\n",
      " I am likely to get married. He was an odd, but a very good man. The cottage over the hill, facing the river, belongs to him, and he has left an old man in charge of it: he gave Dominick, the wine-trader, six bundred zechines for it, (about £250 English currency,) and has resided there about fourtee\n"
     ]
    },
    {
     "name": "stdin",
     "output_type": "stream",
     "text": [
      "Score for this part (1–5):  4\n"
     ]
    },
    {
     "name": "stdout",
     "output_type": "stream",
     "text": [
      "\n",
      "=== Texte 40 ===\n",
      "\n",
      "🔹 Fixed sentence :\n",
      "THE VAMPYRE.\n",
      "A Tale.\n",
      "By John William Polidori\n",
      "THE superstition upon which this tale is founded is very general in the East. Among the Arabs it appears to be common: it did not, however, extend itself to the Greeks until after the establishment of Christianity; and it has only assumed its present for\n"
     ]
    },
    {
     "name": "stdin",
     "output_type": "stream",
     "text": [
      "Score for this part (1–5):  5\n"
     ]
    },
    {
     "name": "stdout",
     "output_type": "stream",
     "text": [
      "\n",
      "🔹 First random sentence :\n",
      "ther to day, your sister is honoured.\" Women are frail!\" So soothing, he pushed him towards his associates, who, roused by the old woman, had come in search of him. Aubrey could no longer support himself; his rage not having subsided, had broken a blood-vessel, and he was conveyed to bed. This was n\n"
     ]
    },
    {
     "name": "stdin",
     "output_type": "stream",
     "text": [
      "Score for this part (1–5):  4\n"
     ]
    },
    {
     "name": "stdout",
     "output_type": "stream",
     "text": [
      "\n",
      "🔹 Second random sentence :\n",
      "am likely to get married. He was an odd, but a very good man. The cottage over the hill, facing the river, belonged to him, and he has left an old man in charge of it: he gave Dominick, the wine-trader, six shundrod zechines for it, (about £250 English currency,) and has resided there about fourteen\n"
     ]
    },
    {
     "name": "stdin",
     "output_type": "stream",
     "text": [
      "Score for this part (1–5):  4\n"
     ]
    },
    {
     "name": "stdout",
     "output_type": "stream",
     "text": [
      "\n",
      "=== Texte 41 ===\n",
      "\n",
      "🔹 Fixed sentence :\n",
      "THE VAMPYRE.\n",
      "A Tale.\n",
      "By John William Polidori\n",
      "THE superstition upon which this tale is founded is very common in the East. In the Arabians it appears to be common: it did not, however, extend itself to the Greeks until after the establishment of Christianity; and it has only assumed its present form\n"
     ]
    },
    {
     "name": "stdin",
     "output_type": "stream",
     "text": [
      "Score for this part (1–5):  4\n"
     ]
    },
    {
     "name": "stdout",
     "output_type": "stream",
     "text": [
      "\n",
      "🔹 First random sentence :\n",
      "ever, remonstrance proved unauailing, the guardians thought proper to intervene.\n",
      "For, and, fearing that his mind was becoming alienated, they thought it high time to resume again that trust which had been before imposed upon them by Aubrey's parents.\n",
      "Desirous of rescuing him from the injuries and su\n"
     ]
    },
    {
     "name": "stdin",
     "output_type": "stream",
     "text": [
      "Score for this part (1–5):  5\n"
     ]
    },
    {
     "name": "stdout",
     "output_type": "stream",
     "text": [
      "\n",
      "🔹 Second random sentence :\n",
      "pon her asking him why he thus destroyed the resemblance of her future husband, he looked as if he did not understand her–then seizing her hands, and gazing upon her with a foul expression of countenance, he bade her swear that she would never wed this man, unless he– But he could not advance–it see\n"
     ]
    },
    {
     "name": "stdin",
     "output_type": "stream",
     "text": [
      "Score for this part (1–5):  3\n"
     ]
    },
    {
     "name": "stdout",
     "output_type": "stream",
     "text": [
      "\n",
      "=== Texte 42 ===\n",
      "\n",
      "🔹 Fixed sentence :\n",
      "THE VAMPYRE.\n",
      "A TRAGEDY.\n",
      "By John William Powell\n",
      "THE circumstance upon which this case is decided is very general in the East. Among the Arabs it appears to be common: it did not, however, extend itself to the Greeks until after the establishment of Christianity; and it has assumed its present form si\n"
     ]
    },
    {
     "name": "stdin",
     "output_type": "stream",
     "text": [
      "Score for this part (1–5):  4\n"
     ]
    },
    {
     "name": "stdout",
     "output_type": "stream",
     "text": [
      "\n",
      "🔹 First random sentence :\n",
      "tood near him, though her eyes were apparently fixed upon her's, still it seemed as if they were unperceived; even her unappalled impudence was baffled, and she left the room. But though the common adultress could not influence even the judgment of his eyes, it was not that the female sex was unfavo\n"
     ]
    },
    {
     "name": "stdin",
     "output_type": "stream",
     "text": [
      "Score for this part (1–5):  5\n"
     ]
    },
    {
     "name": "stdout",
     "output_type": "stream",
     "text": [
      "\n",
      "🔹 Second random sentence :\n",
      "the fair conductress brought in a lifeless condition. He shut his eyes, hapering that it was but a vision arising from his deluded imagination; but he again saw the same creature, when he unclosed them, slouched by his side. There was no colour upon her cheek, not even upon her lip; yet there was a \n"
     ]
    },
    {
     "name": "stdin",
     "output_type": "stream",
     "text": [
      "Score for this part (1–5):  4\n"
     ]
    },
    {
     "name": "stdout",
     "output_type": "stream",
     "text": [
      "\n",
      "=== Texte 43 ===\n",
      "\n",
      "🔹 Fixed sentence :\n",
      "THE VAMPYRE.\n",
      "A Tale.\n",
      "By John William Polidori\n",
      "THE superstition upon which this tale is founded is very general in the East. Among the Arabs it appeared to be common; it did not, however, extend itself to the Greeks until after the establishment of Christianity; and it has only assumed its present fo\n"
     ]
    },
    {
     "name": "stdin",
     "output_type": "stream",
     "text": [
      "Score for this part (1–5):  5\n"
     ]
    },
    {
     "name": "stdout",
     "output_type": "stream",
     "text": [
      "\n",
      "🔹 First random sentence :\n",
      " these books the evening before he sailed, and forgot to place them with the others; but,\" said he, \"there they must lie until his return; for he is so particular, that should I to move one thing with his orders, he would frown upon me for a week together.\" He is otherways very good. I once did him \n"
     ]
    },
    {
     "name": "stdin",
     "output_type": "stream",
     "text": [
      "Score for this part (1–5):  4\n"
     ]
    },
    {
     "name": "stdout",
     "output_type": "stream",
     "text": [
      "\n",
      "🔹 Second random sentence :\n",
      "with black planking and fret-work carnices, (as it is now customary in Grecian architecture,) were considerably higher than the roof. The roof, surrounded by a light stone balustrade, was supported by a fine Turkey carpet, beneath an awning of strong coarse linen. Most of the house-tops are thus fur\n"
     ]
    },
    {
     "name": "stdin",
     "output_type": "stream",
     "text": [
      "Score for this part (1–5):  4\n"
     ]
    },
    {
     "name": "stdout",
     "output_type": "stream",
     "text": [
      "\n",
      "=== Texte 44 ===\n",
      "\n",
      "🔹 Fixed sentence :\n",
      "THE VAMPYRE.\n",
      "A Tale.\n",
      "By John William Polidori\n",
      "THE superstition upon which this tale is founded is very general in the East. From the Arabs it appears to be common: it did not, however, extend itself to the Greeks until after the establishment of Christianity; and it has only assumed its present form\n"
     ]
    },
    {
     "name": "stdin",
     "output_type": "stream",
     "text": [
      "Score for this part (1–5):  4\n"
     ]
    },
    {
     "name": "stdout",
     "output_type": "stream",
     "text": [
      "\n",
      "🔹 First random sentence :\n",
      "could not succeed in gaining any information. He went a few nights after with his sister to the assembly of a near regiment. Leaving her under the protection of a matron, he returned into a recess, and here gave himself up to his own devouring thoughts. Perceiving, at last, that many were loaving, h\n"
     ]
    },
    {
     "name": "stdin",
     "output_type": "stream",
     "text": [
      "Score for this part (1–5):  3\n"
     ]
    },
    {
     "name": "stdout",
     "output_type": "stream",
     "text": [
      "\n",
      "🔹 Second random sentence :\n",
      "ore he was bewildered. His oath startled him; was he then to allow this monster to come, bearing ruin upon his breath, amidst all he held dear, and not avert its progress? His very father might have been confined by him. But if he were to break his oath, and disclose his suspicions, who would believ\n"
     ]
    },
    {
     "name": "stdin",
     "output_type": "stream",
     "text": [
      "Score for this part (1–5):  4\n"
     ]
    },
    {
     "name": "stdout",
     "output_type": "stream",
     "text": [
      "\n",
      "=== Texte 45 ===\n",
      "\n",
      "🔹 Fixed sentence :\n",
      "THE VAMPYRE.\n",
      "A TRAGEDY.\n",
      "By John William Polidori\n",
      "THE superstition upon which this tale is founded is very germy in the East. Among the Arabs it appears to be extinct: it did not, however, extend itself to the Greeks until after the establishment of Christianity; and it has only assumed its present f\n"
     ]
    },
    {
     "name": "stdin",
     "output_type": "stream",
     "text": [
      "Score for this part (1–5):  3\n"
     ]
    },
    {
     "name": "stdout",
     "output_type": "stream",
     "text": [
      "\n",
      "🔹 First random sentence :\n",
      " and there, for a moment, appeared to lose, in the embraces and caresses of his sister, all memory of the past. If she before, by her infantine caresses, had gained his affection, now that the woman began to appear, she was still more attaining as a companion.\n",
      "Miss Aubrey had not that winning smile \n"
     ]
    },
    {
     "name": "stdin",
     "output_type": "stream",
     "text": [
      "Score for this part (1–5):  4\n"
     ]
    },
    {
     "name": "stdout",
     "output_type": "stream",
     "text": [
      "\n",
      "🔹 Second random sentence :\n",
      "oom, speckled with rage. When they reached the staircase, Lord Ruthven whispered in his ear—\"Remember your oath, and know, if not my bride to day, your father is dishonoured. \"You are frail!\" So saying, he pushed him towards his attendants, who, surrounded by the old man, had come in search of him. \n"
     ]
    },
    {
     "name": "stdin",
     "output_type": "stream",
     "text": [
      "Score for this part (1–5):  4\n"
     ]
    },
    {
     "name": "stdout",
     "output_type": "stream",
     "text": [
      "\n",
      "=== Texte 46 ===\n",
      "\n",
      "🔹 Fixed sentence :\n",
      "THE VAMPYRE.\n",
      "A Tale.\n",
      "By John William Polidori\n",
      "THE superstition upon which this tale is founded is very general in the East. Among the Arabs it appears to be common: it did not, however, extend itself to the Greeks until after the establishment of Christianity; and it has only assumed its present for\n"
     ]
    },
    {
     "name": "stdin",
     "output_type": "stream",
     "text": [
      "Score for this part (1–5):  5\n"
     ]
    },
    {
     "name": "stdout",
     "output_type": "stream",
     "text": [
      "\n",
      "🔹 First random sentence :\n",
      "ly gained a warmer tint, either from the loss of modesty, or from the long emotion of passion, when his form and outline were beautiful, many of the female hunters after notoriety attempted to win his affection, and gain, at first, some marks of what they might term affection: Lady Mercor, who had b\n"
     ]
    },
    {
     "name": "stdin",
     "output_type": "stream",
     "text": [
      "Score for this part (1–5):  5\n"
     ]
    },
    {
     "name": "stdout",
     "output_type": "stream",
     "text": [
      "\n",
      "🔹 Second random sentence :\n",
      " himself in utter darkness: the sound, however, guided him. He was apparently unwell; for, though he was called, still the sounds continued, and no notice was taken of him. He found himself in contact with someone, whom he immediately seized; when a man cried, \"Again baffled!\" to which a loud laugh \n"
     ]
    },
    {
     "name": "stdin",
     "output_type": "stream",
     "text": [
      "Score for this part (1–5):  4\n"
     ]
    },
    {
     "name": "stdout",
     "output_type": "stream",
     "text": [
      "\n",
      "=== Texte 47 ===\n",
      "\n",
      "🔹 Fixed sentence :\n",
      "THE VAMPYRE.\n",
      "A TRAGEDY.\n",
      "By John William Pollard\n",
      "THE superstition upon which this tale is founded is very general in the East. Among the Arabs it appears to be common: it did not, however, extend itself to the Greeks until after the establishment of Christianity; and it has only assumed its present f\n"
     ]
    },
    {
     "name": "stdin",
     "output_type": "stream",
     "text": [
      "Score for this part (1–5):  5\n"
     ]
    },
    {
     "name": "stdout",
     "output_type": "stream",
     "text": [
      "\n",
      "🔹 First random sentence :\n",
      "On the brow of Mount Ida (a small mountain so named) we met with and engaged a young Greek lad, our guide, who told us he had come from Scio with an English lord, who left the island four days previous to our arrival in his country. \"He engaged me as a pilot,\" said the Greek, \"and would have taken m\n"
     ]
    },
    {
     "name": "stdin",
     "output_type": "stream",
     "text": [
      "Score for this part (1–5):  5\n"
     ]
    },
    {
     "name": "stdout",
     "output_type": "stream",
     "text": [
      "\n",
      "🔹 Second random sentence :\n",
      " plainly decorated:plain green-stained walis, marble tables on either side, a large window in the centre, and a small fountain beneath, which could be made to play through the bronches by moving a spring fixed in the side of a small bronze Venus in a leaning posture; a large cushion or sofcloth comp\n"
     ]
    },
    {
     "name": "stdin",
     "output_type": "stream",
     "text": [
      "Score for this part (1–5):  4\n"
     ]
    },
    {
     "name": "stdout",
     "output_type": "stream",
     "text": [
      "Look at you csv files !! \n"
     ]
    }
   ],
   "source": [
    "import pandas as pd\n",
    "import random\n",
    "\n",
    "def get_random_chunks(text, fixed_len=300):\n",
    "\n",
    "    fixed_chunk = text[:fixed_len]\n",
    "\n",
    "    start1 = random.randint(fixed_len, len(text) - 600)\n",
    "    start2 = random.randint(start1 + fixed_len, len(text) - fixed_len)\n",
    "\n",
    "    random_chunk_1 = text[start1:start1 + fixed_len]\n",
    "    random_chunk_2 = text[start2:start2 + fixed_len]\n",
    "\n",
    "    return fixed_chunk, random_chunk_1, random_chunk_2\n",
    "\n",
    "def ask_score(prompt):\n",
    "    while True:\n",
    "        try:\n",
    "            score = int(input(f\"{prompt} (1–5): \"))\n",
    "            if score in [1, 2, 3, 4, 5]:\n",
    "                return score\n",
    "            else:\n",
    "                print(\"Score has to be between 1 and 5\")\n",
    "        except:\n",
    "            print(\"Score has to be an integer, between 1 and 5\")\n",
    "\n",
    "def main():\n",
    "    df = pd.read_csv(\"bart_correction.csv\")\n",
    "    results = []\n",
    "\n",
    "    for idx, row in df.iterrows():\n",
    "        print(f\"\\n=== Texte {idx} ===\")\n",
    "        text = row[\"corrected_text\"]\n",
    "        fixed, rand1, rand2 = get_random_chunks(text)\n",
    "\n",
    "        print(\"\\n🔹 Fixed sentence :\")\n",
    "        print(fixed)\n",
    "        score_fixed = ask_score(\"Score for this part\")\n",
    "\n",
    "        print(\"\\n🔹 First random sentence :\")\n",
    "        print(rand1)\n",
    "        score_rand1 = ask_score(\"Score for this part\")\n",
    "\n",
    "        print(\"\\n🔹 Second random sentence :\")\n",
    "        print(rand2)\n",
    "        score_rand2 = ask_score(\"Score for this part\")\n",
    "\n",
    "        results.append({\n",
    "            \"text_index\": idx,\n",
    "            \"fixed_chunk\": fixed,\n",
    "            \"score_fixed\": score_fixed,\n",
    "            \"random_chunk_1\": rand1,\n",
    "            \"score_random_1\": score_rand1,\n",
    "            \"random_chunk_2\": rand2,\n",
    "            \"score_random_2\": score_rand2\n",
    "        })\n",
    "\n",
    "    # Export CSV\n",
    "    output_df = pd.DataFrame(results)\n",
    "    output_df.to_csv(\"bart_manual_scores.csv\", index=False)\n",
    "    print(\"Look at you csv files !! \")\n",
    "\n",
    "if __name__ == \"__main__\":\n",
    "    main()"
   ]
  }
 ],
 "metadata": {
  "kernelspec": {
   "display_name": "Python 3 (ipykernel)",
   "language": "python",
   "name": "python3"
  },
  "language_info": {
   "codemirror_mode": {
    "name": "ipython",
    "version": 3
   },
   "file_extension": ".py",
   "mimetype": "text/x-python",
   "name": "python",
   "nbconvert_exporter": "python",
   "pygments_lexer": "ipython3",
   "version": "3.12.9"
  }
 },
 "nbformat": 4,
 "nbformat_minor": 5
}
