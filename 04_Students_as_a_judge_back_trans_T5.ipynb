{
 "cells": [
  {
   "cell_type": "markdown",
   "id": "defd7c0e-5e01-4f7e-bb56-42760cbcbc74",
   "metadata": {},
   "source": [
    "We evaluate the corrections produced by our models. Since we are dealing with a large number of models applied to 48 different texts — each containing approximately 60,000 characters — manually annotating the entire dataset would be prohibitively time-consuming. To make the evaluation process feasible while still obtaining meaningful insights, we opt for a lightweight annotation strategy. Specifically, we evaluate only three sentences per corrected text:\n",
    "\n",
    "- One fixed sentence, chosen to ensure consistency across all evaluations.\n",
    "- Two additional sentences randomly selected from the text, to capture variation and provide a more representative sample of the model's performance.\n",
    "\n",
    "This approach balances annotation efficiency with evaluation reliability."
   ]
  },
  {
   "cell_type": "markdown",
   "id": "71fe65ba-be1c-45fb-af38-25b84dad6d0a",
   "metadata": {},
   "source": [
    "| **Score**         | **Criteria**                                                                                                                                                                    |\n",
    "| ----------------- | ------------------------------------------------------------------------------------------------------------------------------------------------------------------------------- |\n",
    "| **1 - Very Poor** | The text remains largely unreadable. Numerous errors persist (spelling, grammar, punctuation). The overall meaning is lost or extremely unclear. Little to no improvement made. |\n",
    "| **2 - Poor**      | Slightly more readable than the original, but many errors remain. Several sentences are incorrect or ambiguous. Words are still distorted or missing.                           |\n",
    "| **3 - Fair**      | Most obvious errors have been corrected. The text is generally understandable, but noticeable mistakes and awkward phrasing remain. The flow may be choppy.                     |\n",
    "| **4 - Good**      | The text is readable and coherent. Only minor errors remain. There’s overall consistency, though a few syntax or word choice issues may still be present.                       |\n",
    "| **5 - Excellent** | The text is fully corrected: no detectable mistakes, perfect grammar, punctuation, and syntax. The result is fluent, natural, and faithful to the original content.             |\n"
   ]
  },
  {
   "cell_type": "markdown",
   "id": "8c298969-ee76-4874-b88e-3602658765e9",
   "metadata": {},
   "source": [
    "# Back translation"
   ]
  },
  {
   "cell_type": "code",
   "execution_count": null,
   "id": "1fc153b0-215e-44e0-b7ea-5fcaedbb4293",
   "metadata": {},
   "outputs": [
    {
     "name": "stdout",
     "output_type": "stream",
     "text": [
      "\n",
      "=== Texte 0 ===\n",
      "\n",
      "🔹 Fixed sentence :\n",
      "A VAMPYRE:\n",
      "A tale.\n",
      "By John William Polidori.\n",
      "The superstition on which this state is based is very general in the East. However, it did not extend to the Greeks until after the establishment of Christianity; and it did not take the form of presents since the division that the Latin and Greek churche\n"
     ]
    },
    {
     "name": "stdin",
     "output_type": "stream",
     "text": [
      "Score for this part (1–5):  4\n"
     ]
    },
    {
     "name": "stdout",
     "output_type": "stream",
     "text": [
      "\n",
      "🔹 First random sentence :\n",
      "and then smiled.\n",
      "The lime had almost fainted, when, at the top of the year, one of his guardians had started to talk to his doctor about the melancholy situation of Africa in such a awful situation, when his sister was going to marry the next day. Aubrey's attention was instantly drawn; he asked wit\n"
     ]
    },
    {
     "name": "stdin",
     "output_type": "stream",
     "text": [
      "Score for this part (1–5):  4\n"
     ]
    },
    {
     "name": "stdout",
     "output_type": "stream",
     "text": [
      "\n",
      "🔹 Second random sentence :\n",
      " foreheads, or to add lots of measures. The made is directly the inverse, the bone can be collected plalily from these small anecdotes. All the finer feelings of the heart, his elegantly represented in the poems of his secretary, seem to have their seat in his bosom. The tenderness, sympathy and cha\n"
     ]
    },
    {
     "name": "stdin",
     "output_type": "stream",
     "text": [
      "Score for this part (1–5):  3\n"
     ]
    },
    {
     "name": "stdout",
     "output_type": "stream",
     "text": [
      "\n",
      "=== Texte 1 ===\n",
      "\n",
      "🔹 Fixed sentence :\n",
      "A VAMPYRE:\n",
      "A tale.\n",
      "By John William Polidori.\n",
      "The Simpertition on which his tale is based is general in the East. Among the Arahians, he seems to be emmon: he did not, hawever, extend his sons to the Greoks until after the establishment of Christianity; and he took his present form only since the div\n"
     ]
    },
    {
     "name": "stdin",
     "output_type": "stream",
     "text": [
      "Score for this part (1–5):  2\n"
     ]
    },
    {
     "name": "stdout",
     "output_type": "stream",
     "text": [
      "\n",
      "🔹 First random sentence :\n",
      "ms of his leadership, seems to have their seat in his bosom. Tondity, sympathy and charity seem to guide all his actions; and his courteousness to the rest of solitude is an additional reason for the marketing. It is a song on whose heart the Religion has put his bosom, and the over whose head Benev\n"
     ]
    },
    {
     "name": "stdin",
     "output_type": "stream",
     "text": [
      "Score for this part (1–5):  2\n"
     ]
    },
    {
     "name": "stdout",
     "output_type": "stream",
     "text": [
      "\n",
      "🔹 Second random sentence :\n",
      "\"trails\" without feeling proud of him or a compatriot. As far as his love or pleasures are concerned, I do not assume the right to give an opinion. Reports must be received with caution, especially when they are directed against the moral integrity of a man; and whoever dares to justify himself must\n"
     ]
    },
    {
     "name": "stdin",
     "output_type": "stream",
     "text": [
      "Score for this part (1–5):  3\n"
     ]
    },
    {
     "name": "stdout",
     "output_type": "stream",
     "text": [
      "\n",
      "=== Texte 2 ===\n",
      "\n",
      "🔹 Fixed sentence :\n",
      "A VAMPYRE:\n",
      "A tale.\n",
      "By John William Polidori.\n",
      "The superstition on which this tale is based is very general in the East. Among the Arbians, it seems common: however, it does not extend to the Greeks until the establishment of Christianity; and it has only ossumed its form presounded from the divisiori\n"
     ]
    },
    {
     "name": "stdin",
     "output_type": "stream",
     "text": [
      "Score for this part (1–5):  3\n"
     ]
    },
    {
     "name": "stdout",
     "output_type": "stream",
     "text": [
      "\n",
      "🔹 First random sentence :\n",
      "ter leaving Rome, Aubrey directed his steps to Greece, and crossed Penirisula, soon found himself in Athens. He then fixed his house of residence of a Greek; and soon occupied biinself by tracing the records faded from monuments upon ancient glory, which apparently, shame of chronicling the relation\n"
     ]
    },
    {
     "name": "stdin",
     "output_type": "stream",
     "text": [
      "Score for this part (1–5):  3\n"
     ]
    },
    {
     "name": "stdout",
     "output_type": "stream",
     "text": [
      "\n",
      "🔹 Second random sentence :\n",
      "et smile on his lips. He determined to steal scenes, each characteristic of which created suchbitler associations in his mind. He proposed to Lord Ruthven, to whom he held himself bound by the care to steer whom he had taken from him during his illness, that he should visit the parts of Greece neith\n"
     ]
    },
    {
     "name": "stdin",
     "output_type": "stream",
     "text": [
      "Score for this part (1–5):  4\n"
     ]
    },
    {
     "name": "stdout",
     "output_type": "stream",
     "text": [
      "\n",
      "=== Texte 3 ===\n",
      "\n",
      "🔹 Fixed sentence :\n",
      "A VAMPYRE:\n",
      "A tale.\n",
      "By John William Polidori.\n",
      "The superstilion on which this story is based is very general in the East. Among the Arabs, it seems to be common: it does not extend, however, to the Greeks until after the establishment of Christianity; and it has taken its present form only since the d\n"
     ]
    },
    {
     "name": "stdin",
     "output_type": "stream",
     "text": [
      "Score for this part (1–5):  2\n"
     ]
    },
    {
     "name": "stdout",
     "output_type": "stream",
     "text": [
      "\n",
      "🔹 First random sentence :\n",
      " well to use the art of the serpent, or that was the will of destiny, that he gained his affections. The title of the eldest branch that fell to him in length, which obtained an important emossery, which served as an excuse to haveten the marriage tob ,( in spite of the disturbed state of his brothe\n"
     ]
    },
    {
     "name": "stdin",
     "output_type": "stream",
     "text": [
      "Score for this part (1–5):  3\n"
     ]
    },
    {
     "name": "stdout",
     "output_type": "stream",
     "text": [
      "\n",
      "🔹 Second random sentence :\n",
      "le to the left, through a view of noble hazelnuts and plumtrees, small seural islands were observed distinctly, spreading the wave of light blue with spots of emerald green. I rarely enjoyed a moro view that I did not do this; but our requests were irrelevant as to the name of the person who had res\n"
     ]
    },
    {
     "name": "stdin",
     "output_type": "stream",
     "text": [
      "Score for this part (1–5):  \n"
     ]
    },
    {
     "name": "stdout",
     "output_type": "stream",
     "text": [
      "Score has to be an integer, between 1 and 5\n"
     ]
    },
    {
     "name": "stdin",
     "output_type": "stream",
     "text": [
      "Score for this part (1–5):  2\n"
     ]
    },
    {
     "name": "stdout",
     "output_type": "stream",
     "text": [
      "\n",
      "=== Texte 4 ===\n",
      "\n",
      "🔹 Fixed sentence :\n",
      "A VAMPYRE:\n",
      "A tale.\n",
      "By John William Pojdori.\n",
      "The superstition on which this tale is based is very general in the East. Among the Arabs, it seems to be common: however, it does not extend to the Greek to until after the establishment of Christianity; and it has usually taken its present form since the\n"
     ]
    },
    {
     "name": "stdin",
     "output_type": "stream",
     "text": [
      "Score for this part (1–5):  3\n"
     ]
    },
    {
     "name": "stdout",
     "output_type": "stream",
     "text": [
      "\n",
      "🔹 First random sentence :\n",
      " works of Voltaire, Shakespearo, Boileau and Rousseau, the Ruins of the Empires of Volney, Zimmerinan, in the German language, the Messiah of Klopstock, the rivals of Kolzebue, the play of Schiller des Robbers, the Paradise Lost of Milton, an Italian edition, printed in Parma in 1810, several small \n"
     ]
    },
    {
     "name": "stdin",
     "output_type": "stream",
     "text": [
      "Score for this part (1–5):  3\n"
     ]
    },
    {
     "name": "stdout",
     "output_type": "stream",
     "text": [
      "\n",
      "🔹 Second random sentence :\n",
      "day; but to me that day will come again. I make this statement, believing that she is not entirely uninteresting, and in court in the good name of her secretary, which has been severely slandered. It has been described as an unshakeable provision, contrary to human nature, or contributing in any way\n"
     ]
    },
    {
     "name": "stdin",
     "output_type": "stream",
     "text": [
      "Score for this part (1–5):  3\n"
     ]
    },
    {
     "name": "stdout",
     "output_type": "stream",
     "text": [
      "\n",
      "=== Texte 5 ===\n",
      "\n",
      "🔹 Fixed sentence :\n",
      "A VAMPYRE:\n",
      "A tale.\n",
      "By John William Polidori.\n",
      "The superstition on which this table is based is very general in the East. That is what we have to do. It seems common to the Arabs: it did not extend to the Greeks until after the establishment of Christianity; and it has assumed only the present form of\n"
     ]
    },
    {
     "name": "stdin",
     "output_type": "stream",
     "text": [
      "Score for this part (1–5):  2\n"
     ]
    },
    {
     "name": "stdout",
     "output_type": "stream",
     "text": [
      "\n",
      "🔹 First random sentence :\n",
      " but to me that day will come the return. I render this state of mind, believing that it is not entirely uninteresting, arid in justice, the good name of his leadership, which was grossly stoned. It has been described as an insensitive disposition, inverse to associate with human nature, or to contr\n"
     ]
    },
    {
     "name": "stdin",
     "output_type": "stream",
     "text": [
      "Score for this part (1–5):  2\n"
     ]
    },
    {
     "name": "stdout",
     "output_type": "stream",
     "text": [
      "\n",
      "🔹 Second random sentence :\n",
      "ual tribincll where all must appear, only can censor the errors of a confrer-mortal. Lord Byron's character is worthy of his genius. Doing good in secret, and rejecting the applause of the world, is the surest of the contraindications of a virtuous heart and self-collision consciousness.\n",
      "THE END!\n",
      "Gi\n"
     ]
    },
    {
     "name": "stdin",
     "output_type": "stream",
     "text": [
      "Score for this part (1–5):  3\n"
     ]
    },
    {
     "name": "stdout",
     "output_type": "stream",
     "text": [
      "\n",
      "=== Texte 6 ===\n",
      "\n",
      "🔹 Fixed sentence :\n",
      "A VAMPYRE:\n",
      "A tale.\n",
      "By John William Polidori.\n",
      "The superstition on which this talk is just founded is very general in the East. Among the Arabs, it seems to be common: it did not extend to the Greeks until after the establishment of Christianity; and it took its present form only since the division of\n"
     ]
    },
    {
     "name": "stdin",
     "output_type": "stream",
     "text": [
      "Score for this part (1–5):  3\n"
     ]
    },
    {
     "name": "stdout",
     "output_type": "stream",
     "text": [
      "\n",
      "🔹 First random sentence :\n",
      "rently, the laughter of the lawman drew his attention, so that he could by a glance stifle him, and cast fear into the breasts where modesty reigned. Those who fell this feeling of apprehension could not explain that it arose: some attributed it to the grey tbedead eye, which, standing on the face o\n"
     ]
    },
    {
     "name": "stdin",
     "output_type": "stream",
     "text": [
      "Score for this part (1–5):  2\n"
     ]
    },
    {
     "name": "stdout",
     "output_type": "stream",
     "text": [
      "\n",
      "🔹 Second random sentence :\n",
      "ter, for he—but he could not move forward — just seemed as if this voice again asked him to reborn his oalh—he turned abruptly around, thinking that Lord Ruthven was near him but did not see anyone. The guards and the doctor, who had heard the school and thought it was only a return of his disorder,\n"
     ]
    },
    {
     "name": "stdin",
     "output_type": "stream",
     "text": [
      "Score for this part (1–5):  3\n"
     ]
    },
    {
     "name": "stdout",
     "output_type": "stream",
     "text": [
      "\n",
      "=== Texte 7 ===\n",
      "\n",
      "🔹 Fixed sentence :\n",
      "A VAMPYRE:\n",
      "A tale.\n",
      "By John William Polidorl.\n",
      "The position on which this tool is based is very general in the East. Among the Arabs it seems to be Cammon: it laughed, commentcver, extends to the Greeks till after the establishment of Christianity; and it only assumed that it presents form finance the\n"
     ]
    },
    {
     "name": "stdin",
     "output_type": "stream",
     "text": [
      "Score for this part (1–5):  3\n"
     ]
    },
    {
     "name": "stdout",
     "output_type": "stream",
     "text": [
      "\n",
      "🔹 First random sentence :\n",
      "not prevent him from becoming a vampy himself; for about twenty or thirty days after his death, many people complained of being tarnished by him, and of depositing wos, that four people had been deprived of life by his touching. To avoid other malice, the inhabitants having consulted Lejr Hadagni, t\n"
     ]
    },
    {
     "name": "stdin",
     "output_type": "stream",
     "text": [
      "Score for this part (1–5):  2\n"
     ]
    },
    {
     "name": "stdout",
     "output_type": "stream",
     "text": [
      "\n",
      "🔹 Second random sentence :\n",
      " said our conductor ,\" could say it, but I am furious, he will not say it,\" and can you say it, an old friend ?\" he said ,\" If I can ,\" he said ,\" I won't dare .\" We had not long visited the Armenian, but on our return to the tower, we would bend several parliculars of the secluded lord. He shared e\n"
     ]
    },
    {
     "name": "stdin",
     "output_type": "stream",
     "text": [
      "Score for this part (1–5):  3\n"
     ]
    },
    {
     "name": "stdout",
     "output_type": "stream",
     "text": [
      "\n",
      "=== Texte 8 ===\n",
      "\n",
      "🔹 Fixed sentence :\n",
      "A VAMPYRE:\n",
      "A tale.\n",
      "By John William Polidori.\n",
      "The fumestition point that this story is found is very general to the East. Among the Arabs, it seems common: it did not, however, extend itself to the Greeks until asterizing the establishment of Christianity; and it has taken its present form since the \n"
     ]
    },
    {
     "name": "stdin",
     "output_type": "stream",
     "text": [
      "Score for this part (1–5):  3\n"
     ]
    },
    {
     "name": "stdout",
     "output_type": "stream",
     "text": [
      "\n",
      "🔹 First random sentence :\n",
      "be produced. In many parts of Greece, it is considered a sort of punctuation after death, for a heinous crime committed that exists, that the deceased is not only condemned to vampyria, but forced to confijne his infernal visits only to those whom he loved most while he was on earth — those to whom \n"
     ]
    },
    {
     "name": "stdin",
     "output_type": "stream",
     "text": [
      "Score for this part (1–5):  2\n"
     ]
    },
    {
     "name": "stdout",
     "output_type": "stream",
     "text": [
      "\n",
      "🔹 Second random sentence :\n",
      " as defense. However, at the time of the formation of a narrow dew, at the bottom of which was the bed of a torrent, with large masses of rocks brought down neigbbourant precipices, they had reason to repent of their intelligence; for it was horrificly the whole of the TB party engaged in the narrow\n"
     ]
    },
    {
     "name": "stdin",
     "output_type": "stream",
     "text": [
      "Score for this part (1–5):  2\n"
     ]
    },
    {
     "name": "stdout",
     "output_type": "stream",
     "text": [
      "\n",
      "=== Texte 9 ===\n",
      "\n",
      "🔹 Fixed sentence :\n",
      "A VAMPYRE:\n",
      "A tale.\n",
      "By John William Polidori.\n",
      "The superstition on which this tale is based is very fanciful in the West. Amang the Arabs it seems to be your common: it has not, however, spread over the Greeks until after the establishment of Christianity; and it has only clussum its present form sinc\n"
     ]
    },
    {
     "name": "stdin",
     "output_type": "stream",
     "text": [
      "Score for this part (1–5):  2\n"
     ]
    },
    {
     "name": "stdout",
     "output_type": "stream",
     "text": [
      "\n",
      "🔹 First random sentence :\n",
      " left London.\n",
      "The weakness of Aubrey increased; the blood efffusion produced symptoms of the near-death approach. He wanted his sister's guards to be called, and when midnight had struck, he presented himself in the form of a room that the reader persecuted, and he dictated immediately afterwards.\n",
      "T\n"
     ]
    },
    {
     "name": "stdin",
     "output_type": "stream",
     "text": [
      "Score for this part (1–5):  3\n"
     ]
    },
    {
     "name": "stdout",
     "output_type": "stream",
     "text": [
      "\n",
      "🔹 Second random sentence :\n",
      "as his love or pleasures are concerned, I do not assume the right to give an opinion. The deportations must always be the subject of a warning, especially when they violate the moral integrity of a man; afraid who dares to justify himself before this terrible tribulation where everything must appear\n"
     ]
    },
    {
     "name": "stdin",
     "output_type": "stream",
     "text": [
      "Score for this part (1–5):  2\n"
     ]
    },
    {
     "name": "stdout",
     "output_type": "stream",
     "text": [
      "\n",
      "=== Texte 10 ===\n",
      "\n",
      "🔹 Fixed sentence :\n",
      "A VAMPYRE:\n",
      "A tale.\n",
      "By John Willjam Prison.\n",
      "The superstition on which this story is stuffed is very general in the east. Among the Arabs, it seems to be commori: it did not extend to the Greeks until after the establishment of Christianity; and it did not assume its present form since the division of\n"
     ]
    },
    {
     "name": "stdin",
     "output_type": "stream",
     "text": [
      "Score for this part (1–5):  3\n"
     ]
    },
    {
     "name": "stdout",
     "output_type": "stream",
     "text": [
      "\n",
      "🔹 First random sentence :\n",
      "or the next day, which had been announced as a living room.\n",
      "The crowd was excessive, a living room had not been held for a long time, and all the jobs were anxious to rest in the smile of royalty, hastened this. Aubrey was there with her sister. As he threw himself into a bim, he entered the rememor\n"
     ]
    },
    {
     "name": "stdin",
     "output_type": "stream",
     "text": [
      "Score for this part (1–5):  3\n"
     ]
    },
    {
     "name": "stdout",
     "output_type": "stream",
     "text": [
      "\n",
      "🔹 Second random sentence :\n",
      "oks so striking, his anvils are so visible, that if his sister was finally obliged to beg him to refrain from seeking, for her, a society that affected him so much. When, how, the demonstration turned out to be unavailing, the guards thought it appropriate to intervene, and, fearing that the spirit \n"
     ]
    },
    {
     "name": "stdin",
     "output_type": "stream",
     "text": [
      "Score for this part (1–5):  3\n"
     ]
    },
    {
     "name": "stdout",
     "output_type": "stream",
     "text": [
      "\n",
      "=== Texte 11 ===\n",
      "\n",
      "🔹 Fixed sentence :\n",
      "A VAMPYRE:\n",
      "A tale.\n",
      "By John Willjam Polidori.\n",
      "The superstition on which this tale is stuffed is very general in the East. Among the Arabs it seems to be common: it did not, however, extend it to the Uritil Greeks after the establishment of Christianity; and it has assumed its present farm only since \n"
     ]
    },
    {
     "name": "stdin",
     "output_type": "stream",
     "text": [
      "Score for this part (1–5):  3\n"
     ]
    },
    {
     "name": "stdout",
     "output_type": "stream",
     "text": [
      "\n",
      "🔹 First random sentence :\n",
      "e remained in this state; locked in his room, he saw no one, and ate only when his sister clapped, who, with eyes flowing with tears, begged him, for his own good, to sustain nature. Finally, being no longer able to endure calm and loneliness, he left his house, wandered from the street to the stree\n"
     ]
    },
    {
     "name": "stdin",
     "output_type": "stream",
     "text": [
      "Score for this part (1–5):  2\n"
     ]
    },
    {
     "name": "stdout",
     "output_type": "stream",
     "text": [
      "\n",
      "🔹 Second random sentence :\n",
      "opriate to reveal. He had a very beautiful daughter, with whom the Lord was often seen bouncing on the seafront, and he had bought him a piano-forle, and he himself taught him how to use it.\n",
      "This was the information with which we left the peaceful island Mitylene os; love imaginations all on the rac\n"
     ]
    },
    {
     "name": "stdin",
     "output_type": "stream",
     "text": [
      "Score for this part (1–5):  3\n"
     ]
    },
    {
     "name": "stdout",
     "output_type": "stream",
     "text": [
      "\n",
      "=== Texte 12 ===\n",
      "\n",
      "🔹 Fixed sentence :\n",
      "A VAMPYRE:\n",
      "A Talo.\n",
      "By John William Polidori.\n",
      "The superstition on which this tale is exhausted is very general in the East. Manga Arabs It seems to be emmon: it does not extend to the Greeks, however, until after the establishment of Christiariity; and it has not flashed its present form since the di\n"
     ]
    },
    {
     "name": "stdin",
     "output_type": "stream",
     "text": [
      "Score for this part (1–5):  2\n"
     ]
    },
    {
     "name": "stdout",
     "output_type": "stream",
     "text": [
      "\n",
      "🔹 First random sentence :\n",
      "oice screams ,\" Always flouted !\" He felt overwhelmed by a man whose strength seemed superhuman: he soaked life as hard as he could, he struggled; but it was in uain: he was left from his feet and threw with enormous force against the grurid :— the enemy bis fought over him, and knelt on his chest, \n"
     ]
    },
    {
     "name": "stdin",
     "output_type": "stream",
     "text": [
      "Score for this part (1–5):  3\n"
     ]
    },
    {
     "name": "stdout",
     "output_type": "stream",
     "text": [
      "\n",
      "🔹 Second random sentence :\n",
      "e parts of the Greee neighbor had seen again. They traveled in all directions, and looked for any place where reprint clings; but they hadtened in this way to go from one place to another, but they did not seem to hold what they were looking at. They heard many robbers ,6 but they gradually began to\n"
     ]
    },
    {
     "name": "stdin",
     "output_type": "stream",
     "text": [
      "Score for this part (1–5):  3\n"
     ]
    },
    {
     "name": "stdout",
     "output_type": "stream",
     "text": [
      "\n",
      "=== Texte 13 ===\n",
      "\n",
      "🔹 Fixed sentence :\n",
      "A VAMPYRE:\n",
      "A tale.\n",
      "By John William Polidori.\n",
      "The superstition on which this tale is based is very general in the East. Among the Arabs it seems to be common: it nat, however, extends to the Greeks until after the establishment of Christiariity; and it has taken its present form only since the divisi\n"
     ]
    },
    {
     "name": "stdin",
     "output_type": "stream",
     "text": [
      "Score for this part (1–5):  \n"
     ]
    },
    {
     "name": "stdout",
     "output_type": "stream",
     "text": [
      "Score has to be an integer, between 1 and 5\n"
     ]
    },
    {
     "name": "stdin",
     "output_type": "stream",
     "text": [
      "Score for this part (1–5):  3\n"
     ]
    },
    {
     "name": "stdout",
     "output_type": "stream",
     "text": [
      "\n",
      "🔹 First random sentence :\n",
      "at could be attracted by a butterfly or a color – it was sedative and pensive. When alone, her face was never brilliantly shaken by the smile of joy; but when her brother breathed her affection, and in her presence she would have relieved those sorrows that she knew to destroy her roste, who would h\n"
     ]
    },
    {
     "name": "stdin",
     "output_type": "stream",
     "text": [
      "Score for this part (1–5):  2\n"
     ]
    },
    {
     "name": "stdout",
     "output_type": "stream",
     "text": [
      "\n",
      "🔹 Second random sentence :\n",
      " that may be more easily bc designed than deformed, the notes of occupied preparation. The morning came, and the sound of the cars broke on his ear. Aubrey grew frantic almost. The curiosity of the servants finally came to their village, they graciously stole, leaving him in the custody of an old po\n"
     ]
    },
    {
     "name": "stdin",
     "output_type": "stream",
     "text": [
      "Score for this part (1–5):  2\n"
     ]
    },
    {
     "name": "stdout",
     "output_type": "stream",
     "text": [
      "\n",
      "=== Texte 14 ===\n",
      "\n",
      "🔹 Fixed sentence :\n",
      "A VAMPYRE:\n",
      "A tale.\n",
      "By John William Polidori.\n",
      "The superstition on which this tale is founded is very general in the East. Among the Arabs, it is common: it did not extend to the Greeks until after the establishment of Christianity; and it took its present form only since the division of the Latin and\n"
     ]
    },
    {
     "name": "stdin",
     "output_type": "stream",
     "text": [
      "Score for this part (1–5):  4\n"
     ]
    },
    {
     "name": "stdout",
     "output_type": "stream",
     "text": [
      "\n",
      "🔹 First random sentence :\n",
      "rior 1 were beautiful ,1 many female hunters after notoriety aspired to gain her attention, and to gain, at least, some marks of what they might call affection: Lady Mercer, who had been moc ery to every mansler dressed in the drawing rooms since her marriage, threw himself in her way, and threw him\n"
     ]
    },
    {
     "name": "stdin",
     "output_type": "stream",
     "text": [
      "Score for this part (1–5):  3\n"
     ]
    },
    {
     "name": "stdout",
     "output_type": "stream",
     "text": [
      "\n",
      "🔹 Second random sentence :\n",
      "avities and caresses of his sister, all the memory of the past. If, by her infantile caresses, she had acquired her affection, now that the woman was beginning to appear, she was full inore attaches a companion.\n",
      "Miss Aubrey didn't have total winning thanks to which wins the look and applause of draw\n"
     ]
    },
    {
     "name": "stdin",
     "output_type": "stream",
     "text": [
      "Score for this part (1–5):  3\n"
     ]
    },
    {
     "name": "stdout",
     "output_type": "stream",
     "text": [
      "\n",
      "=== Texte 15 ===\n",
      "\n",
      "🔹 Fixed sentence :\n",
      "A VAMPYRE:\n",
      "A tale.\n",
      "By Johri William Polidori.\n",
      "THE superstition on which this tale is found is very general in the East. Among the Arabs, it seems to be common: it did not extend, hawen, to the Greeks until after the establishment of Christianity; and it did not assume its sorm present since the divi\n"
     ]
    },
    {
     "name": "stdin",
     "output_type": "stream",
     "text": [
      "Score for this part (1–5):  3\n"
     ]
    },
    {
     "name": "stdout",
     "output_type": "stream",
     "text": [
      "\n",
      "🔹 First random sentence :\n",
      " broke part of his morosity, while his guardians observed that several times in the mscly he counted on his fingers a certain number, and then smiled.\n",
      "The shooting had almost ended, when, on the day of the year, one of his guardians cracking his room, began to converse with his physician on the mela\n"
     ]
    },
    {
     "name": "stdin",
     "output_type": "stream",
     "text": [
      "Score for this part (1–5):  3\n"
     ]
    },
    {
     "name": "stdout",
     "output_type": "stream",
     "text": [
      "\n",
      "🔹 Second random sentence :\n",
      " us, filled with books and papers, which were there in the large secret chest in the closet: it was open, but we did not think that the novels justified by examining the content. On the tablet of the recreation play Voltajres, Shakespeare, Boileau and Rousseau complete works; the ruins of the empire\n"
     ]
    },
    {
     "name": "stdin",
     "output_type": "stream",
     "text": [
      "Score for this part (1–5):  2\n"
     ]
    },
    {
     "name": "stdout",
     "output_type": "stream",
     "text": [
      "\n",
      "=== Texte 16 ===\n",
      "\n",
      "🔹 Fixed sentence :\n",
      "A VAMPYRE:\n",
      "A tale.\n",
      "By Jonathan Polidorj.\n",
      "The superstition on which this tale is falsified is very general to the East. It did not extend to the Greeks until they swelled the establishment of Christjanity; arid took its present form only from the division of the Latin and Greek churches; to which the\n"
     ]
    },
    {
     "name": "stdin",
     "output_type": "stream",
     "text": [
      "Score for this part (1–5):  3\n"
     ]
    },
    {
     "name": "stdout",
     "output_type": "stream",
     "text": [
      "\n",
      "🔹 First random sentence :\n",
      "filement will tear the braids of his yellow hair, Df who, in life of locks when the thorn Affeoton the tenderest pledge carried — But now is a boom away from your Memorial of your agony! But with your best drop of blood, your grinning tooth, and your harry lip, and then trampling on your sulten tomb\n"
     ]
    },
    {
     "name": "stdin",
     "output_type": "stream",
     "text": [
      "Score for this part (1–5):  2\n"
     ]
    },
    {
     "name": "stdout",
     "output_type": "stream",
     "text": [
      "\n",
      "🔹 Second random sentence :\n",
      "irtue, that he granted his alarms ;— the door was sent out where sneezes were not removed; bvt when the profligate came to ask for something, not to relieve his desires, but to allow him to harden himself in his last, or to sink him deeper into his iniquity, he was back to a rich charity. This was, \n"
     ]
    },
    {
     "name": "stdin",
     "output_type": "stream",
     "text": [
      "Score for this part (1–5):  2\n"
     ]
    },
    {
     "name": "stdout",
     "output_type": "stream",
     "text": [
      "\n",
      "=== Texte 17 ===\n",
      "\n",
      "🔹 Fixed sentence :\n",
      "A VAMPYRE:\n",
      "A tale.\n",
      "By John William Polidori.\n",
      "The superstition on which this tale is based is very general in the East. Among the Arabs it seems to be common: however, it does not extend to the Greeks until oster the establishment of the Christianity; and it has assumed its form precstered only from \n"
     ]
    },
    {
     "name": "stdin",
     "output_type": "stream",
     "text": [
      "Score for this part (1–5):  2\n"
     ]
    },
    {
     "name": "stdout",
     "output_type": "stream",
     "text": [
      "\n",
      "🔹 First random sentence :\n",
      "e street; and at the door he found sons hindered by the crowd of servants waiting for their lords; and while he was committed to passing them, he heard again that the voice murmured the closet to him :\"Remember your oath !\" He dared not turn, but, pressing on his sister, soon came to the horn.\n",
      "Aubre\n"
     ]
    },
    {
     "name": "stdin",
     "output_type": "stream",
     "text": [
      "Score for this part (1–5):  4\n"
     ]
    },
    {
     "name": "stdout",
     "output_type": "stream",
     "text": [
      "\n",
      "🔹 Second random sentence :\n",
      "to carry a silt and solitudo, he left his house, wandered from the street to the street, astonished to steal this haunted image of this. His dress was spoiled, and he wandered, as often exposed to the noon smile as to the midnight humidity. He was no longer recognized; at first he returned to the ho\n"
     ]
    },
    {
     "name": "stdin",
     "output_type": "stream",
     "text": [
      "Score for this part (1–5):  4\n"
     ]
    },
    {
     "name": "stdout",
     "output_type": "stream",
     "text": [
      "\n",
      "=== Texte 18 ===\n",
      "\n",
      "🔹 Fixed sentence :\n",
      "A VAMPYRE:\n",
      "A tale.\n",
      "By John William Polidori.\n",
      "The superstition concept that this story is founded is very general in the class. Among the Arabs, it seems common lobe: he did not, however, externalize himself to the united Greeks after the establishment of Christianity; and he did not take his present\n"
     ]
    },
    {
     "name": "stdin",
     "output_type": "stream",
     "text": [
      "Score for this part (1–5):  2\n"
     ]
    },
    {
     "name": "stdout",
     "output_type": "stream",
     "text": [
      "\n",
      "🔹 First random sentence :\n",
      "lhemselves, after several of their close relatives and children had found so unbelievable, she begged to believe it, for he had been pointed out that those who had darod to question their existence, had always had given evidence, which forced him to confess, with grief and heart broken, to confess. \n"
     ]
    },
    {
     "name": "stdin",
     "output_type": "stream",
     "text": [
      "Score for this part (1–5):  3\n"
     ]
    },
    {
     "name": "stdout",
     "output_type": "stream",
     "text": [
      "\n",
      "🔹 Second random sentence :\n",
      "uld brow from his brain. Lord Ruthuen again begged him — the circumstances began to open — the dagger — his oath .— He woke him up, he might riot that it was possible —\n",
      "— The dead rise again !— He thought his imagination had conjured the image on which the spirit rests. It was impossible that it cou\n"
     ]
    },
    {
     "name": "stdin",
     "output_type": "stream",
     "text": [
      "Score for this part (1–5):  2\n"
     ]
    },
    {
     "name": "stdout",
     "output_type": "stream",
     "text": [
      "\n",
      "=== Texte 19 ===\n",
      "\n",
      "🔹 Fixed sentence :\n",
      "A VAMPYRE:\n",
      "A tale.\n",
      "By John William Poidori.\n",
      "THE superslition on which this tale is based is very general in the East. Arabs it seems to be commori: it did not, however, extend senclf to the Greeks until after the establishment of Christianity; and it only assumed just a present form since the divisi\n"
     ]
    },
    {
     "name": "stdin",
     "output_type": "stream",
     "text": [
      "Score for this part (1–5):  3\n"
     ]
    },
    {
     "name": "stdout",
     "output_type": "stream",
     "text": [
      "\n",
      "🔹 First random sentence :\n",
      "ished for his rank and arduous accompaniment; who suddenly he piqued a medallion on his chest; open it up, what was his surprise to see the characteristics of the monster who had influenced him for so long. He split the portrait into a paroxysm of the crogo, and trampled it under foot. On her asking\n"
     ]
    },
    {
     "name": "stdin",
     "output_type": "stream",
     "text": [
      "Score for this part (1–5):  3\n"
     ]
    },
    {
     "name": "stdout",
     "output_type": "stream",
     "text": [
      "\n",
      "🔹 Second random sentence :\n",
      " in Parma in 1810; several small pamphlets of the Greek press al Conslantinaple, much to nr, but no English book of any description. Most of these books were filled with original notes, written with a pencil, in Italian and Latin. That Messiah was literally scratched also, and marked with sheets of \n"
     ]
    },
    {
     "name": "stdin",
     "output_type": "stream",
     "text": [
      "Score for this part (1–5):  4\n"
     ]
    },
    {
     "name": "stdout",
     "output_type": "stream",
     "text": [
      "\n",
      "=== Texte 20 ===\n",
      "\n",
      "🔹 Fixed sentence :\n",
      "A VAMPYRE:\n",
      "A tale.\n",
      "By John William Polidori.\n",
      "The superstition on which this tale is based is very crazy in the East. Among the Arabs, he appears to be a common bc: he did not extend, hawever, to the Greeks until after the establishment of Christianity; the client did not assume his present form sinc\n"
     ]
    },
    {
     "name": "stdin",
     "output_type": "stream",
     "text": [
      "Score for this part (1–5):  3\n"
     ]
    },
    {
     "name": "stdout",
     "output_type": "stream",
     "text": [
      "\n",
      "🔹 First random sentence :\n",
      "to the night, as it must necessarily pass through a word, where no Greek would ever remain, after the doy closed, on any consideration whatsoever. They described it as the resort of the vampyres in their night orgies, and denounced the mousse ailments as imminent on him who dared to cross the way to\n"
     ]
    },
    {
     "name": "stdin",
     "output_type": "stream",
     "text": [
      "Score for this part (1–5):  2\n"
     ]
    },
    {
     "name": "stdout",
     "output_type": "stream",
     "text": [
      "\n",
      "🔹 Second random sentence :\n",
      "ith them at the wedding party. He gave a cow to a man, horses to others, and arid silk of cotton to the girls who live wearing these items. So he bought a new boat for a fisherman who had lost his property in a storm, and he often gave Greek Testaments to poor children. In short, it appeared loud, f\n"
     ]
    },
    {
     "name": "stdin",
     "output_type": "stream",
     "text": [
      "Score for this part (1–5):  3\n"
     ]
    },
    {
     "name": "stdout",
     "output_type": "stream",
     "text": [
      "\n",
      "=== Texte 21 ===\n",
      "\n",
      "🔹 Fixed sentence :\n",
      "A VAMPYRE:\n",
      "A tale.\n",
      "By John William Polidori.\n",
      "The superstition on which this tale is based is very general in the East. Among the Arabs, it seems to 6th commonly didriol, Howeuer, extends to the Greeks according to established Christianity; he normally assumed his farm personal Sirioe the division of\n"
     ]
    },
    {
     "name": "stdin",
     "output_type": "stream",
     "text": [
      "Score for this part (1–5):  3\n"
     ]
    },
    {
     "name": "stdout",
     "output_type": "stream",
     "text": [
      "\n",
      "🔹 First random sentence :\n",
      "t, when he had gone up to the summit, he found no trace of either the eorpse or the clothes, although the thieves swore that they pointed the identical rock on which they had laid the body. For a time, his fury was puzzled in conjectures, but he finally remained convinced that they had buried the co\n"
     ]
    },
    {
     "name": "stdin",
     "output_type": "stream",
     "text": [
      "Score for this part (1–5):  4\n"
     ]
    },
    {
     "name": "stdout",
     "output_type": "stream",
     "text": [
      "\n",
      "🔹 Second random sentence :\n",
      "eath, one in the midst of being held dear, and not have his progress? His sister may have been touched by him. But even if we were to break his oath, arid discuss his suspicions, who would believe it? He thought he would encroach his hand to free the world from such a misery; but death, he recalled,\n"
     ]
    },
    {
     "name": "stdin",
     "output_type": "stream",
     "text": [
      "Score for this part (1–5):  2\n"
     ]
    },
    {
     "name": "stdout",
     "output_type": "stream",
     "text": [
      "\n",
      "=== Texte 22 ===\n",
      "\n",
      "🔹 Fixed sentence :\n",
      "A VAMPYRE:\n",
      "A tale.\n",
      "By John William Polidori.\n",
      "The superstition on which this place is found is very general in the East. Among the Arabs, he seems to be oommon: he rioted, however, extends to the Greeks until after the establishment of Christianity; and he surely assumed his present agricultural sino\n"
     ]
    },
    {
     "name": "stdin",
     "output_type": "stream",
     "text": [
      "Score for this part (1–5):  3\n"
     ]
    },
    {
     "name": "stdout",
     "output_type": "stream",
     "text": [
      "\n",
      "🔹 First random sentence :\n",
      "eclined rapidly; in two days, inortificationened, and death seemed to progress with the steps of hostia. His conduct and appearance had not changed; he seemed like a piri conconclous as he had been objects of obedience: but towards the end of the last evening, his urid became apparently uncomfortabl\n"
     ]
    },
    {
     "name": "stdin",
     "output_type": "stream",
     "text": [
      "Score for this part (1–5):  4\n"
     ]
    },
    {
     "name": "stdout",
     "output_type": "stream",
     "text": [
      "\n",
      "🔹 Second random sentence :\n",
      "antly; for he sails in his face very often towards the various islands .\"\n",
      "We wasted time taking possession of a house where our compatriot lived. We were greeted by an old man, who cannoned us over the mansion. It consists of four apartments on the ground floor: an entrance hall, a living room, a li\n"
     ]
    },
    {
     "name": "stdin",
     "output_type": "stream",
     "text": [
      "Score for this part (1–5):  4\n"
     ]
    },
    {
     "name": "stdout",
     "output_type": "stream",
     "text": [
      "\n",
      "=== Texte 23 ===\n",
      "\n",
      "🔹 Fixed sentence :\n",
      "A VAMPYRE:\n",
      "A little.\n",
      "By John William Polidori.\n",
      "The superstition on which this tale is based is very general in the East. Amang the Arabians it seems to be common: he made the riot, however, extends to the Greeks until clfter the establishment of Christianity; and he only took his presbyterian form f\n"
     ]
    },
    {
     "name": "stdin",
     "output_type": "stream",
     "text": [
      "Score for this part (1–5):  2\n"
     ]
    },
    {
     "name": "stdout",
     "output_type": "stream",
     "text": [
      "\n",
      "🔹 First random sentence :\n",
      "of this light shine that exists in the heated atmosphere of a crowded apartment. His blue eye was lit up by the reindeer's levity below. There was a melancholic charm about it that seemed not to come from misfortune, but from an inner feeling, which seemed to indicate a tough soul of a brighter king\n"
     ]
    },
    {
     "name": "stdin",
     "output_type": "stream",
     "text": [
      "Score for this part (1–5):  3\n"
     ]
    },
    {
     "name": "stdout",
     "output_type": "stream",
     "text": [
      "\n",
      "🔹 Second random sentence :\n",
      "e ,( in spite of the disturbed state of beer brother ,) which was to bring to take the day before the high exportation for the counterint.\n",
      "Aubrey, when left by the doctor and his guards, tried to bribe the fervors, but in vain. He asked for a pen and paper; just was given to him; he wrote a letter t\n"
     ]
    },
    {
     "name": "stdin",
     "output_type": "stream",
     "text": [
      "Score for this part (1–5):  3\n"
     ]
    },
    {
     "name": "stdout",
     "output_type": "stream",
     "text": [
      "\n",
      "=== Texte 24 ===\n",
      "\n",
      "🔹 Fixed sentence :\n",
      "A VAMPYRE:\n",
      "A tale.\n",
      "By John William Polidori.\n",
      "The superstition on which this tale is based is very geriatric to the East. Arnong thc Arabians it seems to be common: it did not, however, extend to the Greeks until after the establishment of the Christianity; it took its present form only from the divi\n"
     ]
    },
    {
     "name": "stdin",
     "output_type": "stream",
     "text": [
      "Score for this part (1–5):  4\n"
     ]
    },
    {
     "name": "stdout",
     "output_type": "stream",
     "text": [
      "\n",
      "🔹 First random sentence :\n",
      "welcome virtue, to the lowest abyss of infamy and degradation: in the end, all the women whom he had fought, apparently on the account of their virlue, had, from his departure, set aside the same mask, and had not burned to expose all the deformity of their vices to the public gaze.\n",
      "Aubrey suspected\n"
     ]
    },
    {
     "name": "stdin",
     "output_type": "stream",
     "text": [
      "Score for this part (1–5):  3\n"
     ]
    },
    {
     "name": "stdout",
     "output_type": "stream",
     "text": [
      "\n",
      "🔹 Second random sentence :\n",
      "e, muoh torn, but no English book of any description. Most of the hesis books were filled with marginal notes, written in a pencil, Italian and Latin. The Messiah was literally scratched everywhere, and truffled with sheets of paper, one that also was romarks.\n",
      "The old man said ,\" The Lord had sew th\n"
     ]
    },
    {
     "name": "stdin",
     "output_type": "stream",
     "text": [
      "Score for this part (1–5):  3\n"
     ]
    },
    {
     "name": "stdout",
     "output_type": "stream",
     "text": [
      "\n",
      "=== Texte 25 ===\n",
      "\n",
      "🔹 Fixed sentence :\n",
      "A VAMPYRE:\n",
      "A Time.\n",
      "By John Williain Polidori.\n",
      "The superstition concept that this place is founded is very general in the class. Among the Arabs, he appears to be in common: he did not, however, extend his sons to the Greeks until after the establishment of Christiaria; and he did not assume his pres\n"
     ]
    },
    {
     "name": "stdin",
     "output_type": "stream",
     "text": [
      "Score for this part (1–5):  4\n"
     ]
    },
    {
     "name": "stdout",
     "output_type": "stream",
     "text": [
      "\n",
      "🔹 First random sentence :\n",
      "her mind, would tell them all the supernatural tales of her nurse. Her gains and her apparent belief of what she was telling, aroused the euen interest of A ubrey; and often as she told her the story of the living vclmpyr, which had spent years among her friends, and the most dear ties, forced each \n"
     ]
    },
    {
     "name": "stdin",
     "output_type": "stream",
     "text": [
      "Score for this part (1–5):  3\n"
     ]
    },
    {
     "name": "stdout",
     "output_type": "stream",
     "text": [
      "\n",
      "🔹 Second random sentence :\n",
      "ting. As he approached, the thunders, for a silent mummcrit, prompted him to hear the terrible cries of a woman who was mingled with a choked and exulting mokerie of a laugh, continued in one unbroken human sound ;— he was surprised; but, excited by the thunder that rolled again on his head, he, wit\n"
     ]
    },
    {
     "name": "stdin",
     "output_type": "stream",
     "text": [
      "Score for this part (1–5):  3\n"
     ]
    },
    {
     "name": "stdout",
     "output_type": "stream",
     "text": [
      "\n",
      "=== Texte 26 ===\n",
      "\n",
      "🔹 Fixed sentence :\n",
      "A VAMPYRE:\n",
      "A tale.\n",
      "By John William Polidori.\n",
      "THE supremacy on which this story is based is very general in the East. Among the Arabs, it seems to be common: however, it did not extend to Greek after the establishment of Christianity; and it took its present form only since the division of Latin and \n"
     ]
    },
    {
     "name": "stdin",
     "output_type": "stream",
     "text": [
      "Score for this part (1–5):  3\n"
     ]
    },
    {
     "name": "stdout",
     "output_type": "stream",
     "text": [
      "\n",
      "🔹 First random sentence :\n",
      " action ;— he promised. It was, however, so busy in its research, that they did not perceive that the daylight would end so, and that on the horizon there, with one of those spots which, in warmer climates, so quickly gather a huge mass of irito, and pour all the fury upon the devoted land .—He fina\n"
     ]
    },
    {
     "name": "stdin",
     "output_type": "stream",
     "text": [
      "Score for this part (1–5):  2\n"
     ]
    },
    {
     "name": "stdout",
     "output_type": "stream",
     "text": [
      "\n",
      "🔹 Second random sentence :\n",
      "small anecdotes. All the finer feelings of the heart, so gloriously depressed in his secondary poems, seem to have their place in his bosom. Tonderries, sympathies, and charity appear to guide all his actions; and he courtes the rest of the solitudes carry additional reason to mark him as a being on\n"
     ]
    },
    {
     "name": "stdin",
     "output_type": "stream",
     "text": [
      "Score for this part (1–5):  3\n"
     ]
    },
    {
     "name": "stdout",
     "output_type": "stream",
     "text": [
      "\n",
      "=== Texte 27 ===\n",
      "\n",
      "🔹 Fixed sentence :\n",
      "A VAMPYRE:\n",
      "A tale.\n",
      "By John William Polidori.\n",
      "The superimposition on this tale is very general to the East. Among these Arabians opposes being a comman: it does, however, extend to the Greeks only after the establishment of Christianity; and it has assumed their present form only since the division o\n"
     ]
    },
    {
     "name": "stdin",
     "output_type": "stream",
     "text": [
      "Score for this part (1–5):  3\n"
     ]
    },
    {
     "name": "stdout",
     "output_type": "stream",
     "text": [
      "\n",
      "🔹 First random sentence :\n",
      " young girls. He was the last on the island, the scene was dancing with them to the bridal sea. He gave a cow to a man, horses to others, and Colton and talked to the girl who lives by weaving these items. Hc also bought a new boat for a fisherman who had lost his own in a game, and was osten gauge \n"
     ]
    },
    {
     "name": "stdin",
     "output_type": "stream",
     "text": [
      "Score for this part (1–5):  2\n"
     ]
    },
    {
     "name": "stdout",
     "output_type": "stream",
     "text": [
      "\n",
      "🔹 Second random sentence :\n",
      " have collected, to have been a very arid character very eco-efficient. A circumstance that we bequeathed, which our old friend at the cottage asked Praper not to reveal. He had a very beautiful daughter, with whom we often saw the world walking on the shore of the sea, and he had bought him a piano\n"
     ]
    },
    {
     "name": "stdin",
     "output_type": "stream",
     "text": [
      "Score for this part (1–5):  3\n"
     ]
    },
    {
     "name": "stdout",
     "output_type": "stream",
     "text": [
      "\n",
      "=== Texte 28 ===\n",
      "\n",
      "🔹 Fixed sentence :\n",
      "A VAMPYRE:\n",
      "A tale.\n",
      "By John Williain Polidori.\n",
      "The superstition concept that this story is founded is very general in the East. Among the Arabs, it seems to be common: however, he did not externalize himself to the Greeks according to the establishment of Christianity; he normally assumed his present\n"
     ]
    },
    {
     "name": "stdin",
     "output_type": "stream",
     "text": [
      "Score for this part (1–5):  3\n"
     ]
    },
    {
     "name": "stdout",
     "output_type": "stream",
     "text": [
      "\n",
      "🔹 First random sentence :\n",
      "s than any other instance that could be produced. In many parts, Grocce bone it is so considered as a kind of punishment after death, for an inheritance crime committed while it existsenco, it is the death not only condemned to vampyrise, but complicated to limit the infornal visits only to the bein\n"
     ]
    },
    {
     "name": "stdin",
     "output_type": "stream",
     "text": [
      "Score for this part (1–5):  3\n"
     ]
    },
    {
     "name": "stdout",
     "output_type": "stream",
     "text": [
      "\n",
      "🔹 Second random sentence :\n",
      "which a great laugh succeeds; and he felt struck by a force which he seemed superhuman: dlermined to consecrate himself as much as he could, he struggled; but it was in vain: he was lifted from his feet, bowed with enormous force against the ground ;– his enemy threw himself on HLM, and kneeled on h\n"
     ]
    },
    {
     "name": "stdin",
     "output_type": "stream",
     "text": [
      "Score for this part (1–5):  3\n"
     ]
    },
    {
     "name": "stdout",
     "output_type": "stream",
     "text": [
      "\n",
      "=== Texte 29 ===\n",
      "\n",
      "🔹 Fixed sentence :\n",
      "A VAMPYRE:\n",
      "A Talo.\n",
      "By John William Polidori.\n",
      "The superposition on which his tole is based is very general in the East. Among the tho-Arabs, it seems to be a change: it has not, however, spread over the Greeks the establishment of Christianity; and it has only assigned its present form sirice tbe div\n"
     ]
    },
    {
     "name": "stdin",
     "output_type": "stream",
     "text": [
      "Score for this part (1–5):  3\n"
     ]
    },
    {
     "name": "stdout",
     "output_type": "stream",
     "text": [
      "\n",
      "🔹 First random sentence :\n",
      "sented as having roamed from the grave for the purpose of tormenter, has better love whiest in existence. But this cannot be assumed to have resisted the sinfulness of his life, being pursued throughout history as a complete type of purity and innocentness. The real turn....\n",
      "effort gives a long run \n"
     ]
    },
    {
     "name": "stdin",
     "output_type": "stream",
     "text": [
      "Score for this part (1–5):  2\n"
     ]
    },
    {
     "name": "stdout",
     "output_type": "stream",
     "text": [
      "\n",
      "🔹 Second random sentence :\n",
      "age; Klopstock's Messiah; Kotzebues novels; Schiller's play of the Robbers; Mollons Paradise Lost, an Italian edition, prayed to Parma in 1810; several small pamphlets of the Greek press club Constantinople, much torn, but no book in English of any description. Most of these books were filled with m\n"
     ]
    },
    {
     "name": "stdin",
     "output_type": "stream",
     "text": [
      "Score for this part (1–5):  3\n"
     ]
    },
    {
     "name": "stdout",
     "output_type": "stream",
     "text": [
      "\n",
      "=== Texte 30 ===\n",
      "\n",
      "🔹 Fixed sentence :\n",
      "A VAMPYRE:\n",
      "A tale.\n",
      "By John William Polidori.\n",
      "THE superstition on which this college is founded so very generally in the East. Among the Arabs, it seems to be comman: it did not extend, however, to the Greeks until they swelled the establishment of Christianity; and it took its present form only sinc\n"
     ]
    },
    {
     "name": "stdin",
     "output_type": "stream",
     "text": [
      "Score for this part (1–5):  3\n"
     ]
    },
    {
     "name": "stdout",
     "output_type": "stream",
     "text": [
      "\n",
      "🔹 First random sentence :\n",
      "t didn't see anyone. In the meantime, the guards and the doctor, who had kept the whale, and thought it was only cl up from her disorder, entered, and Miss Aubreys frocing, wanted to leave a bim. He got on his knees, he begged, he begged them to delay, but for one day. They, attributing this to the \n"
     ]
    },
    {
     "name": "stdin",
     "output_type": "stream",
     "text": [
      "Score for this part (1–5):  4\n"
     ]
    },
    {
     "name": "stdout",
     "output_type": "stream",
     "text": [
      "\n",
      "🔹 Second random sentence :\n",
      "isherman who had lost his own in a scab, and he often gave Greek students to poor children. In short, it seemed to us, from all that we have collected, to have been a very eccentric character and benevolent. A waxumstanco that we are bequeathing, which our old friend Australia considered appropriate\n"
     ]
    },
    {
     "name": "stdin",
     "output_type": "stream",
     "text": [
      "Score for this part (1–5):  3\n"
     ]
    },
    {
     "name": "stdout",
     "output_type": "stream",
     "text": [
      "\n",
      "=== Texte 31 ===\n",
      "\n",
      "🔹 Fixed sentence :\n",
      "A VAMPYRE:\n",
      "A tale.\n",
      "By John William Polldorl.\n",
      "The superftition on which his tale is based is very general in the East. Among the Arabs, he seems to be a combination: however, he did not explain himself to the Greeks until they afflicted the establishment of Christianity; and he took his form presound\n"
     ]
    },
    {
     "name": "stdin",
     "output_type": "stream",
     "text": [
      "Score for this part (1–5):  4\n"
     ]
    },
    {
     "name": "stdout",
     "output_type": "stream",
     "text": [
      "\n",
      "🔹 First random sentence :\n",
      "ay in the presence of the morning circle of an Italian country, as he went to search for memorials in an almost deserted city. When he was so engaged, letters madroyed englarid, whom he opened with impatience; the first was frain bis sister, breathing without holding but affection; the others were f\n"
     ]
    },
    {
     "name": "stdin",
     "output_type": "stream",
     "text": [
      "Score for this part (1–5):  4\n"
     ]
    },
    {
     "name": "stdout",
     "output_type": "stream",
     "text": [
      "\n",
      "🔹 Second random sentence :\n",
      " hall, a living room, a sitting parlover, and a hedroom, with a spacious closet and annexed. They were all simply decorated: simple walls, marble tables on each side, a large myrtle in the center, and a small fountain below, which could be made to play through the branches by moving a fixed iri spri\n"
     ]
    },
    {
     "name": "stdin",
     "output_type": "stream",
     "text": [
      "Score for this part (1–5):  3\n"
     ]
    },
    {
     "name": "stdout",
     "output_type": "stream",
     "text": [
      "\n",
      "=== Texte 32 ===\n",
      "\n",
      "🔹 Fixed sentence :\n",
      "A VAMPYRE:\n",
      "A tale.\n",
      "By John William Polidori.\n",
      "The superstition on which this tale is found is very general in the Orient. Among the Arabs, it seems to be a common: it does not, arch...\n",
      "cvor, extends to the Greeks until after the establishment of Christianity; and it has taken its form presounded only\n"
     ]
    },
    {
     "name": "stdin",
     "output_type": "stream",
     "text": [
      "Score for this part (1–5):  3\n"
     ]
    },
    {
     "name": "stdout",
     "output_type": "stream",
     "text": [
      "\n",
      "🔹 First random sentence :\n",
      "sm of rage, and trampled it under foot. On her asking why he destroyed the resemblance of her future husband, he looked like if he did not understand her, then taking his hands and looking with a frenzy of countermeasures, he told her to swear that she would marry this monster, because he — but he w\n"
     ]
    },
    {
     "name": "stdin",
     "output_type": "stream",
     "text": [
      "Score for this part (1–5):  2\n"
     ]
    },
    {
     "name": "stdout",
     "output_type": "stream",
     "text": [
      "\n",
      "🔹 Second random sentence :\n",
      "guards, and when midnight had passed, he told me in a composite way that the reader had pervated, he died immediately after.\n",
      "The guards sought to protect Miss Aubrey; but when they arrived, it was too late. Lord Ruthuon had disappeared, and Every sister had slipped the deepest of a VAMPYRE!\n",
      "EXTRACT \n"
     ]
    },
    {
     "name": "stdin",
     "output_type": "stream",
     "text": [
      "Score for this part (1–5):  3\n"
     ]
    },
    {
     "name": "stdout",
     "output_type": "stream",
     "text": [
      "\n",
      "=== Texte 33 ===\n",
      "\n",
      "🔹 Fixed sentence :\n",
      "A VAMPYRE:\n",
      "A tale.\n",
      "By John William Polidori.\n",
      "The superstition on which this tale is stuffed is very general in the East. Among the Arabs it seems to be common: he did not, comment, extend it to the Greeks until after the establishment of the Christianity; and he only assumed his present from Siric t\n"
     ]
    },
    {
     "name": "stdin",
     "output_type": "stream",
     "text": [
      "Score for this part (1–5):  3\n"
     ]
    },
    {
     "name": "stdout",
     "output_type": "stream",
     "text": [
      "\n",
      "🔹 First random sentence :\n",
      "would do anything ,\" I replied to Aubrey. \"I need, but a little of my life flourishes, I cannot explain everything — bvl if you hide all You know of me, my honor has freed itself from the stain in the mouth of the world — and if my death has been unknown for some time in England — I — but life. \"—\"H\n"
     ]
    },
    {
     "name": "stdin",
     "output_type": "stream",
     "text": [
      "Score for this part (1–5):  3\n"
     ]
    },
    {
     "name": "stdout",
     "output_type": "stream",
     "text": [
      "\n",
      "🔹 Second random sentence :\n",
      "d while he was committed to passing over them, he heard this voice murmur with him again, saying ,\"Remember your oath !\", he dared not turn, but, hurry up his sister, he soon came to his house.\n",
      "Aubrey almost distracted herself. If before the high mind had been absorbed by a subject, how much more co\n"
     ]
    },
    {
     "name": "stdin",
     "output_type": "stream",
     "text": [
      "Score for this part (1–5):  4\n"
     ]
    },
    {
     "name": "stdout",
     "output_type": "stream",
     "text": [
      "\n",
      "=== Texte 34 ===\n",
      "\n",
      "🔹 Fixed sentence :\n",
      "A VAMPYRE:\n",
      "A tale.\n",
      "By John William Polidori.\n",
      "THE superstition on which this story is smiling is very general in the East. Among the Arabs, it seems to be common: however, he did not extend his sons to the Greeks until after the establishment of Christianity; and he assumed his present somme only fro\n"
     ]
    },
    {
     "name": "stdin",
     "output_type": "stream",
     "text": [
      "Score for this part (1–5):  3\n"
     ]
    },
    {
     "name": "stdout",
     "output_type": "stream",
     "text": [
      "\n",
      "🔹 First random sentence :\n",
      " first on earth, Vampyre keys sent, And thy horn shall be torn from his sepulchre; and when thou hast haunted the place of origin, and sucked the blood of all thy sap: there shall thy davghter, sister, wife, shall be broken, about midnight drain the stream of life: yet hate the banquet that is to st\n"
     ]
    },
    {
     "name": "stdin",
     "output_type": "stream",
     "text": [
      "Score for this part (1–5):  3\n"
     ]
    },
    {
     "name": "stdout",
     "output_type": "stream",
     "text": [
      "\n",
      "🔹 Second random sentence :\n",
      "of his pencil, tracing the scenes of his place of origin; she then described him the dancecircling on the open plain, he painted, to him in all the brilliant covers of the young memory, the pomp of marriage that she remembered having looked at in her childhood; and then, turning to the sub-jocts tha\n"
     ]
    },
    {
     "name": "stdin",
     "output_type": "stream",
     "text": [
      "Score for this part (1–5):  3\n"
     ]
    },
    {
     "name": "stdout",
     "output_type": "stream",
     "text": [
      "\n",
      "=== Texte 35 ===\n",
      "\n",
      "🔹 Fixed sentence :\n",
      "A VAMPYRE:\n",
      "That is right.\n",
      "By John William Polidori.\n",
      "The superstition on which his tale is based is a very general in the East. European Union Arabs it seems common: however, he did not depart from the Greeks until after the establishment of Christiariity; he normally assumed his present from the div\n"
     ]
    },
    {
     "name": "stdin",
     "output_type": "stream",
     "text": [
      "Score for this part (1–5):  2\n"
     ]
    },
    {
     "name": "stdout",
     "output_type": "stream",
     "text": [
      "\n",
      "🔹 First random sentence :\n",
      "in Italian and in the lalin. The Messlah was literally scrambled all over, and m arkod with sheets of paper, on which were also marks.\n",
      "The old man said ,\" The Lord had scorned these books in the evening before he left, and forgot to put them with others; but, he said, he must lick until his return; \n"
     ]
    },
    {
     "name": "stdin",
     "output_type": "stream",
     "text": [
      "Score for this part (1–5):  3\n"
     ]
    },
    {
     "name": "stdout",
     "output_type": "stream",
     "text": [
      "\n",
      "🔹 Second random sentence :\n",
      "ipped, grapes, oranges and lindens, which gathered on its borders, and found the shade of two large bushes of myrtle, a marble seat with an ornamental wood back, on which we were told, the lord spent many of his furnaces and nights until 1 twelve hours, reading, writing, and talking to himself. \"I s\n"
     ]
    },
    {
     "name": "stdin",
     "output_type": "stream",
     "text": [
      "Score for this part (1–5):  2\n"
     ]
    },
    {
     "name": "stdout",
     "output_type": "stream",
     "text": [
      "\n",
      "=== Texte 36 ===\n",
      "\n",
      "🔹 Fixed sentence :\n",
      "A VAMPYRE:\n",
      "A tale.\n",
      "By John William Poidori.\n",
      "The superstition on which this tale is based is a very general in the East. Among the Arabs it seems to be common: it did not extend to the Greeks until after the establishment of Christianity; and it took its present form only since the division of the La\n"
     ]
    },
    {
     "name": "stdin",
     "output_type": "stream",
     "text": [
      "Score for this part (1–5):  3\n"
     ]
    },
    {
     "name": "stdout",
     "output_type": "stream",
     "text": [
      "\n",
      "🔹 First random sentence :\n",
      "e a correlation could be coupled; but while they hadtened thus from the place, they seemed to ignore what they were looking at. They heard a lot of robbers, but they gradually began to lick reports, which they imagined to be only the invoking of individuals, whose interest was to expel the generally\n"
     ]
    },
    {
     "name": "stdin",
     "output_type": "stream",
     "text": [
      "Score for this part (1–5):  3\n"
     ]
    },
    {
     "name": "stdout",
     "output_type": "stream",
     "text": [
      "\n",
      "🔹 Second random sentence :\n",
      "y clumsy. He has been described as an insensitive disposjlion, averse him to human nature, or contributing in any way to bleeding his sorrows, or to add to his pleasures. The fact is directly the opposite, the class can be clearly collected from these little anecdotes. All the finest feelings of the\n"
     ]
    },
    {
     "name": "stdin",
     "output_type": "stream",
     "text": [
      "Score for this part (1–5):  3\n"
     ]
    },
    {
     "name": "stdout",
     "output_type": "stream",
     "text": [
      "\n",
      "=== Texte 37 ===\n",
      "\n",
      "🔹 Fixed sentence :\n",
      "A VAMPYRE:\n",
      "A tale.\n",
      "By John Williain Polidorl.\n",
      "THE superstition on which this tale is sounded so general in the East. Among Arabianf, then he appears to be common: he does not extend, however, to the Greeks until after the establishment of Christianity; he did not assume his present before from the d\n"
     ]
    },
    {
     "name": "stdin",
     "output_type": "stream",
     "text": [
      "Score for this part (1–5):  3\n"
     ]
    },
    {
     "name": "stdout",
     "output_type": "stream",
     "text": [
      "\n",
      "🔹 First random sentence :\n",
      "ter. A circumstratory that we learned, which our old friend at the cottage considered appropriate not to discography. He had a very beautiful daughter, with whom the lord was often seen waking up on the shore of the sea, and he had given him a piano-strong, and gave him the use of himself.\n",
      "This was \n"
     ]
    },
    {
     "name": "stdin",
     "output_type": "stream",
     "text": [
      "Score for this part (1–5):  2\n"
     ]
    },
    {
     "name": "stdout",
     "output_type": "stream",
     "text": [
      "\n",
      "🔹 Second random sentence :\n",
      "a countryman. With respects his love or pleasure, I do not assume the right to give an opinion. Reports must be welcomed with caution, especially when they violate the moral integrity of a man; and whoever dares to justify himself before this terrible court where all must appear, Alono can censor th\n"
     ]
    },
    {
     "name": "stdin",
     "output_type": "stream",
     "text": [
      "Score for this part (1–5):  3\n"
     ]
    },
    {
     "name": "stdout",
     "output_type": "stream",
     "text": [
      "\n",
      "=== Texte 38 ===\n",
      "\n",
      "🔹 Fixed sentence :\n",
      "e: THEVAMPYRE;\n",
      "A tale.\n",
      "By John William Polidori.\n",
      "The superstition on which this tale is based is very general in the East. Among the Arabs, it seems to be common: it did not extend to the Greeks until after the establishment of Christianity; and it took its present form only since the division of th\n"
     ]
    },
    {
     "name": "stdin",
     "output_type": "stream",
     "text": [
      "Score for this part (1–5):  3\n"
     ]
    },
    {
     "name": "stdout",
     "output_type": "stream",
     "text": [
      "\n",
      "🔹 First random sentence :\n",
      "s that gravely distressed, which he wanted her not to tease him. \"Oh, don touch him, if your spoil is for me, don't come near him !\" When, however, she asked whom he reproved, her only answer was :\"True! Truo !\" And again, he threw himself into a state, wherever she couldn't raise him. It lasted man\n"
     ]
    }
   ],
   "source": [
    "import pandas as pd\n",
    "import random\n",
    "\n",
    "def get_random_chunks(text, fixed_len=300):\n",
    "\n",
    "    fixed_chunk = text[:fixed_len]\n",
    "\n",
    "    start1 = random.randint(fixed_len, len(text) - 600)\n",
    "    start2 = random.randint(start1 + fixed_len, len(text) - fixed_len)\n",
    "\n",
    "    random_chunk_1 = text[start1:start1 + fixed_len]\n",
    "    random_chunk_2 = text[start2:start2 + fixed_len]\n",
    "\n",
    "    return fixed_chunk, random_chunk_1, random_chunk_2\n",
    "\n",
    "def ask_score(prompt):\n",
    "    while True:\n",
    "        try:\n",
    "            score = int(input(f\"{prompt} (1–5): \"))\n",
    "            if score in [1, 2, 3, 4, 5]:\n",
    "                return score\n",
    "            else:\n",
    "                print(\"Score has to be between 1 and 5\")\n",
    "        except:\n",
    "            print(\"Score has to be an integer, between 1 and 5\")\n",
    "\n",
    "def main():\n",
    "    df = pd.read_csv(\"back_translation_t5_correction.csv\")\n",
    "    results = []\n",
    "\n",
    "    for idx, row in df.iterrows():\n",
    "        print(f\"\\n=== Texte {idx} ===\")\n",
    "        text = row[\"corrected_text\"]\n",
    "        fixed, rand1, rand2 = get_random_chunks(text)\n",
    "\n",
    "        print(\"\\n🔹 Fixed sentence :\")\n",
    "        print(fixed)\n",
    "        score_fixed = ask_score(\"Score for this part\")\n",
    "\n",
    "        print(\"\\n🔹 First random sentence :\")\n",
    "        print(rand1)\n",
    "        score_rand1 = ask_score(\"Score for this part\")\n",
    "\n",
    "        print(\"\\n🔹 Second random sentence :\")\n",
    "        print(rand2)\n",
    "        score_rand2 = ask_score(\"Score for this part\")\n",
    "\n",
    "        results.append({\n",
    "            \"text_index\": idx,\n",
    "            \"fixed_chunk\": fixed,\n",
    "            \"score_fixed\": score_fixed,\n",
    "            \"random_chunk_1\": rand1,\n",
    "            \"score_random_1\": score_rand1,\n",
    "            \"random_chunk_2\": rand2,\n",
    "            \"score_random_2\": score_rand2\n",
    "        })\n",
    "\n",
    "    # Export CSV\n",
    "    output_df = pd.DataFrame(results)\n",
    "    output_df.to_csv(\"Back_translation_t5_manual_scores.csv\", index=False)\n",
    "    print(\"Look at you csv files !! \")\n",
    "\n",
    "if __name__ == \"__main__\":\n",
    "    main()"
   ]
  },
  {
   "cell_type": "code",
   "execution_count": null,
   "id": "84834e3d-dde2-4700-8c31-50766f10d2d1",
   "metadata": {},
   "outputs": [],
   "source": []
  }
 ],
 "metadata": {
  "kernelspec": {
   "display_name": "Python 3 (ipykernel)",
   "language": "python",
   "name": "python3"
  },
  "language_info": {
   "codemirror_mode": {
    "name": "ipython",
    "version": 3
   },
   "file_extension": ".py",
   "mimetype": "text/x-python",
   "name": "python",
   "nbconvert_exporter": "python",
   "pygments_lexer": "ipython3",
   "version": "3.12.9"
  }
 },
 "nbformat": 4,
 "nbformat_minor": 5
}
