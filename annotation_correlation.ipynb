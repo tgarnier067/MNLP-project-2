{
 "cells": [
  {
   "cell_type": "markdown",
   "id": "876e6599-b24e-4934-82e8-0a1e4f1a61f5",
   "metadata": {},
   "source": [
    "The manual annotations are compared with the annotation by Gemini"
   ]
  },
  {
   "cell_type": "code",
   "execution_count": 59,
   "id": "4ae33934-bf40-4fe9-be99-b932e3cdae00",
   "metadata": {},
   "outputs": [],
   "source": [
    "import warnings\n",
    "warnings.filterwarnings(\"ignore\", category=DeprecationWarning)"
   ]
  },
  {
   "cell_type": "markdown",
   "id": "46415ce1-cb31-442c-9729-1537c51ae988",
   "metadata": {},
   "source": [
    "# get the annotations "
   ]
  },
  {
   "cell_type": "code",
   "execution_count": 64,
   "id": "2c8daad3-d49c-4c77-ae85-bb67a75a7113",
   "metadata": {},
   "outputs": [],
   "source": [
    "import pandas as pd\n",
    "\n",
    "t5_manual = pd.read_csv('T5_manual_scores.csv')\n",
    "t5_gemini = pd.read_csv('T5_gemini_scores_all_texts.csv')\n",
    "\n",
    "bt_manual = pd.read_csv('Back_translation_manual_scores.csv')\n",
    "bt_gemini = pd.read_csv('Back_translation_gemini_scores_all_texts.csv')\n",
    "\n",
    "#bart_manual = \n",
    "#bart_gemini = pd.read_csv('Bart_gemini_scores_all_texts.csv')"
   ]
  },
  {
   "cell_type": "markdown",
   "id": "3a345409-26bd-4b76-bf1d-8c292fe3ff85",
   "metadata": {},
   "source": [
    "# weighted sum of the scores of the chunks for each text"
   ]
  },
  {
   "cell_type": "code",
   "execution_count": 25,
   "id": "e86384a5-d854-4381-8b6e-ca625c24912b",
   "metadata": {},
   "outputs": [],
   "source": [
    "#bigger weight for the fixed sentence\n",
    "weights = [1.5,1,1]\n",
    "\n",
    "t5_manual['manual_score'] = t5_manual[['score_fixed', 'score_random_1', 'score_random_2']].apply(\n",
    "    lambda row: (row['score_fixed']*weights[0] + row['score_random_1']*weights[1] + row['score_random_2']*weights[2]) / sum(weights),\n",
    "    axis=1)"
   ]
  },
  {
   "cell_type": "code",
   "execution_count": 26,
   "id": "a6e1aa27-ab70-4253-aa45-431f8771e0d9",
   "metadata": {},
   "outputs": [
    {
     "name": "stderr",
     "output_type": "stream",
     "text": [
      "/tmp/ipykernel_3846/3551248739.py:3: DeprecationWarning: DataFrameGroupBy.apply operated on the grouping columns. This behavior is deprecated, and in a future version of pandas the grouping columns will be excluded from the operation. Either pass `include_groups=False` to exclude the groupings or explicitly select the grouping columns after groupby to silence this warning.\n",
      "  scores = t5_gemini.groupby('text_index').apply( lambda g: (g['score'] * g['weight']).sum() / g['weight'].sum()\n"
     ]
    }
   ],
   "source": [
    "t5_gemini['weight'] = t5_gemini['chunk_index'].apply(lambda x: 1.5 if x==0 else 1) #weight of 1.5 for the chunk 0 \n",
    "\n",
    "scores = t5_gemini.groupby('text_index').apply( lambda g: (g['score'] * g['weight']).sum() / g['weight'].sum()\n",
    "                                              ).reset_index(name='gemini_score').merge(t5_manual[['text_index','manual_score']], \n",
    "                                                                                on = 'text_index')"
   ]
  },
  {
   "cell_type": "code",
   "execution_count": 54,
   "id": "c0c2a65f-fde3-4edf-a5c2-4956e99e7aac",
   "metadata": {},
   "outputs": [],
   "source": [
    "def compute_scores(df_manual, df_gemini):\n",
    "    #weight for the fixed sentence > weights of other sentences\n",
    "    weights = [1.5, 1, 1]\n",
    "    \n",
    "    #weighted sum of the annotations\n",
    "    df_manual = df_manual.copy()\n",
    "    df_manual['manual_score'] = df_manual[['score_fixed', 'score_random_1', 'score_random_2']].apply(\n",
    "        lambda row: (row['score_fixed'] * weights[0] + row['score_random_1'] * weights[1] + row['score_random_2'] * weights[2]) / sum(weights),\n",
    "        axis=1)\n",
    "    \n",
    "    # weight for the chunks\n",
    "    df_gemini = df_gemini.copy()\n",
    "    df_gemini['weight'] = df_gemini['chunk_index'].apply(lambda x: 1.5 if x == 0 else 1)\n",
    "    \n",
    "    #weighted average of scores given by gemini\n",
    "    gemini_scores = df_gemini.groupby('text_index').apply(\n",
    "        lambda g: (g['score'] * g['weight']).sum() / g['weight'].sum()\n",
    "    ).reset_index(name='gemini_score')\n",
    "    \n",
    "\n",
    "    result = gemini_scores.merge(df_manual[['text_index', 'manual_score']], on='text_index')\n",
    "    \n",
    "    return result\n"
   ]
  },
  {
   "cell_type": "code",
   "execution_count": 60,
   "id": "0573b9ce-20f3-48f5-b08e-d9ed5663520f",
   "metadata": {},
   "outputs": [
    {
     "name": "stdout",
     "output_type": "stream",
     "text": [
      "Correlation t5 (Pearson) : 0.108\n"
     ]
    }
   ],
   "source": [
    "scores_t5 = compute_scores(t5_manual, t5_gemini)\n",
    "correlation_t5 = scores_t5['manual_score'].corr(scores_t5['gemini_score'])\n",
    "\n",
    "print(f\"Correlation t5 (Pearson) : {correlation_t5:.3f}\")"
   ]
  },
  {
   "cell_type": "code",
   "execution_count": 61,
   "id": "39e2bd38-a120-4e69-8202-ee7fefcb36c3",
   "metadata": {},
   "outputs": [
    {
     "name": "stdout",
     "output_type": "stream",
     "text": [
      "Correlation back translation (Pearson) : 0.077\n"
     ]
    }
   ],
   "source": [
    "scores_bt = compute_scores(bt_manual, bt_gemini)\n",
    "correlation_bt = scores_bt['manual_score'].corr(scores_bt['gemini_score'])\n",
    "print(f\"Correlation back translation (Pearson) : {correlation_bt:.3f}\")"
   ]
  },
  {
   "cell_type": "code",
   "execution_count": null,
   "id": "4eff7cb7-aa57-4332-84e0-cd12c4cebd63",
   "metadata": {},
   "outputs": [],
   "source": [
    "scores_bart = compute_scores(bart_manual, bart_gemini)\n",
    "correlation_bart = scores_bart['manual_score'].corr(scores_bart['gemini_score'])\n",
    "print(f\"Correlation back translation (Pearson) : {correlation_bart:.3f}\")"
   ]
  }
 ],
 "metadata": {
  "kernelspec": {
   "display_name": "Python 3 (ipykernel)",
   "language": "python",
   "name": "python3"
  },
  "language_info": {
   "codemirror_mode": {
    "name": "ipython",
    "version": 3
   },
   "file_extension": ".py",
   "mimetype": "text/x-python",
   "name": "python",
   "nbconvert_exporter": "python",
   "pygments_lexer": "ipython3",
   "version": "3.12.9"
  }
 },
 "nbformat": 4,
 "nbformat_minor": 5
}
