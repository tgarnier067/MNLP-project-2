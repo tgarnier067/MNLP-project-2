{
 "cells": [
  {
   "cell_type": "markdown",
   "id": "416af97a-898a-46d6-bbab-2dc29fcfbec7",
   "metadata": {},
   "source": [
    "# \"Clean\" text"
   ]
  },
  {
   "cell_type": "code",
   "execution_count": 8,
   "id": "c4c6f132-790e-40b4-a662-9ee67c023a8b",
   "metadata": {},
   "outputs": [],
   "source": [
    "import pandas as pd\n",
    "\n",
    "df_t5 = pd.read_csv('T5_correction.csv')\n",
    "df_bt = pd.read_csv('back_translation_correction.csv')\n",
    "df_bart = pd.read_csv('bart_correction.csv')\n",
    "df_bt_t5 = pd.read_csv('back_translation_t5_correction.csv')"
   ]
  },
  {
   "cell_type": "code",
   "execution_count": 13,
   "id": "91008e34-cdef-4656-a143-950d96140841",
   "metadata": {},
   "outputs": [],
   "source": [
    "import pandas as pd\n",
    "import json\n",
    "\n",
    "df = df_bt_t5.copy()\n",
    "model_name = 'back_translation_t5' \n",
    "\n",
    "data_dict = dict(zip(df['index'], df['corrected_text']))\n",
    "\n",
    "# Étape 3 : Exporter en JSON\n",
    "with open(f\"Pythoms-hw2_ocr-{model_name}.json\", \"w\", encoding=\"utf-8\") as f:\n",
    "    json.dump(data_dict, f, ensure_ascii=False, indent=4)"
   ]
  },
  {
   "cell_type": "markdown",
   "id": "bc89691a-71e5-40e4-9071-d065d85f31f0",
   "metadata": {},
   "source": [
    "# Output of LLM as a judge"
   ]
  }
 ],
 "metadata": {
  "kernelspec": {
   "display_name": "Python 3 (ipykernel)",
   "language": "python",
   "name": "python3"
  },
  "language_info": {
   "codemirror_mode": {
    "name": "ipython",
    "version": 3
   },
   "file_extension": ".py",
   "mimetype": "text/x-python",
   "name": "python",
   "nbconvert_exporter": "python",
   "pygments_lexer": "ipython3",
   "version": "3.12.9"
  }
 },
 "nbformat": 4,
 "nbformat_minor": 5
}
