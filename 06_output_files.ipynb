{
 "cells": [
  {
   "cell_type": "markdown",
   "id": "416af97a-898a-46d6-bbab-2dc29fcfbec7",
   "metadata": {},
   "source": [
    "# \"Clean\" text"
   ]
  },
  {
   "cell_type": "code",
   "execution_count": 26,
   "id": "c4c6f132-790e-40b4-a662-9ee67c023a8b",
   "metadata": {},
   "outputs": [],
   "source": [
    "import pandas as pd\n",
    "\n",
    "df_ocr = pd.read_csv('~/work/MNLP-project-2/data/eng/the_vampyre_ocr.csv')\n",
    "df_t5 = pd.read_csv('T5_correction.csv')\n",
    "df_bt = pd.read_csv('back_translation_correction.csv')\n",
    "df_bart = pd.read_csv('bart_correction.csv')\n",
    "df_bt_t5 = pd.read_csv('back_translation_t5_correction.csv')"
   ]
  },
  {
   "cell_type": "code",
   "execution_count": 29,
   "id": "91008e34-cdef-4656-a143-950d96140841",
   "metadata": {},
   "outputs": [],
   "source": [
    "import pandas as pd\n",
    "import json\n",
    "\n",
    "df = df_ocr.copy()\n",
    "model_name = 'ocr' \n",
    "\n",
    "data_dict = dict(zip(df['id'], df['texte']))\n",
    "\n",
    "# Étape 3 : Exporter en JSON\n",
    "with open(f\"Pythoms-hw2_ocr-{model_name}.json\", \"w\", encoding=\"utf-8\") as f:\n",
    "    json.dump(data_dict, f, ensure_ascii=False, indent=4)"
   ]
  },
  {
   "cell_type": "markdown",
   "id": "bc89691a-71e5-40e4-9071-d065d85f31f0",
   "metadata": {},
   "source": [
    "# Output of LLM as a judge"
   ]
  },
  {
   "cell_type": "code",
   "execution_count": 30,
   "id": "fa70a327-16ce-4795-a4c0-1b0c9d395fa7",
   "metadata": {},
   "outputs": [],
   "source": [
    "import pandas as pd\n",
    "\n",
    "df_ocr = pd.read_csv('ocr_gemini_scores.csv')\n",
    "df_t5 = pd.read_csv('T5_gemini_scores_all_texts.csv')\n",
    "df_bt = pd.read_csv('Back_translation_gemini_scores_all_texts.csv')\n",
    "df_bart = pd.read_csv('Bart_gemini_scores_all_texts.csv')\n",
    "df_bt_t5 = pd.read_csv('back_translation_t5_gemini_scores_all_texts.csv')"
   ]
  },
  {
   "cell_type": "code",
   "execution_count": 21,
   "id": "1dcd3e7a-f8c7-4dff-b2a2-757f19bfe0f3",
   "metadata": {},
   "outputs": [
    {
     "data": {
      "text/html": [
       "<div>\n",
       "<style scoped>\n",
       "    .dataframe tbody tr th:only-of-type {\n",
       "        vertical-align: middle;\n",
       "    }\n",
       "\n",
       "    .dataframe tbody tr th {\n",
       "        vertical-align: top;\n",
       "    }\n",
       "\n",
       "    .dataframe thead th {\n",
       "        text-align: right;\n",
       "    }\n",
       "</style>\n",
       "<table border=\"1\" class=\"dataframe\">\n",
       "  <thead>\n",
       "    <tr style=\"text-align: right;\">\n",
       "      <th></th>\n",
       "      <th>text_index</th>\n",
       "      <th>chunk_index</th>\n",
       "      <th>score</th>\n",
       "    </tr>\n",
       "  </thead>\n",
       "  <tbody>\n",
       "    <tr>\n",
       "      <th>0</th>\n",
       "      <td>0</td>\n",
       "      <td>0</td>\n",
       "      <td>3</td>\n",
       "    </tr>\n",
       "    <tr>\n",
       "      <th>1</th>\n",
       "      <td>0</td>\n",
       "      <td>1</td>\n",
       "      <td>3</td>\n",
       "    </tr>\n",
       "    <tr>\n",
       "      <th>2</th>\n",
       "      <td>0</td>\n",
       "      <td>2</td>\n",
       "      <td>3</td>\n",
       "    </tr>\n",
       "    <tr>\n",
       "      <th>3</th>\n",
       "      <td>0</td>\n",
       "      <td>3</td>\n",
       "      <td>3</td>\n",
       "    </tr>\n",
       "    <tr>\n",
       "      <th>4</th>\n",
       "      <td>0</td>\n",
       "      <td>4</td>\n",
       "      <td>3</td>\n",
       "    </tr>\n",
       "    <tr>\n",
       "      <th>...</th>\n",
       "      <td>...</td>\n",
       "      <td>...</td>\n",
       "      <td>...</td>\n",
       "    </tr>\n",
       "    <tr>\n",
       "      <th>619</th>\n",
       "      <td>47</td>\n",
       "      <td>8</td>\n",
       "      <td>3</td>\n",
       "    </tr>\n",
       "    <tr>\n",
       "      <th>620</th>\n",
       "      <td>47</td>\n",
       "      <td>9</td>\n",
       "      <td>4</td>\n",
       "    </tr>\n",
       "    <tr>\n",
       "      <th>621</th>\n",
       "      <td>47</td>\n",
       "      <td>10</td>\n",
       "      <td>3</td>\n",
       "    </tr>\n",
       "    <tr>\n",
       "      <th>622</th>\n",
       "      <td>47</td>\n",
       "      <td>11</td>\n",
       "      <td>3</td>\n",
       "    </tr>\n",
       "    <tr>\n",
       "      <th>623</th>\n",
       "      <td>47</td>\n",
       "      <td>12</td>\n",
       "      <td>3</td>\n",
       "    </tr>\n",
       "  </tbody>\n",
       "</table>\n",
       "<p>624 rows × 3 columns</p>\n",
       "</div>"
      ],
      "text/plain": [
       "     text_index  chunk_index  score\n",
       "0             0            0      3\n",
       "1             0            1      3\n",
       "2             0            2      3\n",
       "3             0            3      3\n",
       "4             0            4      3\n",
       "..          ...          ...    ...\n",
       "619          47            8      3\n",
       "620          47            9      4\n",
       "621          47           10      3\n",
       "622          47           11      3\n",
       "623          47           12      3\n",
       "\n",
       "[624 rows x 3 columns]"
      ]
     },
     "execution_count": 21,
     "metadata": {},
     "output_type": "execute_result"
    }
   ],
   "source": [
    "df_bt"
   ]
  },
  {
   "cell_type": "code",
   "execution_count": 31,
   "id": "d15a299a-ad07-413a-b4a6-37434b605a82",
   "metadata": {},
   "outputs": [],
   "source": [
    "df = df_ocr.copy()\n",
    "model_name = 'ocr' \n",
    "\n",
    "# Regrouper par text_index et créer la structure souhaitée\n",
    "result = {}\n",
    "\n",
    "for text_id, group in df.groupby('text_index'):\n",
    "    chunks = group[['chunk_index', 'score']].to_dict(orient='records')\n",
    "    result[str(text_id)] = chunks \n",
    "\n",
    "# Sauvegarder en JSON\n",
    "with open(f\"Pythoms-hw2_ocr-judge_{model_name}.json\", \"w\", encoding=\"utf-8\") as f:\n",
    "    json.dump(result, f, ensure_ascii=False, indent=4)"
   ]
  }
 ],
 "metadata": {
  "kernelspec": {
   "display_name": "Python 3 (ipykernel)",
   "language": "python",
   "name": "python3"
  },
  "language_info": {
   "codemirror_mode": {
    "name": "ipython",
    "version": 3
   },
   "file_extension": ".py",
   "mimetype": "text/x-python",
   "name": "python",
   "nbconvert_exporter": "python",
   "pygments_lexer": "ipython3",
   "version": "3.12.9"
  }
 },
 "nbformat": 4,
 "nbformat_minor": 5
}
