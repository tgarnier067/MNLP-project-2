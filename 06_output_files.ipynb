{
 "cells": [
  {
   "cell_type": "code",
   "execution_count": 8,
   "id": "4617cdf7-e28f-4c2b-834b-6eaf8597b149",
   "metadata": {},
   "outputs": [],
   "source": [
    "import pandas as pd\n",
    "import json"
   ]
  },
  {
   "cell_type": "markdown",
   "id": "416af97a-898a-46d6-bbab-2dc29fcfbec7",
   "metadata": {},
   "source": [
    "# \"Clean\" text"
   ]
  },
  {
   "cell_type": "code",
   "execution_count": 26,
   "id": "c4c6f132-790e-40b4-a662-9ee67c023a8b",
   "metadata": {},
   "outputs": [],
   "source": [
    "df_ocr = pd.read_csv('~/work/MNLP-project-2/data/eng/the_vampyre_ocr.csv')\n",
    "df_t5 = pd.read_csv('T5_correction.csv')\n",
    "df_bt = pd.read_csv('back_translation_correction.csv')\n",
    "df_bart = pd.read_csv('bart_correction.csv')\n",
    "df_bt_t5 = pd.read_csv('back_translation_t5_correction.csv')"
   ]
  },
  {
   "cell_type": "code",
   "execution_count": 43,
   "id": "af5f7031-f820-4b70-a51a-d494c43b178f",
   "metadata": {
    "id": "Jkwyh7-0hZam"
   },
   "outputs": [],
   "source": [
    "df = df_ocr.copy()\n",
    "model_name = 'ocr'\n",
    "\n",
    "data_dict = dict(zip(df['id'], df['texte']))\n",
    "\n",
    "with open(f\"Pythoms-hw2_ocr-{model_name}.json\", \"w\", encoding=\"utf-8\") as f:\n",
    "    json.dump(data_dict, f, ensure_ascii=False, indent=4)"
   ]
  },
  {
   "cell_type": "code",
   "execution_count": 44,
   "id": "b2bcb7fe-ed14-4b8e-a09f-0e160431a61e",
   "metadata": {
    "id": "KdG7MbH1q7ZC"
   },
   "outputs": [],
   "source": [
    "df = df_bt.copy()\n",
    "model_name = 'back_translation'\n",
    "\n",
    "data_dict = dict(zip(df['index'], df['back_translated_text']))\n",
    "\n",
    "with open(f\"Pythoms-hw2_ocr-{model_name}.json\", \"w\", encoding=\"utf-8\") as f:\n",
    "    json.dump(data_dict, f, ensure_ascii=False, indent=4)"
   ]
  },
  {
   "cell_type": "code",
   "execution_count": 45,
   "id": "8d82d411-97cc-4ee4-b50d-8ee7acf8ef36",
   "metadata": {
    "id": "5vuLY1_jraAR"
   },
   "outputs": [],
   "source": [
    "df = df_bart.copy()\n",
    "model_name = 'bart'\n",
    "\n",
    "data_dict = dict(zip(df['index'], df['corrected_text']))\n",
    "\n",
    "with open(f\"Pythoms-hw2_ocr-{model_name}.json\", \"w\", encoding=\"utf-8\") as f:\n",
    "    json.dump(data_dict, f, ensure_ascii=False, indent=4)"
   ]
  },
  {
   "cell_type": "code",
   "execution_count": 46,
   "id": "a027587a-3892-469e-889d-e16573b82fcd",
   "metadata": {
    "id": "z45dQbLgraCo"
   },
   "outputs": [],
   "source": [
    "df = df_t5.copy()\n",
    "model_name = 't5'\n",
    "\n",
    "data_dict = dict(zip(df['index'], df['corrected_text']))\n",
    "\n",
    "with open(f\"Pythoms-hw2_ocr-{model_name}.json\", \"w\", encoding=\"utf-8\") as f:\n",
    "    json.dump(data_dict, f, ensure_ascii=False, indent=4)"
   ]
  },
  {
   "cell_type": "code",
   "execution_count": 47,
   "id": "1a20c524-88b9-4d1f-aa0b-ddd6fc6aa0e5",
   "metadata": {
    "id": "M5-1_0JiraFA"
   },
   "outputs": [],
   "source": [
    "df = df_bt_t5.copy()\n",
    "model_name = 'back_translation_t5'\n",
    "\n",
    "data_dict = dict(zip(df['index'], df['corrected_text']))\n",
    "\n",
    "with open(f\"Pythoms-hw2_ocr-{model_name}.json\", \"w\", encoding=\"utf-8\") as f:\n",
    "    json.dump(data_dict, f, ensure_ascii=False, indent=4)"
   ]
  },
  {
   "cell_type": "markdown",
   "id": "bc89691a-71e5-40e4-9071-d065d85f31f0",
   "metadata": {},
   "source": [
    "# Output of LLM as a judge"
   ]
  },
  {
   "cell_type": "code",
   "execution_count": 30,
   "id": "fa70a327-16ce-4795-a4c0-1b0c9d395fa7",
   "metadata": {},
   "outputs": [],
   "source": [
    "df_ocr = pd.read_csv('ocr_gemini_scores.csv')\n",
    "df_t5 = pd.read_csv('T5_gemini_scores_all_texts.csv')\n",
    "df_bt = pd.read_csv('Back_translation_gemini_scores_all_texts.csv')\n",
    "df_bart = pd.read_csv('Bart_gemini_scores_all_texts.csv')\n",
    "df_bt_t5 = pd.read_csv('back_translation_t5_gemini_scores_all_texts.csv')"
   ]
  },
  {
   "cell_type": "code",
   "execution_count": 49,
   "id": "c01b8f37-f6fa-403d-829e-d97b2658a94d",
   "metadata": {
    "id": "sFcM3eL7hplW"
   },
   "outputs": [],
   "source": [
    "df = df_ocr.copy()\n",
    "model_name = 'ocr'\n",
    "\n",
    "result = {}\n",
    "\n",
    "for text_id, group in df.groupby('text_index'):\n",
    "    chunks = group[['chunk_index', 'score']].to_dict(orient='records')\n",
    "    result[str(text_id)] = chunks\n",
    "\n",
    "with open(f\"Pythoms-hw2_ocr-judge_{model_name}.json\", \"w\", encoding=\"utf-8\") as f:\n",
    "    json.dump(result, f, ensure_ascii=False, indent=4)"
   ]
  },
  {
   "cell_type": "code",
   "execution_count": 50,
   "id": "d3d19676-8e2c-4cd6-bb6a-315eed6dbff1",
   "metadata": {
    "id": "fQUxM7hpsIeg"
   },
   "outputs": [],
   "source": [
    "df = df_t5.copy()\n",
    "model_name = 't5'\n",
    "\n",
    "result = {}\n",
    "\n",
    "for text_id, group in df.groupby('text_index'):\n",
    "    chunks = group[['chunk_index', 'score']].to_dict(orient='records')\n",
    "    result[str(text_id)] = chunks\n",
    "\n",
    "with open(f\"Pythoms-hw2_ocr-judge_{model_name}.json\", \"w\", encoding=\"utf-8\") as f:\n",
    "    json.dump(result, f, ensure_ascii=False, indent=4)"
   ]
  },
  {
   "cell_type": "code",
   "execution_count": 51,
   "id": "1e854615-e578-4e67-9e00-a850649fa491",
   "metadata": {
    "id": "Nob1GxE3sIcO"
   },
   "outputs": [],
   "source": [
    "df = df_bt.copy()\n",
    "model_name = 'back_translation'\n",
    "\n",
    "result = {}\n",
    "\n",
    "for text_id, group in df.groupby('text_index'):\n",
    "    chunks = group[['chunk_index', 'score']].to_dict(orient='records')\n",
    "    result[str(text_id)] = chunks\n",
    "\n",
    "with open(f\"Pythoms-hw2_ocr-judge_{model_name}.json\", \"w\", encoding=\"utf-8\") as f:\n",
    "    json.dump(result, f, ensure_ascii=False, indent=4)"
   ]
  },
  {
   "cell_type": "code",
   "execution_count": 52,
   "id": "146f965b-7445-45e5-b6f9-5ec0bcaee14f",
   "metadata": {
    "id": "IuGfS0lUsIZu"
   },
   "outputs": [],
   "source": [
    "df = df_bart.copy()\n",
    "model_name = 'bart'\n",
    "\n",
    "result = {}\n",
    "\n",
    "for text_id, group in df.groupby('text_index'):\n",
    "    chunks = group[['chunk_index', 'score']].to_dict(orient='records')\n",
    "    result[str(text_id)] = chunks\n",
    "\n",
    "with open(f\"Pythoms-hw2_ocr-judge_{model_name}.json\", \"w\", encoding=\"utf-8\") as f:\n",
    "    json.dump(result, f, ensure_ascii=False, indent=4)"
   ]
  },
  {
   "cell_type": "code",
   "execution_count": 53,
   "id": "d24cd160-8c25-4acc-92e9-d5f388ab6813",
   "metadata": {
    "id": "dCJUWlghsIR_"
   },
   "outputs": [],
   "source": [
    "df = df_bt_t5.copy()\n",
    "model_name = 'back_translation_t5'\n",
    "\n",
    "result = {}\n",
    "\n",
    "for text_id, group in df.groupby('text_index'):\n",
    "    chunks = group[['chunk_index', 'score']].to_dict(orient='records')\n",
    "    result[str(text_id)] = chunks\n",
    "\n",
    "with open(f\"Pythoms-hw2_ocr-judge_{model_name}.json\", \"w\", encoding=\"utf-8\") as f:\n",
    "    json.dump(result, f, ensure_ascii=False, indent=4)"
   ]
  },
  {
   "cell_type": "markdown",
   "id": "972bf5b7-68c4-4b1c-8808-9a78f0a47c3f",
   "metadata": {
    "id": "27cYYectsZti"
   },
   "source": [
    "# Manual annotations"
   ]
  },
  {
   "cell_type": "code",
   "execution_count": 9,
   "id": "9862c88a-efd4-4888-a13b-ae306aa063af",
   "metadata": {
    "id": "jYNyDBjmsH52"
   },
   "outputs": [],
   "source": [
    "df_ocr = pd.read_csv('ocr_manual_scores.csv')\n",
    "\n",
    "df_t5 = pd.read_csv('T5_manual_scores.csv')\n",
    "\n",
    "df_bt = pd.read_csv('Back_translation_manual_scores.csv')\n",
    "\n",
    "df_bart = pd.read_csv('bart_manual_scores.csv')\n",
    "\n",
    "df_bt_t5 = pd.read_csv('Back_translation_t5_manual_scores.csv')"
   ]
  },
  {
   "cell_type": "code",
   "execution_count": 10,
   "id": "61d93c7f-b006-4485-b7ea-60998f144cda",
   "metadata": {
    "id": "tngwPlNYsyG9"
   },
   "outputs": [],
   "source": [
    "df = df_ocr.copy()\n",
    "model_name = 'ocr'\n",
    "\n",
    "result = {}\n",
    "\n",
    "for _, row in df.iterrows():\n",
    "    text_id = str(row['text_index'])\n",
    "\n",
    "    chunks = [\n",
    "        {\"type\": \"fixed\", \"text\": row['fixed_chunk'], \"score\": row['score_fixed']},\n",
    "        {\"type\": \"random_1\", \"text\": row['random_chunk_1'], \"score\": row['score_random_1']},\n",
    "        {\"type\": \"random_2\", \"text\": row['random_chunk_2'], \"score\": row['score_random_2']}\n",
    "    ]\n",
    "\n",
    "    result[text_id] = chunks\n",
    "\n",
    "with open(f\"Pythoms-hw2_ocr-manual_{model_name}.json\", \"w\", encoding=\"utf-8\") as f:\n",
    "    json.dump(result, f, ensure_ascii=False, indent=4)"
   ]
  },
  {
   "cell_type": "code",
   "execution_count": 11,
   "id": "cbc6da9e-b232-4390-b9ad-6e9a868a2d2a",
   "metadata": {
    "id": "S87Ugq44syG-"
   },
   "outputs": [],
   "source": [
    "df = df_t5.copy()\n",
    "model_name = 't5'\n",
    "\n",
    "result = {}\n",
    "\n",
    "for _, row in df.iterrows():\n",
    "    text_id = str(row['text_index'])\n",
    "\n",
    "    chunks = [\n",
    "        {\"type\": \"fixed\", \"text\": row['fixed_chunk'], \"score\": row['score_fixed']},\n",
    "        {\"type\": \"random_1\", \"text\": row['random_chunk_1'], \"score\": row['score_random_1']},\n",
    "        {\"type\": \"random_2\", \"text\": row['random_chunk_2'], \"score\": row['score_random_2']}\n",
    "    ]\n",
    "\n",
    "    result[text_id] = chunks\n",
    "\n",
    "with open(f\"Pythoms-hw2_ocr-manual_{model_name}.json\", \"w\", encoding=\"utf-8\") as f:\n",
    "    json.dump(result, f, ensure_ascii=False, indent=4)"
   ]
  },
  {
   "cell_type": "code",
   "execution_count": 12,
   "id": "54fc6007-3ada-44ee-b48c-1ed3163ff485",
   "metadata": {
    "id": "p_xQmznZsyG-"
   },
   "outputs": [],
   "source": [
    "df = df_bt.copy()\n",
    "model_name = 'back_translation'\n",
    "\n",
    "result = {}\n",
    "\n",
    "for _, row in df.iterrows():\n",
    "    text_id = str(row['text_index'])\n",
    "\n",
    "    chunks = [\n",
    "        {\"type\": \"fixed\", \"text\": row['fixed_chunk'], \"score\": row['score_fixed']},\n",
    "        {\"type\": \"random_1\", \"text\": row['random_chunk_1'], \"score\": row['score_random_1']},\n",
    "        {\"type\": \"random_2\", \"text\": row['random_chunk_2'], \"score\": row['score_random_2']}\n",
    "    ]\n",
    "\n",
    "    result[text_id] = chunks\n",
    "\n",
    "with open(f\"Pythoms-hw2_ocr-manual_{model_name}.json\", \"w\", encoding=\"utf-8\") as f:\n",
    "    json.dump(result, f, ensure_ascii=False, indent=4)"
   ]
  },
  {
   "cell_type": "code",
   "execution_count": 13,
   "id": "66c553cd-52ce-49ec-a079-2a7f7eb1a104",
   "metadata": {
    "id": "CLA2sW-5syG-"
   },
   "outputs": [],
   "source": [
    "df = df_bart.copy()\n",
    "model_name = 'bart'\n",
    "\n",
    "result = {}\n",
    "\n",
    "for _, row in df.iterrows():\n",
    "    text_id = str(row['text_index'])\n",
    "\n",
    "    chunks = [\n",
    "        {\"type\": \"fixed\", \"text\": row['fixed_chunk'], \"score\": row['score_fixed']},\n",
    "        {\"type\": \"random_1\", \"text\": row['random_chunk_1'], \"score\": row['score_random_1']},\n",
    "        {\"type\": \"random_2\", \"text\": row['random_chunk_2'], \"score\": row['score_random_2']}\n",
    "    ]\n",
    "\n",
    "    result[text_id] = chunks\n",
    "\n",
    "with open(f\"Pythoms-hw2_ocr-manual_{model_name}.json\", \"w\", encoding=\"utf-8\") as f:\n",
    "    json.dump(result, f, ensure_ascii=False, indent=4)"
   ]
  },
  {
   "cell_type": "code",
   "execution_count": 14,
   "id": "c47db04d-9ea4-4ef2-a8ab-c8b45d3c4738",
   "metadata": {
    "id": "C7nCPLdesyG-"
   },
   "outputs": [],
   "source": [
    "df = df_bt_t5.copy()\n",
    "model_name = 'back_translation_t5'\n",
    "\n",
    "result = {}\n",
    "\n",
    "for _, row in df.iterrows():\n",
    "    text_id = str(row['text_index'])\n",
    "\n",
    "    chunks = [\n",
    "        {\"type\": \"fixed\", \"text\": row['fixed_chunk'], \"score\": row['score_fixed']},\n",
    "        {\"type\": \"random_1\", \"text\": row['random_chunk_1'], \"score\": row['score_random_1']},\n",
    "        {\"type\": \"random_2\", \"text\": row['random_chunk_2'], \"score\": row['score_random_2']}\n",
    "    ]\n",
    "\n",
    "    result[text_id] = chunks\n",
    "\n",
    "with open(f\"Pythoms-hw2_ocr-manual_{model_name}.json\", \"w\", encoding=\"utf-8\") as f:\n",
    "    json.dump(result, f, ensure_ascii=False, indent=4)"
   ]
  },
  {
   "cell_type": "markdown",
   "id": "8dde73f2-c68d-4e7e-92d1-82d2ec1cbe9b",
   "metadata": {
    "id": "tAGvu8jMtryY"
   },
   "source": [
    "# First 5000 characters"
   ]
  },
  {
   "cell_type": "code",
   "execution_count": 15,
   "id": "a342b9a5-23c8-435d-8bbb-f7483158d6f2",
   "metadata": {
    "colab": {
     "base_uri": "https://localhost:8080/",
     "height": 206
    },
    "id": "E5MGw57WtvgP",
    "outputId": "d862b511-24af-4d01-dc18-105f54a731a1"
   },
   "outputs": [
    {
     "data": {
      "text/html": [
       "<div>\n",
       "<style scoped>\n",
       "    .dataframe tbody tr th:only-of-type {\n",
       "        vertical-align: middle;\n",
       "    }\n",
       "\n",
       "    .dataframe tbody tr th {\n",
       "        vertical-align: top;\n",
       "    }\n",
       "\n",
       "    .dataframe thead th {\n",
       "        text-align: right;\n",
       "    }\n",
       "</style>\n",
       "<table border=\"1\" class=\"dataframe\">\n",
       "  <thead>\n",
       "    <tr style=\"text-align: right;\">\n",
       "      <th></th>\n",
       "      <th>index</th>\n",
       "      <th>original_text</th>\n",
       "      <th>corrected_text</th>\n",
       "    </tr>\n",
       "  </thead>\n",
       "  <tbody>\n",
       "    <tr>\n",
       "      <th>0</th>\n",
       "      <td>0</td>\n",
       "      <td>THE VAMPYRE;\\nA Tale.\\nBy John William Polidor...</td>\n",
       "      <td>THE VAMPYRE.\\nA Tale.\\nBy John William Polidor...</td>\n",
       "    </tr>\n",
       "    <tr>\n",
       "      <th>1</th>\n",
       "      <td>1</td>\n",
       "      <td>THE VAMPYRE;\\nA Tale.\\nBy Johri William Polido...</td>\n",
       "      <td>THE VAMPYRE.\\nA Tale.\\nBy John William Polidor...</td>\n",
       "    </tr>\n",
       "    <tr>\n",
       "      <th>2</th>\n",
       "      <td>2</td>\n",
       "      <td>THE VAMPYRE;\\nA Tale.\\nBy John William Polidor...</td>\n",
       "      <td>THE VAMPYRE.\\nA Tale.\\nBy John William Polidor...</td>\n",
       "    </tr>\n",
       "    <tr>\n",
       "      <th>3</th>\n",
       "      <td>3</td>\n",
       "      <td>THE VAMPYRE;\\nA Tale.\\nBy John Wjlliam Polidor...</td>\n",
       "      <td>THE VAMPYRE.\\nA Tale.\\nBy John William Polidor...</td>\n",
       "    </tr>\n",
       "    <tr>\n",
       "      <th>4</th>\n",
       "      <td>4</td>\n",
       "      <td>THE VAMPYRE;\\nA Tale.\\nBy Jahn William PoIjdor...</td>\n",
       "      <td>THE VAMPYRE.\\nA Tale.\\nBy John William Porter\\...</td>\n",
       "    </tr>\n",
       "  </tbody>\n",
       "</table>\n",
       "</div>"
      ],
      "text/plain": [
       "   index                                      original_text  \\\n",
       "0      0  THE VAMPYRE;\\nA Tale.\\nBy John William Polidor...   \n",
       "1      1  THE VAMPYRE;\\nA Tale.\\nBy Johri William Polido...   \n",
       "2      2  THE VAMPYRE;\\nA Tale.\\nBy John William Polidor...   \n",
       "3      3  THE VAMPYRE;\\nA Tale.\\nBy John Wjlliam Polidor...   \n",
       "4      4  THE VAMPYRE;\\nA Tale.\\nBy Jahn William PoIjdor...   \n",
       "\n",
       "                                      corrected_text  \n",
       "0  THE VAMPYRE.\\nA Tale.\\nBy John William Polidor...  \n",
       "1  THE VAMPYRE.\\nA Tale.\\nBy John William Polidor...  \n",
       "2  THE VAMPYRE.\\nA Tale.\\nBy John William Polidor...  \n",
       "3  THE VAMPYRE.\\nA Tale.\\nBy John William Polidor...  \n",
       "4  THE VAMPYRE.\\nA Tale.\\nBy John William Porter\\...  "
      ]
     },
     "execution_count": 15,
     "metadata": {},
     "output_type": "execute_result"
    }
   ],
   "source": [
    "bart_text = pd.read_csv(\"bart_correction.csv\")\n",
    "bart_text.head()"
   ]
  },
  {
   "cell_type": "code",
   "execution_count": 16,
   "id": "159cd686-e5fc-4758-bf22-64ae4a7ee204",
   "metadata": {
    "id": "oCW44LXmuUbZ"
   },
   "outputs": [],
   "source": [
    "lines = bart_text['corrected_text'][0].split('\\n')[:24]\n",
    "\n",
    "indexed_lines = {i: line for i, line in enumerate(lines)}\n",
    "\n",
    "with open('Pythoms-hw2_ocr_first_5k_tokens.json', 'w', encoding='utf-8') as f:\n",
    "    json.dump(indexed_lines, f, ensure_ascii=False, indent=4)"
   ]
  }
 ],
 "metadata": {
  "kernelspec": {
   "display_name": "Python 3 (ipykernel)",
   "language": "python",
   "name": "python3"
  },
  "language_info": {
   "codemirror_mode": {
    "name": "ipython",
    "version": 3
   },
   "file_extension": ".py",
   "mimetype": "text/x-python",
   "name": "python",
   "nbconvert_exporter": "python",
   "pygments_lexer": "ipython3",
   "version": "3.12.9"
  }
 },
 "nbformat": 4,
 "nbformat_minor": 5
}
