{
 "cells": [
  {
   "cell_type": "markdown",
   "id": "defd7c0e-5e01-4f7e-bb56-42760cbcbc74",
   "metadata": {},
   "source": [
    "We evaluate the corrections produced by our models. Since we are dealing with a large number of models applied to 48 different texts — each containing approximately 60,000 characters — manually annotating the entire dataset would be prohibitively time-consuming. To make the evaluation process feasible while still obtaining meaningful insights, we opt for a lightweight annotation strategy. Specifically, we evaluate only three sentences per corrected text:\n",
    "\n",
    "- One fixed sentence, chosen to ensure consistency across all evaluations.\n",
    "- Two additional sentences randomly selected from the text, to capture variation and provide a more representative sample of the model's performance.\n",
    "\n",
    "This approach balances annotation efficiency with evaluation reliability."
   ]
  }
 ],
 "metadata": {
  "kernelspec": {
   "display_name": "Python 3 (ipykernel)",
   "language": "python",
   "name": "python3"
  },
  "language_info": {
   "codemirror_mode": {
    "name": "ipython",
    "version": 3
   },
   "file_extension": ".py",
   "mimetype": "text/x-python",
   "name": "python",
   "nbconvert_exporter": "python",
   "pygments_lexer": "ipython3",
   "version": "3.12.9"
  }
 },
 "nbformat": 4,
 "nbformat_minor": 5
}
