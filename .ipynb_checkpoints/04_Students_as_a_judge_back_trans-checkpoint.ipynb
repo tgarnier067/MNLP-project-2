{
 "cells": [
  {
   "cell_type": "markdown",
   "id": "defd7c0e-5e01-4f7e-bb56-42760cbcbc74",
   "metadata": {},
   "source": [
    "We evaluate the corrections produced by our models. Since we are dealing with a large number of models applied to 48 different texts — each containing approximately 60,000 characters — manually annotating the entire dataset would be prohibitively time-consuming. To make the evaluation process feasible while still obtaining meaningful insights, we opt for a lightweight annotation strategy. Specifically, we evaluate only three sentences per corrected text:\n",
    "\n",
    "- One fixed sentence, chosen to ensure consistency across all evaluations.\n",
    "- Two additional sentences randomly selected from the text, to capture variation and provide a more representative sample of the model's performance.\n",
    "\n",
    "This approach balances annotation efficiency with evaluation reliability."
   ]
  },
  {
   "cell_type": "markdown",
   "id": "71fe65ba-be1c-45fb-af38-25b84dad6d0a",
   "metadata": {},
   "source": [
    "| **Score**         | **Criteria**                                                                                                                                                                    |\n",
    "| ----------------- | ------------------------------------------------------------------------------------------------------------------------------------------------------------------------------- |\n",
    "| **1 - Very Poor** | The text remains largely unreadable. Numerous errors persist (spelling, grammar, punctuation). The overall meaning is lost or extremely unclear. Little to no improvement made. |\n",
    "| **2 - Poor**      | Slightly more readable than the original, but many errors remain. Several sentences are incorrect or ambiguous. Words are still distorted or missing.                           |\n",
    "| **3 - Fair**      | Most obvious errors have been corrected. The text is generally understandable, but noticeable mistakes and awkward phrasing remain. The flow may be choppy.                     |\n",
    "| **4 - Good**      | The text is readable and coherent. Only minor errors remain. There’s overall consistency, though a few syntax or word choice issues may still be present.                       |\n",
    "| **5 - Excellent** | The text is fully corrected: no detectable mistakes, perfect grammar, punctuation, and syntax. The result is fluent, natural, and faithful to the original content.             |\n"
   ]
  },
  {
   "cell_type": "markdown",
   "id": "8c298969-ee76-4874-b88e-3602658765e9",
   "metadata": {},
   "source": [
    "# Back translation"
   ]
  },
  {
   "cell_type": "code",
   "execution_count": 1,
   "id": "1fc153b0-215e-44e0-b7ea-5fcaedbb4293",
   "metadata": {},
   "outputs": [
    {
     "name": "stdout",
     "output_type": "stream",
     "text": [
      "\n",
      "=== Texte 0 ===\n",
      "\n",
      "🔹 Fixed sentence :\n",
      "THE VAMPYRE;\n",
      "ct: A Tale.\n",
      "By John William Polidori.\n",
      "THE superstition upon which this site is founded is very general in the East. Among the Arabjans itappeors to be common: it did not, however, extend itself to the Greeks until after the establishment of Christianity; and it has only assumed its pres\n"
     ]
    },
    {
     "name": "stdin",
     "output_type": "stream",
     "text": [
      "Score for this part (1–5):  3\n"
     ]
    },
    {
     "name": "stdout",
     "output_type": "stream",
     "text": [
      "\n",
      "🔹 First random sentence :\n",
      "e with whom she could visit her favourite haunts, whilst her guardian was occupied in sketching or uncovering some sragmenl which was bad yet escaped the destructive hand of time. She had appeared to her parents on the subject of Vampyres, and they both, with several prefent, affirmed their existenc\n"
     ]
    },
    {
     "name": "stdin",
     "output_type": "stream",
     "text": [
      "Score for this part (1–5):  3\n"
     ]
    },
    {
     "name": "stdout",
     "output_type": "stream",
     "text": [
      "\n",
      "🔹 Second random sentence :\n",
      "aledictionsupon his head, and curse him as her secretary. Lord. Rutbven, chanced at this time to arrive at Athens, and, from whatever motive, upon hearing of the state of Aubrey, immediately placed himself in the same house, and became his constant attendant. When the latter recovered from his delir\n"
     ]
    },
    {
     "name": "stdin",
     "output_type": "stream",
     "text": [
      "Score for this part (1–5):  3\n"
     ]
    },
    {
     "name": "stdout",
     "output_type": "stream",
     "text": [
      "\n",
      "=== Texte 1 ===\n",
      "\n",
      "🔹 Fixed sentence :\n",
      "THE VAMPYRE;\n",
      "ct: A Tale.\n",
      "By John William Polidori.\n",
      "THE observation upon which this tale is founded also very general in the East. Among the Arahians it appears to be eommon: it did not, hawever, extend itsels to the Greoks until after the establishment of Christianity; and it has only assumed its pr\n"
     ]
    },
    {
     "name": "stdin",
     "output_type": "stream",
     "text": [
      "Score for this part (1–5):  2\n"
     ]
    },
    {
     "name": "stdout",
     "output_type": "stream",
     "text": [
      "\n",
      "🔹 First random sentence :\n",
      "the influence of her lovely sinile; for he pressed her to his breast, and kissed her cheek, wet with tears, flowing at the thought of her mother being once more alive to the feelings of affection. He began to speak withall his wonted warmth, and to corigratulale her upon her marriage with a person s\n"
     ]
    },
    {
     "name": "stdin",
     "output_type": "stream",
     "text": [
      "Score for this part (1–5):  4\n"
     ]
    },
    {
     "name": "stdout",
     "output_type": "stream",
     "text": [
      "\n",
      "🔹 Second random sentence :\n",
      "physician, he thought it better not to haross any more the mind of Miss Auhrey by, what he considered, the ravings of a maniac. Night passed on without real to the busy inmates of the house; andAubrey heord, with a horror that may more easily be conceivedthari described, the notes of busy preparatio\n"
     ]
    },
    {
     "name": "stdin",
     "output_type": "stream",
     "text": [
      "Score for this part (1–5):  3\n"
     ]
    },
    {
     "name": "stdout",
     "output_type": "stream",
     "text": [
      "\n",
      "=== Texte 2 ===\n",
      "\n",
      "🔹 Fixed sentence :\n",
      "THE VAMPYRE;\n",
      "ct: A Tale.\n",
      "By John William Polidori.\n",
      "THE superstition upon which this tale is founded is very general in the East. Among the Ar abians it appears to be common: it did not, however, extend itself to the Greeks until ofter the establishment of Christianity; and it has only ossumed its pr\n"
     ]
    },
    {
     "name": "stdin",
     "output_type": "stream",
     "text": [
      "Score for this part (1–5):  3\n"
     ]
    },
    {
     "name": "stdout",
     "output_type": "stream",
     "text": [
      "\n",
      "🔹 First random sentence :\n",
      " which never galned a warmer tint, either from the blush of modosty, or from the strong emotion of passion, though its form and outline wore beautiful, many of the female bunters after notorjety attempted to win his attontions, and gain, at least, some marks of what they might term affection: Lady M\n"
     ]
    },
    {
     "name": "stdin",
     "output_type": "stream",
     "text": [
      "Score for this part (1–5):  3\n"
     ]
    },
    {
     "name": "stdout",
     "output_type": "stream",
     "text": [
      "\n",
      "🔹 Second random sentence :\n",
      "ling waters.\n",
      "Hilherto, Avbrey had had no opportunity to study Lard Ruthven's character, and now he found that, though many more of his actions wereexposed to his view, the results ossered different coriclusions from the apparent motives to his conduct. His composition was profuse in his libercllity \n"
     ]
    },
    {
     "name": "stdin",
     "output_type": "stream",
     "text": [
      "Score for this part (1–5):  2\n"
     ]
    },
    {
     "name": "stdout",
     "output_type": "stream",
     "text": [
      "\n",
      "=== Texte 3 ===\n",
      "\n",
      "🔹 Fixed sentence :\n",
      "THE VAMPYRE;\n",
      "ct: A Tale.\n",
      "By John William Polidori.\n",
      "THE superstilion upon which this tale is founded is very general in the East. Among the Arabians it appears to be common: it did not, however, extenditself to the Greeks until after the establishment of Christianity; and it has only assumed its pres\n"
     ]
    },
    {
     "name": "stdin",
     "output_type": "stream",
     "text": [
      "Score for this part (1–5):  4\n"
     ]
    },
    {
     "name": "stdout",
     "output_type": "stream",
     "text": [
      "\n",
      "🔹 First random sentence :\n",
      "ht it was a high time to resume again that trust which had been before imposed upon thein by Aubreys parents.\n",
      "Desirous of saving him from the injuries and sufferings he had daily encountered in his wanderings, and of preventing him from exposing to the general eye, those marks of what they considere\n"
     ]
    },
    {
     "name": "stdin",
     "output_type": "stream",
     "text": [
      "Score for this part (1–5):  5\n"
     ]
    },
    {
     "name": "stdout",
     "output_type": "stream",
     "text": [
      "\n",
      "🔹 Second random sentence :\n",
      " man, horses to others, and cotton and silk to the girls who live by weaving these articles. He also bought a new boat for a fatherman who had lost his own in a gale, and he often gave Greek Testaments to the poor children. In short, he appeared to us, from all we collected, to have been a very ecce\n"
     ]
    },
    {
     "name": "stdin",
     "output_type": "stream",
     "text": [
      "Score for this part (1–5):  5\n"
     ]
    },
    {
     "name": "stdout",
     "output_type": "stream",
     "text": [
      "\n",
      "=== Texte 4 ===\n",
      "\n",
      "🔹 Fixed sentence :\n",
      "THE VAMPYRE;\n",
      "ct: A Tale.\n",
      "By John William Pojdori.\n",
      "THE superstition upon which this tale is founded is very general in the East. Among the Arabians it appears to be common: it did not, however, extend itself to the Greeks until after the establishment of Christianity; and it has orily assumed its pre\n"
     ]
    },
    {
     "name": "stdin",
     "output_type": "stream",
     "text": [
      "Score for this part (1–5):  4\n"
     ]
    },
    {
     "name": "stdout",
     "output_type": "stream",
     "text": [
      "\n",
      "🔹 First random sentence :\n",
      "found that there was a curse upon it, because they were all the citizens led to the scaffold, or sunk to the lowest and the most abject misery. At Brussels and other towns through which they passed, Aubrey was surprized to the apparent eagerness which they had been fougbt for the centres of all fash\n"
     ]
    },
    {
     "name": "stdin",
     "output_type": "stream",
     "text": [
      "Score for this part (1–5):  4\n"
     ]
    },
    {
     "name": "stdout",
     "output_type": "stream",
     "text": [
      "\n",
      "🔹 Second random sentence :\n",
      "eresting, and in justice to his lordships good name, which has been grossly slandered. He has been described as an unfeeling disposition, averse to afsociating with human nature, or contributing in any way to smooth its sorrows, or add to its pleasures. The fact is directly the reverse, as may be on\n"
     ]
    },
    {
     "name": "stdin",
     "output_type": "stream",
     "text": [
      "Score for this part (1–5):  4\n"
     ]
    },
    {
     "name": "stdout",
     "output_type": "stream",
     "text": [
      "\n",
      "=== Texte 5 ===\n",
      "\n",
      "🔹 Fixed sentence :\n",
      "THE VAMPYRE;\n",
      "ct: A Tale.\n",
      "By John William Polidori.\n",
      "THE superstition upon which this table is founded is very general in the East. Making this. Arabians it appears to be common: it did not, however, extend itself to the Greeks until after the establishment of Christianity; and it has only assumed jus\n"
     ]
    },
    {
     "name": "stdin",
     "output_type": "stream",
     "text": [
      "Score for this part (1–5):  2\n"
     ]
    },
    {
     "name": "stdout",
     "output_type": "stream",
     "text": [
      "\n",
      "🔹 First random sentence :\n",
      " of the living vampyre, who had passed years amidst his friends, and dearestties, forced every year,by feeding upon the life of a lovely female to prolong his existence for the ensujng months,his blood would run cold, whilst he attempted to lclugh her out of such idle and horrible fantasies; bul Ian\n"
     ]
    },
    {
     "name": "stdin",
     "output_type": "stream",
     "text": [
      "Score for this part (1–5):  2\n"
     ]
    },
    {
     "name": "stdout",
     "output_type": "stream",
     "text": [
      "\n",
      "🔹 Second random sentence :\n",
      " mirrors, nor a single painting. The bedchamber had merely a large mattress spread on the floor, with two stuffed cotton quilts and a pillow — the common bed throughout Greece. In the sitting-room we observed a marble recess, formerly, the old man told us, filled with books and papers, which were th\n"
     ]
    },
    {
     "name": "stdin",
     "output_type": "stream",
     "text": [
      "Score for this part (1–5):  5\n"
     ]
    },
    {
     "name": "stdout",
     "output_type": "stream",
     "text": [
      "\n",
      "=== Texte 6 ===\n",
      "\n",
      "🔹 Fixed sentence :\n",
      "THE VAMPYRE;\n",
      "ct: A Tale.\n",
      "By John William Polidori.\n",
      "THE superstition upon which this talk is just founded is very general in the East. Among the Arabians it appears to be common: it did not, however, extend itself to the Greeks until after the establishment of Christianity; and it has only assumed it\n"
     ]
    },
    {
     "name": "stdin",
     "output_type": "stream",
     "text": [
      "Score for this part (1–5):  3\n"
     ]
    },
    {
     "name": "stdout",
     "output_type": "stream",
     "text": [
      "\n",
      "🔹 First random sentence :\n",
      "as covered by a fire Turkey carpet, beneath an awning of strong coarse linen. Most of the housotops are thus furnisbed, as upon them, the Greeks harvest their everything in smoking, drinking light wines, such as \"lclchryma christi\", eating fruit, anderijoying the evening breeze.\n",
      "On the left hand as \n"
     ]
    },
    {
     "name": "stdin",
     "output_type": "stream",
     "text": [
      "Score for this part (1–5):  2\n"
     ]
    },
    {
     "name": "stdout",
     "output_type": "stream",
     "text": [
      "\n",
      "🔹 Second random sentence :\n",
      "by a single cloud, terminates the view in front; and a little from the left, through a vault of lofty chesnut and palm-trees, several small islands were distinctly observed, studding the light blue wove with spols of emerald greeri. I seldoin enjoyed a quiet inore than I did this; but our enquiries \n"
     ]
    },
    {
     "name": "stdin",
     "output_type": "stream",
     "text": [
      "Score for this part (1–5):  1\n"
     ]
    },
    {
     "name": "stdout",
     "output_type": "stream",
     "text": [
      "\n",
      "=== Texte 7 ===\n",
      "\n",
      "🔹 Fixed sentence :\n",
      "THE VAMPYRE;\n",
      "ct: A Tale.\n",
      "By John William Polidorl.\n",
      "THE observation upon which this tole is founded is very general in the East. Among the Arabiaris it appears to be cammon: it did riot, howcver, extend itself to tbe Greeks until after the establishment of Christianity; and it has only assumed itf pr\n"
     ]
    },
    {
     "name": "stdin",
     "output_type": "stream",
     "text": [
      "Score for this part (1–5):  2\n"
     ]
    },
    {
     "name": "stdout",
     "output_type": "stream",
     "text": [
      "\n",
      "🔹 First random sentence :\n",
      "upon his throat — when the glare of mclny torches penetratling through the hole that gave light in the day, disturbed hjm ;—he instantly rose, and, leaving hls prey, rvshed through the door, and in a moment the crash The storm was still now; and Aubrey, incapable of moving, was soon heard by those w\n"
     ]
    },
    {
     "name": "stdin",
     "output_type": "stream",
     "text": [
      "Score for this part (1–5):  2\n"
     ]
    },
    {
     "name": "stdout",
     "output_type": "stream",
     "text": [
      "\n",
      "🔹 Second random sentence :\n",
      "red in the fatal hut—he shuddered—hastening to gain further proof, he found the weapon, and his horror may be imagined when he discovered that it fitted, though peculiarly shaped, the sheath he held in his hand. His eyes seemed to need no further certainty — they seemed going to be bound to the dagg\n"
     ]
    },
    {
     "name": "stdin",
     "output_type": "stream",
     "text": [
      "Score for this part (1–5):  4\n"
     ]
    },
    {
     "name": "stdout",
     "output_type": "stream",
     "text": [
      "\n",
      "=== Texte 8 ===\n",
      "\n",
      "🔹 Fixed sentence :\n",
      "THE VAMPYRE;\n",
      "ct: A Tale.\n",
      "By John William Polidori.\n",
      "THE fuperstition icon which this tale is found is very general in the East. Among the Arabians it appears to be common: it did not, however, oxtend itself to the Greeks until after the establishment of Christianity; and it has anly assumed its prese\n"
     ]
    },
    {
     "name": "stdin",
     "output_type": "stream",
     "text": [
      "Score for this part (1–5):  3\n"
     ]
    },
    {
     "name": "stdout",
     "output_type": "stream",
     "text": [
      "\n",
      "🔹 First random sentence :\n",
      "ad called the morning after the drawing room, and had been refused with everyone else. When he heard of Aubreys ill health, he readily understood himself to be the cause of it; but when he lea-\n",
      "rned that he was deemed lnsane, his exultatiori and pressure could hardly be conceoled from those among wh\n"
     ]
    },
    {
     "name": "stdin",
     "output_type": "stream",
     "text": [
      "Score for this part (1–5):  2\n"
     ]
    },
    {
     "name": "stdout",
     "output_type": "stream",
     "text": [
      "\n",
      "🔹 Second random sentence :\n",
      ", and the purser bargaining for cattle with the ncllives, the cergymclnarid myself took a ramble to the cave called Homer's School, arid other places where we had been before. On the brow of Mount Ida (a small monticule so named) we met with and erigaged a young Greek as our guide, who told us he ha\n"
     ]
    },
    {
     "name": "stdin",
     "output_type": "stream",
     "text": [
      "Score for this part (1–5):  2\n"
     ]
    },
    {
     "name": "stdout",
     "output_type": "stream",
     "text": [
      "\n",
      "=== Texte 9 ===\n",
      "\n",
      "🔹 Fixed sentence :\n",
      "THE VAMPYRE;\n",
      "ct: A Tale.\n",
      "By John William Polidori.\n",
      "THE superstition upon which this tale is also founded is very general in the West. Amang the Arabians it appears to be comrnon: il did not, however, extend itself to the Greeks until after the establishment of Christianity; and it has only clssumed \n"
     ]
    },
    {
     "name": "stdin",
     "output_type": "stream",
     "text": [
      "Score for this part (1–5):  3\n"
     ]
    },
    {
     "name": "stdout",
     "output_type": "stream",
     "text": [
      "\n",
      "🔹 First random sentence :\n",
      "f chronicling the deeds of sreemen only before slaves, had hidden themselves beneath the sheltering soil or many coloured lichen. Under the same roof as himself, existed being, so beautiful and delicate, that she might have formed the model for a painter wishing to pourtray on canvass the promised h\n"
     ]
    },
    {
     "name": "stdin",
     "output_type": "stream",
     "text": [
      "Score for this part (1–5):  3\n"
     ]
    },
    {
     "name": "stdout",
     "output_type": "stream",
     "text": [
      "\n",
      "🔹 Second random sentence :\n",
      ". We were kindly received by an old man, who conducted us over the mansion. It consisted of four apartments on the ground-floor—an entrance hall, a drawing-room, a sitting parlour, and a bedroom, with a spocious closet, annexed. They were all simply decorated: plain groeri-stained walls, marble tabl\n"
     ]
    },
    {
     "name": "stdin",
     "output_type": "stream",
     "text": [
      "Score for this part (1–5):  4\n"
     ]
    },
    {
     "name": "stdout",
     "output_type": "stream",
     "text": [
      "\n",
      "=== Texte 10 ===\n",
      "\n",
      "🔹 Fixed sentence :\n",
      "THE VAMPYRE;\n",
      "ct: A Tale.\n",
      "By John Willjam Plidori.\n",
      "THE superstition upon which this tale is frightened is very general in the East. Among the Arabians it appears to be commori: it did not, bowever, extend itself to the Greeks until after the estoblishment of Christianity; and it has only assumed the \n"
     ]
    },
    {
     "name": "stdin",
     "output_type": "stream",
     "text": [
      "Score for this part (1–5):  2\n"
     ]
    },
    {
     "name": "stdout",
     "output_type": "stream",
     "text": [
      "\n",
      "🔹 First random sentence :\n",
      "uth inber fears, though at the same time he wondered at these many coincidences which had all tended to excite a belies in the supernatural power of Lord Ruthucn.\n",
      "Aubrey began to attach himself more and more to Ianthe; her innoconce, so contrasted with all the affected virtues of the women among who\n"
     ]
    },
    {
     "name": "stdin",
     "output_type": "stream",
     "text": [
      "Score for this part (1–5):  2\n"
     ]
    },
    {
     "name": "stdout",
     "output_type": "stream",
     "text": [
      "\n",
      "🔹 Second random sentence :\n",
      "ut when we saw them shudder at his daring brush to mock a superior, infernal power, the very name of which apparently made their blood freeze, he was silent.\n",
      "Next morning, Aubrey set off upon his excursion unattended; he was surprised to observe the melaricholy face of his host, and waf concemed to \n"
     ]
    },
    {
     "name": "stdin",
     "output_type": "stream",
     "text": [
      "Score for this part (1–5):  5\n"
     ]
    },
    {
     "name": "stdout",
     "output_type": "stream",
     "text": [
      "\n",
      "=== Texte 11 ===\n",
      "\n",
      "🔹 Fixed sentence :\n",
      "THE VAMPYRE;\n",
      "ct: A Tale.\n",
      "By John Willjam Polidori.\n",
      "THE superstition upon which this tale is frightened is very general in the East. Among the Arabians, it appears to be common: it did nat, however, extend itself to the Greeks uritil after the establishment of Christianity; and il has only assumed it\n"
     ]
    },
    {
     "name": "stdin",
     "output_type": "stream",
     "text": [
      "Score for this part (1–5):  3\n"
     ]
    },
    {
     "name": "stdout",
     "output_type": "stream",
     "text": [
      "\n",
      "🔹 First random sentence :\n",
      "n her with a frantic expression of countenance, he bade her swear that sbe would never wed this monster, far he — But he could not adance — it serned as if that voice again bade him rernember his o Iri the meantime, the guardiaris and pbysician, who had beard the whole, and thought this was but a re\n"
     ]
    },
    {
     "name": "stdin",
     "output_type": "stream",
     "text": [
      "Score for this part (1–5):  2\n"
     ]
    },
    {
     "name": "stdout",
     "output_type": "stream",
     "text": [
      "\n",
      "🔹 Second random sentence :\n",
      "ussoav works complete; Volney's Ruins of Empires; Zimmerman, in the German language; Klopstock's Messiclh; Kot2cbues novels; Schiller's play of the Robbers; Mi 1tons Paradise Losl, an Italian edition, printed at Parma in 1810; several small pamphlets from the Greek Most of these books were filled wi\n"
     ]
    },
    {
     "name": "stdin",
     "output_type": "stream",
     "text": [
      "Score for this part (1–5):  1\n"
     ]
    },
    {
     "name": "stdout",
     "output_type": "stream",
     "text": [
      "\n",
      "=== Texte 12 ===\n",
      "\n",
      "🔹 Fixed sentence :\n",
      "THE VAMPYRE;\n",
      "ct: A Talo.\n",
      "By John William Polidori.\n",
      "THE superstition upon which this tales found is very general in the East. Mandarin Arabiaris it appears to be eommon: it did not, however, extend itself to tbe Greeks until after the eslablishment of Christiariity; and it has only caused its present\n"
     ]
    },
    {
     "name": "stdin",
     "output_type": "stream",
     "text": [
      "Score for this part (1–5):  2\n"
     ]
    },
    {
     "name": "stdout",
     "output_type": "stream",
     "text": [
      "\n",
      "🔹 First random sentence :\n",
      " a fisherrnan who had lost his own in a gale, and he often gave Greek Testaments to the poor children. In short, he corresponded to us, from all we collected, also has been a very eccentric and benevolent character. Once the circumstances we learnt, which our old friend at the college thought proper\n"
     ]
    },
    {
     "name": "stdin",
     "output_type": "stream",
     "text": [
      "Score for this part (1–5):  4\n"
     ]
    },
    {
     "name": "stdout",
     "output_type": "stream",
     "text": [
      "\n",
      "🔹 Second random sentence :\n",
      " of it.\n",
      "Sucb was the information with which we departed from the peaceful isle of Mitylene; our imaginations all on the rack, guessing who this rambler in Greeoe could be. He hadmoney it was evident: he had a philanthropy of disposition, and all those eccentricities which rnark peculiar genius. ct: \n"
     ]
    },
    {
     "name": "stdin",
     "output_type": "stream",
     "text": [
      "Score for this part (1–5):  1\n"
     ]
    },
    {
     "name": "stdout",
     "output_type": "stream",
     "text": [
      "\n",
      "=== Texte 13 ===\n",
      "\n",
      "🔹 Fixed sentence :\n",
      "THE VAMPYRE;\n",
      "ct: A Tale.\n",
      "By John William Polidori.\n",
      "THE superstition upon which this tale is founded is very general in the East. Among the Arabians it appears to be common: it did nat, however, extend itself to the Greeks until after the establishment of Christiariity; and it has only assumed its pr\n"
     ]
    },
    {
     "name": "stdin",
     "output_type": "stream",
     "text": [
      "Score for this part (1–5):  5\n"
     ]
    },
    {
     "name": "stdout",
     "output_type": "stream",
     "text": [
      "\n",
      "🔹 First random sentence :\n",
      "n ghastly haunt the native place, And suck the blood of all thy race; There from thy davghter, sister, wife, At midnight drain the stream of life; Yet loathc the banquet which perforce Must feed thy liuid living corse, Thy victims, Where they do you expire, Shall know the demon for their sire; As cu\n"
     ]
    },
    {
     "name": "stdin",
     "output_type": "stream",
     "text": [
      "Score for this part (1–5):  3\n"
     ]
    },
    {
     "name": "stdout",
     "output_type": "stream",
     "text": [
      "\n",
      "🔹 Second random sentence :\n",
      "he ruins descended in the broken cascades, until it waslost in the wood near the mountain base. The sea smootb as glass, and an horizon unshadowed by a single cloud, terminates the view in front; arid a little on the left, through a vista of lofty chosnut and palrn-trees, several single islands were\n"
     ]
    },
    {
     "name": "stdin",
     "output_type": "stream",
     "text": [
      "Score for this part (1–5):  4\n"
     ]
    },
    {
     "name": "stdout",
     "output_type": "stream",
     "text": [
      "\n",
      "=== Texte 14 ===\n",
      "\n",
      "🔹 Fixed sentence :\n",
      "THE VAMPYRE;\n",
      "ct: A Tale.\n",
      "By John William Polidori.\n",
      "THE superstition upon which this tale is founded is very general in the East. Among the Arabians, it appears to be common: it did not, however, extend itself to the Greeks until after the establishment of Christianity; and it has only assumed its pr\n"
     ]
    },
    {
     "name": "stdin",
     "output_type": "stream",
     "text": [
      "Score for this part (1–5):  5\n"
     ]
    },
    {
     "name": "stdout",
     "output_type": "stream",
     "text": [
      "\n",
      "🔹 First random sentence :\n",
      "n the fatal hut—he shuddered—hastening to gain further proof, he found the wcapon, and his horror may be imagined when he discovered that it fitted, though peculiarly shaped, the fheath he held in his harid. His eyes seemed to need no further certainty—they secmed gaziring to be bound to the dagger;\n"
     ]
    },
    {
     "name": "stdin",
     "output_type": "stream",
     "text": [
      "Score for this part (1–5):  3\n"
     ]
    },
    {
     "name": "stdout",
     "output_type": "stream",
     "text": [
      "\n",
      "🔹 Second random sentence :\n",
      "on of a voyage. We landed; as usual, at the bottom of the bay, and which the men wore employed in watering, and the purser borgclining for cattle with natives, the clergyman and myself took a ramble to the cave called Homers School, and other places where we had been before. On the brow of Mount Ida\n"
     ]
    },
    {
     "name": "stdin",
     "output_type": "stream",
     "text": [
      "Score for this part (1–5):  4\n"
     ]
    },
    {
     "name": "stdout",
     "output_type": "stream",
     "text": [
      "\n",
      "=== Texte 15 ===\n",
      "\n",
      "🔹 Fixed sentence :\n",
      "THE VAMPYRE;\n",
      "ct: A Tale.\n",
      "By John William Polidori.\n",
      "THE superstition upon which this tale is foundod is very general in the East. Among the Arabians it appears to be common: it did not, hawever, extend itself to the Greeks until after the establishment of Christianity; and it has only assumed its pre\n"
     ]
    },
    {
     "name": "stdin",
     "output_type": "stream",
     "text": [
      "Score for this part (1–5):  3\n"
     ]
    },
    {
     "name": "stdout",
     "output_type": "stream",
     "text": [
      "\n",
      "🔹 First random sentence :\n",
      "r he found himself lmpeded by the crowd of servants who were waiting for their lords; and while he was engaged inpassing them, he again heard that voice whisper class to hiin —\"Remernber your oatb !\"— He did not dare to learn, but, hurrying bis sister, soon reached horne.\n",
      "The baby became almost dist\n"
     ]
    },
    {
     "name": "stdin",
     "output_type": "stream",
     "text": [
      "Score for this part (1–5):  3\n"
     ]
    },
    {
     "name": "stdout",
     "output_type": "stream",
     "text": [
      "\n",
      "🔹 Second random sentence :\n",
      "da (a small mountain so named) we met with and engaged a young Greek as our guide, who told us he had come from Scio with an English lord, who left the island four days previous to our arrival in his felucca. \"He engaged me as a pilot ,\" said the Greek ,\" and would have taken me with him; but I did \n"
     ]
    },
    {
     "name": "stdin",
     "output_type": "stream",
     "text": [
      "Score for this part (1–5):  5\n"
     ]
    },
    {
     "name": "stdout",
     "output_type": "stream",
     "text": [
      "\n",
      "=== Texte 16 ===\n",
      "\n",
      "🔹 Fixed sentence :\n",
      "THE VAMPYRE;\n",
      "ct: A Tale.\n",
      "By Jonathan Polidorj.\n",
      "THE superstition upon which this tale is found is very general in the East. Among tho Arabians just appears to be common: it did not, hawever, extend itself to the Grecks until afler the establishment of Christjanity; arid it has only assumed its presen\n"
     ]
    },
    {
     "name": "stdin",
     "output_type": "stream",
     "text": [
      "Score for this part (1–5):  3\n"
     ]
    },
    {
     "name": "stdout",
     "output_type": "stream",
     "text": [
      "\n",
      "🔹 First random sentence :\n",
      "ction sar the brother and interest in his fate, he gradually won the car of Miss Aubrey. Who could resist his power? His tongue had dangors and toils to recount—could speak of hirnself as of an individual having no sympathy with any being on the crowded earth, save with her to whom he addressed hims\n"
     ]
    },
    {
     "name": "stdin",
     "output_type": "stream",
     "text": [
      "Score for this part (1–5):  3\n"
     ]
    },
    {
     "name": "stdout",
     "output_type": "stream",
     "text": [
      "\n",
      "🔹 Second random sentence :\n",
      "rls when he was last upon the island, arid ever dissolved with them at the nuplial feast. He gave a cow to one man, horses to others, and a cotton arid silk to the girls who live by wearing these articles. He also bought a new host for a fisherman who had lost his award in a gale, and he often gave \n"
     ]
    },
    {
     "name": "stdin",
     "output_type": "stream",
     "text": [
      "Score for this part (1–5):  5\n"
     ]
    },
    {
     "name": "stdout",
     "output_type": "stream",
     "text": [
      "\n",
      "=== Texte 17 ===\n",
      "\n",
      "🔹 Fixed sentence :\n",
      "THE VAMPYRE;\n",
      "ct: A Tale.\n",
      "By John William Polidori.\n",
      "THE superstition upon which this tale is founded is very general in the East. Among the Arabians it appears to be common: it did not, however, extend itself to the Greeks until oster the establishment of Christianity; and it has only assumed its pre\n"
     ]
    },
    {
     "name": "stdin",
     "output_type": "stream",
     "text": [
      "Score for this part (1–5):  5\n"
     ]
    },
    {
     "name": "stdout",
     "output_type": "stream",
     "text": [
      "\n",
      "🔹 First random sentence :\n",
      "t. The animal at last, through fatigue, stopped, and he found, by the glareof lightning, that he was in the neighbourhood of a hovel that hardly lifted himself up from the masses of dead leaves and brushwood which surrounded it. Dismounting, he approached, hoping to find someone to give him to the t\n"
     ]
    },
    {
     "name": "stdin",
     "output_type": "stream",
     "text": [
      "Score for this part (1–5):  5\n"
     ]
    },
    {
     "name": "stdout",
     "output_type": "stream",
     "text": [
      "\n",
      "🔹 Second random sentence :\n",
      "tempted to bring these servants, but in vajn. Ho asked for pen and paper; it was given him; he wrote a letter to his sister, conjuring her, as she valued her own happiness, her own honour, and the honour of those now in the grave, who once held her in their arms as their hope and the hope of their h\n"
     ]
    },
    {
     "name": "stdin",
     "output_type": "stream",
     "text": [
      "Score for this part (1–5):  4\n"
     ]
    },
    {
     "name": "stdout",
     "output_type": "stream",
     "text": [
      "\n",
      "=== Texte 18 ===\n",
      "\n",
      "🔹 Fixed sentence :\n",
      "THE VAMPYRE;\n",
      "ct: A Tale.\n",
      "By John William Polidori.\n",
      "THE superstition concept which this tale is founded is very general in the class. Among the Arabians, it appears lobe common: it did not, however, exterid itself to the Grecks until after the establishment of Cbristianity; and it has only assumed it\n"
     ]
    },
    {
     "name": "stdin",
     "output_type": "stream",
     "text": [
      "Score for this part (1–5):  3\n"
     ]
    },
    {
     "name": "stdout",
     "output_type": "stream",
     "text": [
      "\n",
      "🔹 First random sentence :\n",
      "is wants, but to allow him to wallow in his lust, or to sink hjm still deccr in his iniquity, he will send away with rich This was, however, contributed to him to the greater importance of the voice.\n",
      "ious, which generally prevails over the retiring bashfulness of the virtuous indigont. There was one\n"
     ]
    },
    {
     "name": "stdin",
     "output_type": "stream",
     "text": [
      "Score for this part (1–5):  4\n"
     ]
    },
    {
     "name": "stdout",
     "output_type": "stream",
     "text": [
      "\n",
      "🔹 Second random sentence :\n",
      "rm by foree, hurried him from the room, speechless with rage. When ori tho staircase, Lord Ruthven whispered in bis ear —\"Remember your oath, and kriow, if not my bride to day, your sister is dishonoured. Women are frail !\" So saying, he pushed him towards his parents, who, roused by the old woman, \n"
     ]
    },
    {
     "name": "stdin",
     "output_type": "stream",
     "text": [
      "Score for this part (1–5):  3\n"
     ]
    },
    {
     "name": "stdout",
     "output_type": "stream",
     "text": [
      "\n",
      "=== Texte 19 ===\n",
      "\n",
      "🔹 Fixed sentence :\n",
      "THE VAMPYRE;\n",
      "ct: A Tale.\n",
      "By John William Poidori.\n",
      "THE superslition upon which this tale is founded is very general in the East. the Arabians it appears to be commori: it did not, however, extend itself to the Greeks until after the establishment of Christianity; and it has only assumed just a prefec\n"
     ]
    },
    {
     "name": "stdin",
     "output_type": "stream",
     "text": [
      "Score for this part (1–5):  3\n"
     ]
    },
    {
     "name": "stdout",
     "output_type": "stream",
     "text": [
      "\n",
      "🔹 First random sentence :\n",
      " and nights till twelve o'clock, reoding, writing, and tolking to himself. \"I suppose\" said the old man ,\"praying\" for him was very devout ,\" and always attended our church twice a week, besides Sundays .\"\n",
      "The view from this seat was what may be termed \"a bird-eye view .\" A line of rich vincyards le\n"
     ]
    },
    {
     "name": "stdin",
     "output_type": "stream",
     "text": [
      "Score for this part (1–5):  4\n"
     ]
    },
    {
     "name": "stdout",
     "output_type": "stream",
     "text": [
      "\n",
      "🔹 Second random sentence :\n",
      "avelling in Egypt and Greoce ,\"The individual,\" said he ,\"aboul whom you are so anxious, is Lord Byron; I met him in my travels on the island of Tenedos, and I also visited him at Mitylene .\" We had never then heard of his lordship fame, as we had been some years from hame; but \"Childe Haralde\" bein\n"
     ]
    },
    {
     "name": "stdin",
     "output_type": "stream",
     "text": [
      "Score for this part (1–5):  4\n"
     ]
    },
    {
     "name": "stdout",
     "output_type": "stream",
     "text": [
      "\n",
      "=== Texte 20 ===\n",
      "\n",
      "🔹 Fixed sentence :\n",
      "THE VAMPYRE;\n",
      "ct: A Tale.\n",
      "By John William Polidori.\n",
      "THE superstition upon which this tale is founded is very general in the East. Among the Arabions it appears to be common: it did not, however, extend itself to the Greeks until after the establishment of Christianity; clndit has only assumed its pre\n"
     ]
    },
    {
     "name": "stdin",
     "output_type": "stream",
     "text": [
      "Score for this part (1–5):  4\n"
     ]
    },
    {
     "name": "stdout",
     "output_type": "stream",
     "text": [
      "\n",
      "🔹 First random sentence :\n",
      "tributing this to the insanity they imagined, had taken possession of his mind, endeavoured to paeify him, and retired.\n",
      "Lord Ruthuen had called the morning after the drawing-room, and had been refused with everyone else. When he beard of Aubreys ill health, he really understood himself to be the cau\n"
     ]
    },
    {
     "name": "stdin",
     "output_type": "stream",
     "text": [
      "Score for this part (1–5):  3\n"
     ]
    },
    {
     "name": "stdout",
     "output_type": "stream",
     "text": [
      "\n",
      "🔹 Second random sentence :\n",
      "ajestic decay. A small stream issuing from the ruins descended in broken cascades, until it was lost in the woods near the mountain base. The sea smooth as glass, and the horizon unshadowed by a singleeloud, terminates the view in sront; and a little on the left, through a vista of lofty chesnut and\n"
     ]
    },
    {
     "name": "stdin",
     "output_type": "stream",
     "text": [
      "Score for this part (1–5):  3\n"
     ]
    },
    {
     "name": "stdout",
     "output_type": "stream",
     "text": [
      "\n",
      "=== Texte 21 ===\n",
      "\n",
      "🔹 Fixed sentence :\n",
      "THE VAMPYRE;\n",
      "ct: A Tale.\n",
      "By John William Polidori.\n",
      "THE superstition upon which this tale is founded is very general in the East. Among the Arabians it appears to be commanlit didriol, however, extend itself to the Greeks until the establishment of Christianity; clnd it has orily assumed its personal\n"
     ]
    },
    {
     "name": "stdin",
     "output_type": "stream",
     "text": [
      "Score for this part (1–5):  2\n"
     ]
    },
    {
     "name": "stdout",
     "output_type": "stream",
     "text": [
      "\n",
      "🔹 First random sentence :\n",
      "love for me isaught, do only go near him !\" When, however, she inquired to whom he referred, his only answer was ,\"Trve! True !\" and again sank into a state, whonce not even if he could rouse him. This lasted many months: gradually, however, as the year was passing, his incoherences became less freq\n"
     ]
    },
    {
     "name": "stdin",
     "output_type": "stream",
     "text": [
      "Score for this part (1–5):  2\n"
     ]
    },
    {
     "name": "stdout",
     "output_type": "stream",
     "text": [
      "\n",
      "🔹 Second random sentence :\n",
      "woods near the mountain base. The sea smooth as glass, and an horjzori unshadowed by a single clovd, terminates the view in front; and a little on the left, through a vista of lafty chesnut and palm-lrees, several small islands were distinctly observed, sludding the light blue wave with spots of eme\n"
     ]
    },
    {
     "name": "stdin",
     "output_type": "stream",
     "text": [
      "Score for this part (1–5):  2\n"
     ]
    },
    {
     "name": "stdout",
     "output_type": "stream",
     "text": [
      "\n",
      "=== Texte 22 ===\n",
      "\n",
      "🔹 Fixed sentence :\n",
      "THE VAMPYRE;\n",
      "ct: A Tale.\n",
      "By John William Polidori.\n",
      "THE superstition upon which this place is found is very general in the East. Among the Arabians it appears to be oommon: it did riot, however, extend itself to the Greeks until after the establishment of Christianity; and il has only assumed its pre\n"
     ]
    },
    {
     "name": "stdin",
     "output_type": "stream",
     "text": [
      "Score for this part (1–5):  3\n"
     ]
    },
    {
     "name": "stdout",
     "output_type": "stream",
     "text": [
      "\n",
      "🔹 First random sentence :\n",
      " who had been travelling in Egypt and Greece ,\"The individual,\" said he ,\"aboul whom you are so anxiaus, if Lord Byron; I met him on my travels on the island of Tericdos, and I also visited him at Milylene .\" We had never then heard of his lordship fame, as we had been some years from home; but \"Chi\n"
     ]
    },
    {
     "name": "stdin",
     "output_type": "stream",
     "text": [
      "Score for this part (1–5):  3\n"
     ]
    },
    {
     "name": "stdout",
     "output_type": "stream",
     "text": [
      "\n",
      "🔹 Second random sentence :\n",
      "preceding pleasing \"traits\" with-\n",
      "without feeling proud of him as a countryman. With respect to his love or pleasure, I do riots assume a right to give an opinion. Reporls are ever to be received with oaution, particularly when directed against man moral integrity; and he who dares justify himself b\n"
     ]
    },
    {
     "name": "stdin",
     "output_type": "stream",
     "text": [
      "Score for this part (1–5):  5\n"
     ]
    },
    {
     "name": "stdout",
     "output_type": "stream",
     "text": [
      "\n",
      "=== Texte 23 ===\n",
      "\n",
      "🔹 Fixed sentence :\n",
      "THE VAMPYRE;\n",
      "ct: A Tole.\n",
      "By John William Polidori.\n",
      "THE superstition upon which this tale is founded is very general in the East. Amang the Arabians it appears to be common: it did riot, however, extend itself to the Greeks until clfter the establishment of Christianity; and it has only assumed its p\n"
     ]
    },
    {
     "name": "stdin",
     "output_type": "stream",
     "text": [
      "Score for this part (1–5):  3\n"
     ]
    },
    {
     "name": "stdout",
     "output_type": "stream",
     "text": [
      "\n",
      "🔹 First random sentence :\n",
      "y; for he sails in his felucca very osten to the different islands .\"\n",
      "This account excited our curiosity very much, and we lost no time in hastening to the house where our countryman had resided. We were kindly received by an old man, who conducted us over the mansion. It consisted of four apartment\n"
     ]
    },
    {
     "name": "stdin",
     "output_type": "stream",
     "text": [
      "Score for this part (1–5):  3\n"
     ]
    },
    {
     "name": "stdout",
     "output_type": "stream",
     "text": [
      "\n",
      "🔹 Second random sentence :\n",
      "ho this rainblerin Greece could be. He had money just was evident: he had a philanthropy of disposition, and all those eccentricities which mark peculiar genius. ct: Arrived at Palermo, all our doubts were dispelled. Falling in the company with Mr. FOSTER, the architect, a pupil of WYATTLES, who had\n"
     ]
    },
    {
     "name": "stdin",
     "output_type": "stream",
     "text": [
      "Score for this part (1–5):  3\n"
     ]
    },
    {
     "name": "stdout",
     "output_type": "stream",
     "text": [
      "\n",
      "=== Texte 24 ===\n",
      "\n",
      "🔹 Fixed sentence :\n",
      "THE VAMPYRE;\n",
      "ct: A Tale.\n",
      "By John William Polidori.\n",
      "THE superstition upon which this tale is founded is very general in the East. Arnong thc Arabians it appears to be common: it did nol, however, extend itself to the Greeks until after the establishment of Cbristianity; clt which time, the idea becom\n"
     ]
    },
    {
     "name": "stdin",
     "output_type": "stream",
     "text": [
      "Score for this part (1–5):  2\n"
     ]
    },
    {
     "name": "stdout",
     "output_type": "stream",
     "text": [
      "\n",
      "🔹 First random sentence :\n",
      "ed by several, apparently in earnest conversation; he attempted to pass and get near ber, when once, whom requested to move, turned round, and revcaled to him, those features he mast abhorred. He sprang forward, said his sister's arm, and, with hurried step, foroed her towards the street: at the doo\n"
     ]
    },
    {
     "name": "stdin",
     "output_type": "stream",
     "text": [
      "Score for this part (1–5):  2\n"
     ]
    },
    {
     "name": "stdout",
     "output_type": "stream",
     "text": [
      "\n",
      "🔹 Second random sentence :\n",
      "mongst them, of whose presence they were uncanscious, he determined to enter again into society, and watch him closely, anxious to forewarn, in spite of his oath, all whom Lord Ruthven approached with intimacy. But when he enlered into a room, his haggard and suspicious looks were so striking, his i\n"
     ]
    },
    {
     "name": "stdin",
     "output_type": "stream",
     "text": [
      "Score for this part (1–5):  4\n"
     ]
    },
    {
     "name": "stdout",
     "output_type": "stream",
     "text": [
      "\n",
      "=== Texte 25 ===\n",
      "\n",
      "🔹 Fixed sentence :\n",
      "THE VAMPYRE;\n",
      "ct: A Tale.\n",
      "By John Williain Polidori.\n",
      "THE support section which this place is founded is very general in the class. Among the Arabians it appears to be common: it did not, however, extend itsels to the Greeks until after the establishment of Christiariity; and it has only assumed its p\n"
     ]
    },
    {
     "name": "stdin",
     "output_type": "stream",
     "text": [
      "Score for this part (1–5):  3\n"
     ]
    },
    {
     "name": "stdout",
     "output_type": "stream",
     "text": [
      "\n",
      "🔹 First random sentence :\n",
      "hat it fitted, lough peculiarly shaped, the shath he held in his hand. His eyes seemed to need no further certainty — they seemed gazing to be bound to the dagger; yet still he wished to disbelieve; both the particular form, the same varying tintsvon the haft and s heath were alike in splendour on b\n"
     ]
    },
    {
     "name": "stdin",
     "output_type": "stream",
     "text": [
      "Score for this part (1–5):  3\n"
     ]
    },
    {
     "name": "stdout",
     "output_type": "stream",
     "text": [
      "\n",
      "🔹 Second random sentence :\n",
      "it was evident: he had a philosophy of disposition, and all those secce-\n",
      "the ntricities which mark peculiar genius. A arrived at Palermo, all our doubts were dispelled. Falling in the company with Mr. FOSTER, the architect, a pupil of WYATTLES, who had been travelling in Egypt and Greece.\n",
      "ce ,\"The i\n"
     ]
    },
    {
     "name": "stdin",
     "output_type": "stream",
     "text": [
      "Score for this part (1–5):  4\n"
     ]
    },
    {
     "name": "stdout",
     "output_type": "stream",
     "text": [
      "\n",
      "=== Texte 26 ===\n",
      "\n",
      "🔹 Fixed sentence :\n",
      "THE VAMPYRE;\n",
      "ct: A Tale.\n",
      "By John William Polidori.\n",
      "THE suporstition upon which this tale is founded is very general in the East. Among the Arabians it appears to be common: it did not, however, extend itself to the Greekf until after the estoblishment of Christianity; and it has only assumed its pre\n"
     ]
    },
    {
     "name": "stdin",
     "output_type": "stream",
     "text": [
      "Score for this part (1–5):  4\n"
     ]
    },
    {
     "name": "stdout",
     "output_type": "stream",
     "text": [
      "\n",
      "🔹 First random sentence :\n",
      "on. Most of these books were filled with marginal notes, written with a pencil, in Italian and Latiri. The Messich was literally scribbled all over, and marked with slips of paper, on which also were remarks.\n",
      "The old man said :\"The lord had been reading these books which euening before he sailed, an\n"
     ]
    },
    {
     "name": "stdin",
     "output_type": "stream",
     "text": [
      "Score for this part (1–5):  3\n"
     ]
    },
    {
     "name": "stdout",
     "output_type": "stream",
     "text": [
      "\n",
      "🔹 Second random sentence :\n",
      "t her humsolf the use of it.\n",
      "Such was the information with which we departed from the peaceful isle of Mitylene; our imaginations all over the rack, guessing this ramber in Greece could he. He had money, it was evident: he had a philanthropy of disposition, and all those eccentricities which mark pe\n"
     ]
    },
    {
     "name": "stdin",
     "output_type": "stream",
     "text": [
      "Score for this part (1–5):  4\n"
     ]
    },
    {
     "name": "stdout",
     "output_type": "stream",
     "text": [
      "\n",
      "=== Texte 27 ===\n",
      "\n",
      "🔹 Fixed sentence :\n",
      "THE VAMPYRE;\n",
      "ct: A Tale.\n",
      "By John William Polidori.\n",
      "THE superftition upon which this tale is found is very general in the East. Amorig tbe Arabians it appears to be comman: it did not, however, extend itself to the Greeks until after the establishment of Christianity; and it has only assumed this pre\n"
     ]
    },
    {
     "name": "stdin",
     "output_type": "stream",
     "text": [
      "Score for this part (1–5):  3\n"
     ]
    },
    {
     "name": "stdout",
     "output_type": "stream",
     "text": [
      "\n",
      "🔹 First random sentence :\n",
      " however, guided him. He was apparently unperceived; for, though he called, still the sounds continued, and no notice was taken of him. He found himself in contact with some one, whom he immediately seized; wben a voice cried ,\"Agoin baffled!\" to which a laud laugh succeeded; and he felt himself gra\n"
     ]
    },
    {
     "name": "stdin",
     "output_type": "stream",
     "text": [
      "Score for this part (1–5):  3\n"
     ]
    },
    {
     "name": "stdout",
     "output_type": "stream",
     "text": [
      "\n",
      "🔹 Second random sentence :\n",
      "d Ruthven In the meantime, the guardians and physicjan, who had heard the wholc, and though this was but a return of his disorder, entered, and forced him from Miss Aubrcy, desired her to leave him. He fell upon his knees to them, he implored, which begged them to delay, but for one day. They, attri\n"
     ]
    },
    {
     "name": "stdin",
     "output_type": "stream",
     "text": [
      "Score for this part (1–5):  3\n"
     ]
    },
    {
     "name": "stdout",
     "output_type": "stream",
     "text": [
      "\n",
      "=== Texte 28 ===\n",
      "\n",
      "🔹 Fixed sentence :\n",
      "THE VAMPYRE;\n",
      "ct: A Tale.\n",
      "By John Williain Polidori.\n",
      "THE superstition concept which this tale is founded is very general in the East. Among the Arabians it appears to be common: it did not, however, exterid itself to the Greeks until after the establishment of Christianity; and it has orily assumed i\n"
     ]
    },
    {
     "name": "stdin",
     "output_type": "stream",
     "text": [
      "Score for this part (1–5):  4\n"
     ]
    },
    {
     "name": "stdout",
     "output_type": "stream",
     "text": [
      "\n",
      "🔹 First random sentence :\n",
      "blood of In the West it spread, with some slight variation, all over Hungary, Poland, Austria, and Lorraine, where the beljef existed, that vampyres rightly imbibed a certain portion of the blood of their victims, who hocame cmacialed, lost their strength, and speedily died af consumptions; whilst t\n"
     ]
    },
    {
     "name": "stdin",
     "output_type": "stream",
     "text": [
      "Score for this part (1–5):  3\n"
     ]
    },
    {
     "name": "stdout",
     "output_type": "stream",
     "text": [
      "\n",
      "🔹 Second random sentence :\n",
      "ays the same: his eye spoke less than his lip; arid though Aubrey was near the object of his curiosity, he obtained no greater gratification from it than the correctant exciternent of violent wishing to break that mystery, which to his exoltod imagination began to assume the appearance of something \n"
     ]
    },
    {
     "name": "stdin",
     "output_type": "stream",
     "text": [
      "Score for this part (1–5):  5\n"
     ]
    },
    {
     "name": "stdout",
     "output_type": "stream",
     "text": [
      "\n",
      "=== Texte 29 ===\n",
      "\n",
      "🔹 Fixed sentence :\n",
      "THE VAMPYRE;\n",
      "ct: A Talo.\n",
      "By John William Polidori.\n",
      "THE superftition upon which this tool is founded is very general in the East. Among tho Arabians it appears to be coinmon: it did not, however, extend itself to the Greeks until of the estahlishment of Christianity; and it has only assuined its pres\n"
     ]
    },
    {
     "name": "stdin",
     "output_type": "stream",
     "text": [
      "Score for this part (1–5):  3\n"
     ]
    },
    {
     "name": "stdout",
     "output_type": "stream",
     "text": [
      "\n",
      "🔹 First random sentence :\n",
      "ttendants, who, roused by the old woman, had come in search of him. Aubrey could no longer support himself; his rage not finding a vent, had broken a blood-vessel, and he was conveyed to bed. This was not mentioned to his sister, whowaf, not present when he entered, as the physician was afraid of ag\n"
     ]
    },
    {
     "name": "stdin",
     "output_type": "stream",
     "text": [
      "Score for this part (1–5):  3\n"
     ]
    },
    {
     "name": "stdout",
     "output_type": "stream",
     "text": [
      "\n",
      "🔹 Second random sentence :\n",
      "arked with a pile of paper, on which also were remarks.\n",
      "The old man said :\"The Lord had been reading these books lbe evening before being sailed, and forgot to place them with others; but,\" said he ,\"there they mustlie until his return; for he is so particular, that were I to move on thinking withou\n"
     ]
    },
    {
     "name": "stdin",
     "output_type": "stream",
     "text": [
      "Score for this part (1–5):  4\n"
     ]
    },
    {
     "name": "stdout",
     "output_type": "stream",
     "text": [
      "\n",
      "=== Texte 30 ===\n",
      "\n",
      "🔹 Fixed sentence :\n",
      "THE VAMPYRE;\n",
      "ct: A Tale.\n",
      "By John William Polidori.\n",
      "THE superstition upon which this college is founded if very general in the East. Among the Arabians, it appears to bc comman: it did not, hawever, extend itself to the Greeks until after the establishment of Christianity; and it has only assumed its\n"
     ]
    },
    {
     "name": "stdin",
     "output_type": "stream",
     "text": [
      "Score for this part (1–5):  3\n"
     ]
    },
    {
     "name": "stdout",
     "output_type": "stream",
     "text": [
      "\n",
      "🔹 First random sentence :\n",
      "on his retiring, to the pinnaele of a neighbouring mount, according to a promise they had given his lordship, that it should be exposed to the first cold ray of the moon that rose after his death. Aubrey astonished, and taking a sever call of the men, determined to go and bury it upon the spot where\n"
     ]
    },
    {
     "name": "stdin",
     "output_type": "stream",
     "text": [
      "Score for this part (1–5):  3\n"
     ]
    },
    {
     "name": "stdout",
     "output_type": "stream",
     "text": [
      "\n",
      "🔹 Second random sentence :\n",
      "e evening breeze.\n",
      "On the left hand, as we entered the house, a small streamlet glided away, a group-\n",
      "es, oranges and limes were clustering together on its borders, and under the shade of two large mature bushes, a marble seat with an arnamental wooden back wall placed, on which we were told, the lor\n"
     ]
    },
    {
     "name": "stdin",
     "output_type": "stream",
     "text": [
      "Score for this part (1–5):  5\n"
     ]
    },
    {
     "name": "stdout",
     "output_type": "stream",
     "text": [
      "\n",
      "=== Texte 31 ===\n",
      "\n",
      "🔹 Fixed sentence :\n",
      "THE VAMPYRE;\n",
      "ct: A Tale.\n",
      "By John William Polldorl.\n",
      "THE superftition upon which this tale is founded is very general in the East. Among the Arabians, it appears to be cominon: it did not, however, exlend itself to lhe Greeks until afler the establishment of Christianity; and it has only assumed its p\n"
     ]
    },
    {
     "name": "stdin",
     "output_type": "stream",
     "text": [
      "Score for this part (1–5):  2\n"
     ]
    },
    {
     "name": "stdout",
     "output_type": "stream",
     "text": [
      "\n",
      "🔹 First random sentence :\n",
      "lling clt length to him, he obtained an important ombassy, which served as an excuse for hastening the marriage ,( in spite of her brother's deranged state ,) which was to take place the very day before his departure from the continent.\n",
      "Aubrey, when he was left by the physician and his guardians, at\n"
     ]
    },
    {
     "name": "stdin",
     "output_type": "stream",
     "text": [
      "Score for this part (1–5):  3\n"
     ]
    },
    {
     "name": "stdout",
     "output_type": "stream",
     "text": [
      "\n",
      "🔹 Second random sentence :\n",
      "ermo, all our doubts were dispelled. Falling in company with Mr. FOSTER, the architect, a pupil of WYATTLES, who had been travelling in Egypt and Greece ,\"The individual,\" said be ,\"about whom you are so anxious, is Lord Byron; I met him on my travels on the island of Tenedos, and I also visited him\n"
     ]
    },
    {
     "name": "stdin",
     "output_type": "stream",
     "text": [
      "Score for this part (1–5):  5\n"
     ]
    },
    {
     "name": "stdout",
     "output_type": "stream",
     "text": [
      "\n",
      "=== Texte 32 ===\n",
      "\n",
      "🔹 Fixed sentence :\n",
      "THE VAMPYRE;\n",
      "ct: A Tale.\n",
      "By John William Polidori.\n",
      "THE superstition upon which this tale is found is very general in the East. Among the Arabians, it appears to be common: it did not bow-\n",
      "cvor, extend itself to the Greeks until after the establishment of Christianity; and it has only assumed its pre\n"
     ]
    },
    {
     "name": "stdin",
     "output_type": "stream",
     "text": [
      "Score for this part (1–5):  4\n"
     ]
    },
    {
     "name": "stdout",
     "output_type": "stream",
     "text": [
      "\n",
      "🔹 First random sentence :\n",
      "ight drairi the stroclm of life; Yetloathe the banquet which perforce Must feed thy living oorse, Thy victims, ero they yet expire, Shall know the demori for their sire The flowers are withered on the stem. But one that for the crime must fall, the youngest, best beloued of all, Sball bless thee wit\n"
     ]
    },
    {
     "name": "stdin",
     "output_type": "stream",
     "text": [
      "Score for this part (1–5):  2\n"
     ]
    },
    {
     "name": "stdout",
     "output_type": "stream",
     "text": [
      "\n",
      "🔹 Second random sentence :\n",
      ", whose character had not yet shown a single bright point on which to correct the eye. He resolved to invent some plausible pretext for abandoning bim altogether, purposing, intho mean while, to watchhim more closely, and to let no slight circumstonces pass by the nnotioed. He eritered into the same\n"
     ]
    },
    {
     "name": "stdin",
     "output_type": "stream",
     "text": [
      "Score for this part (1–5):  3\n"
     ]
    },
    {
     "name": "stdout",
     "output_type": "stream",
     "text": [
      "\n",
      "=== Texte 33 ===\n",
      "\n",
      "🔹 Fixed sentence :\n",
      "THE VAMPYRE;\n",
      "ct: A Tale.\n",
      "By John William Polidori.\n",
      "THE superstition version with this tale is a foreigner is a very general intho East. Among the Arabians it appears to be common: it did not, however, extend itself to the Greeks until after the establishment of Chrislianity; and it has onlyassumed i\n"
     ]
    },
    {
     "name": "stdin",
     "output_type": "stream",
     "text": [
      "Score for this part (1–5):  2\n"
     ]
    },
    {
     "name": "stdout",
     "output_type": "stream",
     "text": [
      "\n",
      "🔹 First random sentence :\n",
      "drew those remains of which he wished to preserve a memorial for his future hours, she would stand by, and watch the magic effects of his pencil, in tracing the scenes of her native place; she would then describe him the circling dance upon the open plain, would paint, to him in all the glowing colo\n"
     ]
    },
    {
     "name": "stdin",
     "output_type": "stream",
     "text": [
      "Score for this part (1–5):  4\n"
     ]
    },
    {
     "name": "stdout",
     "output_type": "stream",
     "text": [
      "\n",
      "🔹 Second random sentence :\n",
      "y of spirit which had once so distinguished him now seemed to have fled for ever. He was now as much o lover of solitude and silence as Lard Ruthven; but much as he wished for solitude, his mind could not find it in the neighbourhood of Athons; if he sought it in the woads, her light step would appe\n"
     ]
    },
    {
     "name": "stdin",
     "output_type": "stream",
     "text": [
      "Score for this part (1–5):  3\n"
     ]
    },
    {
     "name": "stdout",
     "output_type": "stream",
     "text": [
      "\n",
      "=== Texte 34 ===\n",
      "\n",
      "🔹 Fixed sentence :\n",
      "THE VAMPYRE;\n",
      "ct: A Tale.\n",
      "By John William Polidori.\n",
      "THE superstition upon which this tale is sourided is very general in the East. Among the Arabians it appears to be common: it did not, however, extend itsels to the Greeks until after the establishment of Christianity; and it has only assumed its pr\n"
     ]
    },
    {
     "name": "stdin",
     "output_type": "stream",
     "text": [
      "Score for this part (1–5):  3\n"
     ]
    },
    {
     "name": "stdout",
     "output_type": "stream",
     "text": [
      "\n",
      "🔹 First random sentence :\n",
      "erform the tour, which for many generations has been thought necessary to enable the young to take some rapid steps in the career of vice towclrds putting themselves upori an equality with lhe oged, and not allowing them to appear as if fallen from the sklef, wheriever scandalous intrigues are menti\n"
     ]
    },
    {
     "name": "stdin",
     "output_type": "stream",
     "text": [
      "Score for this part (1–5):  2\n"
     ]
    },
    {
     "name": "stdout",
     "output_type": "stream",
     "text": [
      "\n",
      "🔹 Second random sentence :\n",
      " earnestness —\"Assist me! you may save mc—you may do more than that — I moan not my life. I need the death of my existence as little as that of the passing day; but you may save my honour, your friend's honor. \"—\" How? tell me how? I would do anything ,\" replied Aubrey .—\"I need but a little —my lif\n"
     ]
    },
    {
     "name": "stdin",
     "output_type": "stream",
     "text": [
      "Score for this part (1–5):  3\n"
     ]
    },
    {
     "name": "stdout",
     "output_type": "stream",
     "text": [
      "\n",
      "=== Texte 35 ===\n",
      "\n",
      "🔹 Fixed sentence :\n",
      "THE VAMPYRE;\n",
      "The table.\n",
      "By John William Polidori.\n",
      "THE superstition upon which this tale is founded is very general in the East. Amazing! the Arabians it appears to be common: it did not, however, extend itself to the Greeks until after the establishment of Christiariity; clnd it has orily assumed it\n"
     ]
    },
    {
     "name": "stdin",
     "output_type": "stream",
     "text": [
      "Score for this part (1–5):  4\n"
     ]
    },
    {
     "name": "stdout",
     "output_type": "stream",
     "text": [
      "\n",
      "🔹 First random sentence :\n",
      "which may now be concluded by merely remarking, though the term Vampyre Js the one in most goneral acceptance, there are several others synonymous with it, made use of in various parls of the world: as Vroucolocha, Vardoulacha, Goul, Broucolaka, &\n",
      "ct: THE VAMPYRE.\n",
      "It happened that in the midst of th\n"
     ]
    },
    {
     "name": "stdin",
     "output_type": "stream",
     "text": [
      "Score for this part (1–5):  3\n"
     ]
    },
    {
     "name": "stdout",
     "output_type": "stream",
     "text": [
      "\n",
      "🔹 Second random sentence :\n",
      "terns, he cultivated more his imagination than his judgment. He had, hence, that high romantic feeling of bonour and candour, which d aily ruins of many milliners' apprentices. He believed all to sympathise with virtue, and though that vice was thrown iri by Providence merely for the picturesque eff\n"
     ]
    },
    {
     "name": "stdin",
     "output_type": "stream",
     "text": [
      "Score for this part (1–5):  2\n"
     ]
    },
    {
     "name": "stdout",
     "output_type": "stream",
     "text": [
      "\n",
      "=== Texte 36 ===\n",
      "\n",
      "🔹 Fixed sentence :\n",
      "THE VAMPYRE;\n",
      "ct: A Tale.\n",
      "By John William Poidori.\n",
      "THE superstition upon which this tale is founded is a very general in the East. Among the Arabians it appears to be common: it did not, however, extend itself to the Greeks until after the establishment of Christianity; and it has only assumed its pr\n"
     ]
    },
    {
     "name": "stdin",
     "output_type": "stream",
     "text": [
      "Score for this part (1–5):  5\n"
     ]
    },
    {
     "name": "stdout",
     "output_type": "stream",
     "text": [
      "\n",
      "🔹 First random sentence :\n",
      " though they thus hastened from the place to place, yet they seemed not to heed what they gazed upon. They heard a lot of robbers, but they gradually began to slight these reports, which they imagined were only the notion of individuals, whose interest it was to excute the generosity of those whoin \n"
     ]
    },
    {
     "name": "stdin",
     "output_type": "stream",
     "text": [
      "Score for this part (1–5):  4\n"
     ]
    },
    {
     "name": "stdout",
     "output_type": "stream",
     "text": [
      "\n",
      "🔹 Second random sentence :\n",
      "to the assembly of a near location. Leaving her under the protection of a matron, he returned into a recess, and there gave himself up to his own devouring thoughts. Perceiving, at last, that many were leaving, he roused himself, and entered another room, found his sister surrounded by several, appa\n"
     ]
    },
    {
     "name": "stdin",
     "output_type": "stream",
     "text": [
      "Score for this part (1–5):  4\n"
     ]
    },
    {
     "name": "stdout",
     "output_type": "stream",
     "text": [
      "\n",
      "=== Texte 37 ===\n",
      "\n",
      "🔹 Fixed sentence :\n",
      "THE VAMPYRE;\n",
      "ct: A Tale.\n",
      "By John Williain Polidorl.\n",
      "THE superstition upon which this tale is sounded if very general in the East. Among the tbe Arabianf will appear to be common: it does not, however, extend itself to the Greeks until after the establishment of Christianily; clnd it has only assumed\n"
     ]
    },
    {
     "name": "stdin",
     "output_type": "stream",
     "text": [
      "Score for this part (1–5):  3\n"
     ]
    },
    {
     "name": "stdout",
     "output_type": "stream",
     "text": [
      "\n",
      "🔹 First random sentence :\n",
      " was his surprise at bebolding the features of the monster who had so long influenced his life. He sent the portrait in a paroxysm of rago, and trampled it vndcr foot. Upon her asking hlm why he thus destroyed theresemblance of her father husband, he looked as if he did not understarid her—then seiz\n"
     ]
    },
    {
     "name": "stdin",
     "output_type": "stream",
     "text": [
      "Score for this part (1–5):  2\n"
     ]
    },
    {
     "name": "stdout",
     "output_type": "stream",
     "text": [
      "\n",
      "🔹 Second random sentence :\n",
      ", the guardians and pbysician, who had heard the whole, and thought this was but called the return of his disorder, entered, and forcing him from Miss Aubrey, didsired her to leave him. He fell upon his knees to them, be implored, he begged off them to delay, but for one day. They, attributing this \n"
     ]
    },
    {
     "name": "stdin",
     "output_type": "stream",
     "text": [
      "Score for this part (1–5):  3\n"
     ]
    },
    {
     "name": "stdout",
     "output_type": "stream",
     "text": [
      "\n",
      "=== Texte 38 ===\n",
      "\n",
      "🔹 Fixed sentence :\n",
      " THEVAMPYRE;\n",
      "ct: A Tale.\n",
      "By John William Polidori.\n",
      "THE superstition upon which this tale is founded is very general in the East. Among the Arablans it appears to be common: it did not, however, extend itself to the Greeks until after the establishment of Christianity; and it has only assumed its pre\n"
     ]
    },
    {
     "name": "stdin",
     "output_type": "stream",
     "text": [
      "Score for this part (1–5):  5\n"
     ]
    },
    {
     "name": "stdout",
     "output_type": "stream",
     "text": [
      "\n",
      "🔹 First random sentence :\n",
      " sister in the possession of great wealth, by priests who died while he was still in childhood. Left also to himself by guardians, who thought it their duty merely to take care of his fortune, while they relinquished the more important charge of his mind to the care of mercenary subaltcrns, he culli\n"
     ]
    },
    {
     "name": "stdin",
     "output_type": "stream",
     "text": [
      "Score for this part (1–5):  4\n"
     ]
    },
    {
     "name": "stdout",
     "output_type": "stream",
     "text": [
      "\n",
      "🔹 Second random sentence :\n",
      "ften as she told him the tale of the living vampyre, wbo had passed years amidst his friends, arid dearest ties,forced every year, by feeding upon the lise of a lovely female to prolong his existence for the ensuing months, hjs 6 lood would run cold, whilst he attempted to laugh her out of She detai\n"
     ]
    },
    {
     "name": "stdin",
     "output_type": "stream",
     "text": [
      "Score for this part (1–5):  2\n"
     ]
    },
    {
     "name": "stdout",
     "output_type": "stream",
     "text": [
      "\n",
      "=== Texte 39 ===\n",
      "\n",
      "🔹 Fixed sentence :\n",
      "THE VAMPYRE;\n",
      "ct: A Tale.\n",
      "By John William Polidori.\n",
      "THE superstition upon which this tale is founded is very general in the East. Among the Arabiaris it appears to be common: it does not, however, extend itself to the Greeks until after the establishment of Christianity; and it has only assumed its p\n"
     ]
    },
    {
     "name": "stdin",
     "output_type": "stream",
     "text": [
      "Score for this part (1–5):  4\n"
     ]
    },
    {
     "name": "stdout",
     "output_type": "stream",
     "text": [
      "\n",
      "🔹 First random sentence :\n",
      "riend to a neighboring cabin; and having agreed upon a ransom, be was no more disturbed by their presence—they being content merely to guard the entrance till their compromise should return with the promised svm, for which he had an order. Lord Rulhvens strength rapidly decreased; long two days mort\n"
     ]
    },
    {
     "name": "stdin",
     "output_type": "stream",
     "text": [
      "Score for this part (1–5):  3\n"
     ]
    },
    {
     "name": "stdout",
     "output_type": "stream",
     "text": [
      "\n",
      "🔹 Second random sentence :\n",
      "arble pillars with black plinths and frel-work cornices ,( as it is now customary in Grecicln architecture ,) were considered higher than the roof. The roof, surrounded by a light stone balustrode, was covered by a fine Turkish carpot, beneath an awning of a strong coarse lin en. Most of the house-t\n"
     ]
    },
    {
     "name": "stdin",
     "output_type": "stream",
     "text": [
      "Score for this part (1–5):  3\n"
     ]
    },
    {
     "name": "stdout",
     "output_type": "stream",
     "text": [
      "\n",
      "=== Texte 40 ===\n",
      "\n",
      "🔹 Fixed sentence :\n",
      "THE VAMPYRE;\n",
      "ct: A Tale.\n",
      "By John William Polidori.\n",
      "THE superstitlon upon which this tale is founded is a very general in the East. Among the Arabians it appears to be common: lt did nol, however, extend itself to the Greeks until after the eslablishment of Chrlstianity; and it has only assurned its \n"
     ]
    },
    {
     "name": "stdin",
     "output_type": "stream",
     "text": [
      "Score for this part (1–5):  3\n"
     ]
    },
    {
     "name": "stdout",
     "output_type": "stream",
     "text": [
      "\n",
      "🔹 First random sentence :\n",
      "and he often gave Greek Testaments to the poor children. In short, he appeared to us, from all we collected, to have been a very eccentric and benevolent character. One circumstanco we learnt, which our old friend at the cottage thought the proper not to disclose. He had a most beautiful daughter, w\n"
     ]
    },
    {
     "name": "stdin",
     "output_type": "stream",
     "text": [
      "Score for this part (1–5):  3\n"
     ]
    },
    {
     "name": "stdout",
     "output_type": "stream",
     "text": [
      "\n",
      "🔹 Second random sentence :\n",
      "ake this statement, bolieving is not quite uninteresting, and in iustice this lordship's good name, which has been grossly slandered. He has been described as an unfeeling disposition, clever to assoclating with human nature, or contributing in any way to smooth its sorrows, or adding to this pleasu\n"
     ]
    },
    {
     "name": "stdin",
     "output_type": "stream",
     "text": [
      "Score for this part (1–5):  2\n"
     ]
    },
    {
     "name": "stdout",
     "output_type": "stream",
     "text": [
      "\n",
      "=== Texte 41 ===\n",
      "\n",
      "🔹 Fixed sentence :\n",
      "THE VAMPYRE;\n",
      "ct: A Tale.\n",
      "By John William Polidori.\n",
      "THE superstition upon which this tale is founded is very general in the East. Ainong lhe Arabians it appears to be common: it did not, however, oxtoriditself to be Greeks until after the establishment of Christianity; and it has only assumed its pre\n"
     ]
    },
    {
     "name": "stdin",
     "output_type": "stream",
     "text": [
      "Score for this part (1–5):  2\n"
     ]
    },
    {
     "name": "stdout",
     "output_type": "stream",
     "text": [
      "\n",
      "🔹 First random sentence :\n",
      "d the resemblance of her future husband, he looked as if he did not understand ber—then sejzing her hands, and gazing at her with a franlic expression of countenance, he bade her swear that sbe would never wed this monfter, sor he—But he could not advance — it seemed as if that voice again bade him \n"
     ]
    },
    {
     "name": "stdin",
     "output_type": "stream",
     "text": [
      "Score for this part (1–5):  2\n"
     ]
    },
    {
     "name": "stdout",
     "output_type": "stream",
     "text": [
      "\n",
      "🔹 Second random sentence :\n",
      "smooth as glass, and an horizon unshadowed by a single cloud, terminates the view in sront; and a little on the left, through the avista of lofty chesnut and palm-trces, several small islands were distinctly observed, studding the light blue wave with spots of emerald green. I seldom enjoy a video m\n"
     ]
    },
    {
     "name": "stdin",
     "output_type": "stream",
     "text": [
      "Score for this part (1–5):  2\n"
     ]
    },
    {
     "name": "stdout",
     "output_type": "stream",
     "text": [
      "\n",
      "=== Texte 42 ===\n",
      "\n",
      "🔹 Fixed sentence :\n",
      "THE VAMPYRE;\n",
      "ct: A Tole.\n",
      "By Jonathan Poidori.\n",
      "THE fuperstition upon which this talk is a frog is very generous in the East. Among the Arabians it appears to be common: it did nol, however, extend itself to the Greeks unlil after the establishment of Christianity; and it has only assumod its present \n"
     ]
    },
    {
     "name": "stdin",
     "output_type": "stream",
     "text": [
      "Score for this part (1–5):  2\n"
     ]
    },
    {
     "name": "stdout",
     "output_type": "stream",
     "text": [
      "\n",
      "🔹 First random sentence :\n",
      "rest iri his fate, he gradually won the ear of Miss Aubrey. What could resist his power? His tongue had dangers and tolls to recount— could speak of himself as an individual having rio sympathy with any being on theerowded earth, save with her to whom be addressed himself;— could tell how, since he \n"
     ]
    },
    {
     "name": "stdin",
     "output_type": "stream",
     "text": [
      "Score for this part (1–5):  \n"
     ]
    },
    {
     "name": "stdout",
     "output_type": "stream",
     "text": [
      "Score has to be an integer, between 1 and 5\n"
     ]
    },
    {
     "name": "stdin",
     "output_type": "stream",
     "text": [
      "Score for this part (1–5):  4\n"
     ]
    },
    {
     "name": "stdout",
     "output_type": "stream",
     "text": [
      "\n",
      "🔹 Second random sentence :\n",
      " if it were mercly that he might listen to a ber soothing accerits ;— fine, he knew so well how to use the serpents art, or such was to the will of fote, that he gained her affect The topic of the elder branch falling at length to him, he obtained an important embassy, which served as an excuse forh\n"
     ]
    },
    {
     "name": "stdin",
     "output_type": "stream",
     "text": [
      "Score for this part (1–5):  3\n"
     ]
    },
    {
     "name": "stdout",
     "output_type": "stream",
     "text": [
      "\n",
      "=== Texte 43 ===\n",
      "\n",
      "🔹 Fixed sentence :\n",
      "THE VAMPYRE;\n",
      "ct: A Tale.\n",
      "By John William Polidori.\n",
      "THE superstition upon which this tale is founded if very general is the East. Among the Arabians, it appears to be commori: just did not, however, extend itself to the Greeks unlil after the cstablishment of Christianity; and it has only assumed its\n"
     ]
    },
    {
     "name": "stdin",
     "output_type": "stream",
     "text": [
      "Score for this part (1–5):  3\n"
     ]
    },
    {
     "name": "stdout",
     "output_type": "stream",
     "text": [
      "\n",
      "🔹 First random sentence :\n",
      "s, from which he had formed hls study. Finding, however, some compensation in his gratified vanity, he was about to relinquish his dreams, whon the extraordinary being we have above defcribed, crossed him in his career.\n",
      "He watched him; and the very impossibility of forming an idea of the character o\n"
     ]
    },
    {
     "name": "stdin",
     "output_type": "stream",
     "text": [
      "Score for this part (1–5):  3\n"
     ]
    },
    {
     "name": "stdout",
     "output_type": "stream",
     "text": [
      "\n",
      "🔹 Second random sentence :\n",
      "or which he bad an order. Lord Ruthvens strength rapidly decreased; in two days rnortification ensued, and death seemed advancing with hasty stepf. His coriduct and appe arance had not changed; he seemed as uncoriscious of pain as he had been of the objects about him: but towards the close of the la\n"
     ]
    },
    {
     "name": "stdin",
     "output_type": "stream",
     "text": [
      "Score for this part (1–5):  1\n"
     ]
    },
    {
     "name": "stdout",
     "output_type": "stream",
     "text": [
      "\n",
      "=== Texte 44 ===\n",
      "\n",
      "🔹 Fixed sentence :\n",
      "THE VAMPYRE;\n",
      "ct: A Tale.\n",
      "By John William Polidori.\n",
      "THE superstletion upon which this tale is founded is very general in the East. Am orig the Arabians it appears to be common: it did not, however, extend itself to the Greeks until after the establishment of Chrislianity; and it has anly assumed its \n"
     ]
    },
    {
     "name": "stdin",
     "output_type": "stream",
     "text": [
      "Score for this part (1–5):  3\n"
     ]
    },
    {
     "name": "stdout",
     "output_type": "stream",
     "text": [
      "\n",
      "🔹 First random sentence :\n",
      "bating the cunning of the more experienced. Aubrey often wished to represent this love hif friend, and beg him to resign that charity and pleasure which proved the ruin of all, and did not tend to his own profit ;— but he delayed it — for each day he hoped his friend would give him some opportunity \n"
     ]
    },
    {
     "name": "stdin",
     "output_type": "stream",
     "text": [
      "Score for this part (1–5):  4\n"
     ]
    },
    {
     "name": "stdout",
     "output_type": "stream",
     "text": [
      "\n",
      "🔹 Second random sentence :\n",
      "frequented. In Italy, it is a feldom that is uninarried female is met with in society; he was therefore obliged to carry on his plans in secret; but Auhreyf eye followed him in all his windings, and soon discovered that an asslgnation had been appointed, which would most likely end in the ruin of an\n"
     ]
    },
    {
     "name": "stdin",
     "output_type": "stream",
     "text": [
      "Score for this part (1–5):  3\n"
     ]
    },
    {
     "name": "stdout",
     "output_type": "stream",
     "text": [
      "\n",
      "=== Texte 45 ===\n",
      "\n",
      "🔹 Fixed sentence :\n",
      "THE VAMPYRE;\n",
      "A call.\n",
      "By John William Polidori.\n",
      "THE superstition upon which this tale is founded is very general in the East. Among the Arabians it appears to be eommori: it did not, howcver, extend itself to the Greeks until after the establishment of Cbristianity; and it has only saved its present \n"
     ]
    },
    {
     "name": "stdin",
     "output_type": "stream",
     "text": [
      "Score for this part (1–5):  2\n"
     ]
    },
    {
     "name": "stdout",
     "output_type": "stream",
     "text": [
      "\n",
      "🔹 First random sentence :\n",
      "resentations, and tried to laugh them out of the idea; but when he saw them shudder at this daring thus to make a superior, infernal power, the very name of which apparently made their blood freeze, he was fluent.\n",
      "Next, moming Aubrey set off upon a hif excursion unattended; he was surprised to obser\n"
     ]
    },
    {
     "name": "stdin",
     "output_type": "stream",
     "text": [
      "Score for this part (1–5):  4\n"
     ]
    },
    {
     "name": "stdout",
     "output_type": "stream",
     "text": [
      "\n",
      "🔹 Second random sentence :\n",
      "ltons Paradise Lost, an Italian edilion, printed at Parma in 1810; several small pamphlets from the Greek press at Constantinople, muoh torn, but no Most of these books were filled with marginal notes, written with a pencil, in Italian and Latin. The Messiah was literally scribbled all over, and mar\n"
     ]
    },
    {
     "name": "stdin",
     "output_type": "stream",
     "text": [
      "Score for this part (1–5):  3\n"
     ]
    },
    {
     "name": "stdout",
     "output_type": "stream",
     "text": [
      "\n",
      "=== Texte 46 ===\n",
      "\n",
      "🔹 Fixed sentence :\n",
      "THE VAMPYRE;\n",
      "ct: A Tale.\n",
      "By John Willjam Polidori.\n",
      "THE superstition upon which this tale is founded just very general in the East. Among the Arabians it appears to be common: it did not, however, extend itself to the Greeksuntil after the establishment of Christianity; and it has only assumed its pr\n"
     ]
    },
    {
     "name": "stdin",
     "output_type": "stream",
     "text": [
      "Score for this part (1–5):  5\n"
     ]
    },
    {
     "name": "stdout",
     "output_type": "stream",
     "text": [
      "\n",
      "🔹 First random sentence :\n",
      "ighter realm. Her step was not that light footing, which strayswhereer a butterfly or a colour moyattract — was sedate and pensive. When alone, her space was never brightened by the smile of joylbut when her brother breclthed to her affection, and would in her presence forget those griefs she knew d\n"
     ]
    },
    {
     "name": "stdin",
     "output_type": "stream",
     "text": [
      "Score for this part (1–5):  3\n"
     ]
    },
    {
     "name": "stdout",
     "output_type": "stream",
     "text": [
      "\n",
      "🔹 Second random sentence :\n",
      "elago, on board one of bis Majesty vesself, in the year 1812, we went into the harbour of Mitylene, on the island of that name. The beauty of this place, and the certain supply of cattle and vegetables always to be had there, induce many British vessels to visit it—both men of war and merchantmen; a\n"
     ]
    },
    {
     "name": "stdin",
     "output_type": "stream",
     "text": [
      "Score for this part (1–5):  4\n"
     ]
    },
    {
     "name": "stdout",
     "output_type": "stream",
     "text": [
      "\n",
      "=== Texte 47 ===\n",
      "\n",
      "🔹 Fixed sentence :\n",
      "THE VAMPYRE;\n",
      "ct: A Talc.\n",
      "By John Willlam Pollard.\n",
      "THE superstition upon which this tale is founded is very general in the East. Among the Arabians it appears to be common: it did not, however, extend itself to the Greeks unlil aster the establishment of Christianity; and it has only asfumed its pres\n"
     ]
    },
    {
     "name": "stdin",
     "output_type": "stream",
     "text": [
      "Score for this part (1–5):  4\n"
     ]
    },
    {
     "name": "stdout",
     "output_type": "stream",
     "text": [
      "\n",
      "🔹 First random sentence :\n",
      "on discovered that an assignation had been oppointed, which would most likely end to the ruin of an innocent, though thoughtless girl. Losing no time, he ontered the apartment of LordRuthven, and abruply asked him his intentions with respect to the lady, informing him at some time that he was aware \n"
     ]
    },
    {
     "name": "stdin",
     "output_type": "stream",
     "text": [
      "Score for this part (1–5):  4\n"
     ]
    },
    {
     "name": "stdout",
     "output_type": "stream",
     "text": [
      "\n",
      "🔹 Second random sentence :\n",
      "race, which gains the game and applause of the drawing-room assomblies. There was none of that light brilliancy which only exists in the beated atmosphere of a crowded apartment. Her blue eye was never lit up by the levity of the mind beneath. There was a melancholy chorm about it which did not seem\n"
     ]
    },
    {
     "name": "stdin",
     "output_type": "stream",
     "text": [
      "Score for this part (1–5):  4\n"
     ]
    },
    {
     "name": "stdout",
     "output_type": "stream",
     "text": [
      "Look at you csv files !! \n"
     ]
    }
   ],
   "source": [
    "import pandas as pd\n",
    "import random\n",
    "\n",
    "def get_random_chunks(text, fixed_len=300):\n",
    "\n",
    "    fixed_chunk = text[:fixed_len]\n",
    "\n",
    "    start1 = random.randint(fixed_len, len(text) - 600)\n",
    "    start2 = random.randint(start1 + fixed_len, len(text) - fixed_len)\n",
    "\n",
    "    random_chunk_1 = text[start1:start1 + fixed_len]\n",
    "    random_chunk_2 = text[start2:start2 + fixed_len]\n",
    "\n",
    "    return fixed_chunk, random_chunk_1, random_chunk_2\n",
    "\n",
    "def ask_score(prompt):\n",
    "    while True:\n",
    "        try:\n",
    "            score = int(input(f\"{prompt} (1–5): \"))\n",
    "            if score in [1, 2, 3, 4, 5]:\n",
    "                return score\n",
    "            else:\n",
    "                print(\"Score has to be between 1 and 5\")\n",
    "        except:\n",
    "            print(\"Score has to be an integer, between 1 and 5\")\n",
    "\n",
    "def main():\n",
    "    df = pd.read_csv(\"back_translation_correction.csv\")\n",
    "    results = []\n",
    "\n",
    "    for idx, row in df.iterrows():\n",
    "        print(f\"\\n=== Texte {idx} ===\")\n",
    "        text = row[\"corrected_text\"]\n",
    "        fixed, rand1, rand2 = get_random_chunks(text)\n",
    "\n",
    "        print(\"\\n🔹 Fixed sentence :\")\n",
    "        print(fixed)\n",
    "        score_fixed = ask_score(\"Score for this part\")\n",
    "\n",
    "        print(\"\\n🔹 First random sentence :\")\n",
    "        print(rand1)\n",
    "        score_rand1 = ask_score(\"Score for this part\")\n",
    "\n",
    "        print(\"\\n🔹 Second random sentence :\")\n",
    "        print(rand2)\n",
    "        score_rand2 = ask_score(\"Score for this part\")\n",
    "\n",
    "        results.append({\n",
    "            \"text_index\": idx,\n",
    "            \"fixed_chunk\": fixed,\n",
    "            \"score_fixed\": score_fixed,\n",
    "            \"random_chunk_1\": rand1,\n",
    "            \"score_random_1\": score_rand1,\n",
    "            \"random_chunk_2\": rand2,\n",
    "            \"score_random_2\": score_rand2\n",
    "        })\n",
    "\n",
    "    # Export CSV\n",
    "    output_df = pd.DataFrame(results)\n",
    "    output_df.to_csv(\"Back_translation_manual_scores.csv\", index=False)\n",
    "    print(\"Look at you csv files !! \")\n",
    "\n",
    "if __name__ == \"__main__\":\n",
    "    main()"
   ]
  }
 ],
 "metadata": {
  "kernelspec": {
   "display_name": "Python 3 (ipykernel)",
   "language": "python",
   "name": "python3"
  },
  "language_info": {
   "codemirror_mode": {
    "name": "ipython",
    "version": 3
   },
   "file_extension": ".py",
   "mimetype": "text/x-python",
   "name": "python",
   "nbconvert_exporter": "python",
   "pygments_lexer": "ipython3",
   "version": "3.12.9"
  }
 },
 "nbformat": 4,
 "nbformat_minor": 5
}
