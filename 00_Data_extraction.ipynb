{
 "cells": [
  {
   "cell_type": "code",
   "execution_count": null,
   "id": "b0e57255-d169-461a-9ce0-001c8963c4d8",
   "metadata": {},
   "outputs": [],
   "source": [
    "import zipfile\n",
    "import os\n",
    "\n",
    "# Chemin initial avec ~\n",
    "zip_path = \"~/work/MNLP-project-2/ocr_datasets.zip\"\n",
    "extract_dir = \"~/work/MNLP-project-2/extracted\"\n",
    "\n",
    "# Conversion vers chemin absolu\n",
    "zip_path = os.path.expanduser(zip_path)\n",
    "extract_dir = os.path.expanduser(extract_dir)\n",
    "\n",
    "# Crée le dossier de destination s'il n'existe pas\n",
    "os.makedirs(extract_dir, exist_ok=True)\n",
    "\n",
    "# Ouvre et extrait le fichier ZIP\n",
    "with zipfile.ZipFile(zip_path, 'r') as zip_ref:\n",
    "    zip_ref.extractall(extract_dir)\n",
    "    print(\"Fichiers extraits dans :\", extract_dir)\n",
    "\n",
    "# Lister le contenu\n",
    "print(\"Contenu du ZIP :\")\n",
    "for file_name in zip_ref.namelist():\n",
    "    print(file_name)"
   ]
  }
 ],
 "metadata": {
  "kernelspec": {
   "display_name": "Python 3 (ipykernel)",
   "language": "python",
   "name": "python3"
  },
  "language_info": {
   "codemirror_mode": {
    "name": "ipython",
    "version": 3
   },
   "file_extension": ".py",
   "mimetype": "text/x-python",
   "name": "python",
   "nbconvert_exporter": "python",
   "pygments_lexer": "ipython3",
   "version": "3.12.9"
  }
 },
 "nbformat": 4,
 "nbformat_minor": 5
}
